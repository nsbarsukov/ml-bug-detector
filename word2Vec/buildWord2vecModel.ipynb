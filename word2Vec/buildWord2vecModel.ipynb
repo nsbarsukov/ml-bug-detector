{
 "cells": [
  {
   "cell_type": "markdown",
   "metadata": {},
   "source": [
    "# Интро и полезная литература"
   ]
  },
  {
   "cell_type": "markdown",
   "metadata": {},
   "source": [
    "### Литература"
   ]
  },
  {
   "cell_type": "markdown",
   "metadata": {},
   "source": [
    "- [Word2vec в картинках](https://habr.com/ru/post/446530/). Статья на хабре от 2019 года.\n",
    "- [Презентация](http://www.machinelearning.ru/wiki/images/b/b3/Word2Vec.pdf) (2017 год) с примерами реализации кода на библиотеке gensim\n",
    " \n",
    "Так как Word2Vec - это уже не просто единичная реализация, а группа алгоритмов для получения векторных представлений слов, то существует масса различных пакетов на эту тему. Мы будем пользоваться gensim.\n",
    "\n",
    "- [Gensim – Руководство для начинающих](https://webdevblog.ru/gensim-rukovodstvo-dlya-nachinajushhih/). Здесь нужно изучить ряд терминов, чтобы понимать принцип работы библиотеки. Статья 2019 года.\n",
    "- [A Beginner’s Guide to Word Embedding with Gensim Word2Vec Model](https://towardsdatascience.com/a-beginners-guide-to-word-embedding-with-gensim-word2vec-model-5970fa56cc92). Статья 2019 года. По ней хорошо учиться писать код."
   ]
  },
  {
   "cell_type": "markdown",
   "metadata": {},
   "source": [
    "### Термины"
   ]
  },
  {
   "cell_type": "markdown",
   "metadata": {},
   "source": [
    "- **Токен** обычно означает «слово»\n",
    "- **Документ** обычно может относиться как к «предложению» так и к «абзацу»\n",
    "- **Корпус** обычно представляет собой «собрание документов» в виде пакета слов или как его еще называют мешка слов "
   ]
  },
  {
   "cell_type": "markdown",
   "metadata": {},
   "source": [
    "# Импорт локальных констант и функций"
   ]
  },
  {
   "cell_type": "markdown",
   "metadata": {},
   "source": [
    "Вначале перейдём на уровень рутового пути репозитория\n",
    "(в дальнейшем всегда пишем пути от корня репозитория)"
   ]
  },
  {
   "cell_type": "code",
   "execution_count": 1,
   "metadata": {},
   "outputs": [
    {
     "name": "stdout",
     "output_type": "stream",
     "text": [
      "/Users/n.barsukov/WebstormProjects/ml-bug-detector\n"
     ]
    }
   ],
   "source": [
    "cd .."
   ]
  },
  {
   "cell_type": "markdown",
   "metadata": {},
   "source": [
    "Заимпортируем всё, что нам пригодится в дальнейшем"
   ]
  },
  {
   "cell_type": "code",
   "execution_count": 2,
   "metadata": {},
   "outputs": [],
   "source": [
    "from shared.helpers.word2VecPreprocessing import filter_tokens_fo_Word2Vec"
   ]
  },
  {
   "cell_type": "markdown",
   "metadata": {},
   "source": [
    "Также внешние библиотеки подключим сразу"
   ]
  },
  {
   "cell_type": "code",
   "execution_count": 3,
   "metadata": {},
   "outputs": [],
   "source": [
    "from os import walk\n",
    "import pandas as pd\n",
    "import json\n",
    "\n",
    "from gensim.models.word2vec import Word2Vec\n",
    "from multiprocessing import cpu_count\n",
    "from tqdm.notebook import tqdm"
   ]
  },
  {
   "cell_type": "markdown",
   "metadata": {},
   "source": [
    "# Готовим данные перед построением модели"
   ]
  },
  {
   "cell_type": "code",
   "execution_count": 4,
   "metadata": {},
   "outputs": [],
   "source": [
    "# папка, в которой лежат нужные нам json\n",
    "FOLDER_WITH_JSONS = 'data'\n",
    "\n",
    "# как начинается имя json, в которых лежат токенизированные скрипты\n",
    "TOKENIZED_JSON_START_WITH_PREFIX = 'tokenized-scripts'"
   ]
  },
  {
   "cell_type": "markdown",
   "metadata": {},
   "source": [
    "Так как токенизация была разбита на микрозадачи (чтобы хватило мощностей компьютера), то и json у нас много теперь."
   ]
  },
  {
   "cell_type": "code",
   "execution_count": 5,
   "metadata": {},
   "outputs": [],
   "source": [
    "# filenames - Список всех файлов в интересуемой нами директории\n",
    "fdirpath, dirnames, filenames = list(walk(FOLDER_WITH_JSONS))[0]\n",
    "\n",
    "tokenized_scripts_jsons_paths = list(\n",
    "    filter(\n",
    "        lambda script_name: script_name.startswith(TOKENIZED_JSON_START_WITH_PREFIX),\n",
    "        filenames\n",
    "    )\n",
    ")"
   ]
  },
  {
   "cell_type": "markdown",
   "metadata": {},
   "source": [
    "Можно было бы пытаться объединить их все в одну, но опять же тут в зависимости от мощностей компьютера, может просто не хватить оперативки держать столько данных в памяти.\n",
    "\n",
    "Благо word2Vec может учить постепенно: вначале на одних данных, потом \"доучить\" другим набором данных.\n",
    "\n",
    "Поэтому вначале учим на первом наборе данных, а потом доучиваем оставшимися постепенно."
   ]
  },
  {
   "cell_type": "code",
   "execution_count": 6,
   "metadata": {},
   "outputs": [],
   "source": [
    "def transform_json_file_to_train_data(path_to_json_file):\n",
    "    tokenized_scripts_dic = {}\n",
    "    \n",
    "    tokenizedScriptsJson = open(path_to_json_file)\n",
    "    raw_tokenized_scripts_dictionary = json.load(tokenizedScriptsJson)\n",
    "\n",
    "    for fileName in raw_tokenized_scripts_dictionary.keys():\n",
    "        tokenized_scripts_dic[fileName] = filter_tokens_fo_Word2Vec(raw_tokenized_scripts_dictionary[fileName])\n",
    "        \n",
    "    return list(tokenized_scripts_dic.values())"
   ]
  },
  {
   "cell_type": "code",
   "execution_count": 7,
   "metadata": {},
   "outputs": [],
   "source": [
    "first_train_json_path = f\"{FOLDER_WITH_JSONS}/{tokenized_scripts_jsons_paths[0]}\"\n",
    "\n",
    "tokenized_scripts_list_of_lists = transform_json_file_to_train_data(first_train_json_path)"
   ]
  },
  {
   "cell_type": "markdown",
   "metadata": {},
   "source": [
    "# Build Word2Vec model"
   ]
  },
  {
   "cell_type": "markdown",
   "metadata": {},
   "source": [
    "Теперь бы нужно построить модель и настроить гиперпараметры.\n",
    "\n",
    "[Эта статья](https://habr.com/ru/post/446530/) говорит, что embedding_size устанавливают обычно на 300."
   ]
  },
  {
   "cell_type": "code",
   "execution_count": 8,
   "metadata": {},
   "outputs": [],
   "source": [
    "word2VecModel = Word2Vec(\n",
    "    # list of lists. Например: [[\"cat\", \"say\", \"meow\"], [\"dog\", \"say\", \"woof\"]]\n",
    "    sentences=tokenized_scripts_list_of_lists,\n",
    "    \n",
    "    # The number of dimensions of the embeddings and the default is 100\n",
    "    size=300, \n",
    "    \n",
    "    #The maximum distance between a target word and words around the target word. The default window is 5.\n",
    "    window=5,\n",
    "    \n",
    "    # финальный размер словаря\n",
    "    max_final_vocab=10000, \n",
    "    \n",
    "    # игнорировать слова с частотностью ниже, чем эта (регулируется автоматически, если установлено max_final_vocab)\n",
    "    min_count = 5, \n",
    "    \n",
    "    workers=cpu_count(),\n",
    "    \n",
    "    # The training algorithm, either CBOW(0) or skip gram(1). The default training algorithm is CBOW\n",
    "    sg=0\n",
    ")"
   ]
  },
  {
   "cell_type": "markdown",
   "metadata": {},
   "source": [
    "Смотрим, какие наиболее близкие вектора будут к функции с названием **setTimeout** (это встроенная функция в js, которая на вход принимает функцию первым аргументом, которую нужно исполнить через заданное кол-во времени в миллисекундах, которые будут переданы вторым аргументом).\n",
    "\n",
    "Число напротив каждого слова - процент близости векторов."
   ]
  },
  {
   "cell_type": "code",
   "execution_count": 9,
   "metadata": {},
   "outputs": [
    {
     "data": {
      "text/plain": [
       "[('_onMouseMove', 0.9880327582359314),\n",
       " ('\"focus\"', 0.9878250360488892),\n",
       " (\"'keyup'\", 0.9868752360343933),\n",
       " ('\"cut\"', 0.9851042628288269),\n",
       " ('runnerInstance', 0.9823489785194397),\n",
       " ('onMouseMove', 0.9812650084495544),\n",
       " ('setWindowSize', 0.9810981750488281),\n",
       " (\"'load'\", 0.9800305962562561),\n",
       " ('\"changeSelection\"', 0.9792967438697815),\n",
       " ('focus', 0.9781745076179504),\n",
       " ('outsideClickHandler', 0.9780735969543457),\n",
       " ('popup', 0.9776158332824707),\n",
       " ('shouldScroll', 0.9774004220962524),\n",
       " ('mouseup', 0.9765614867210388),\n",
       " (\"'resize'\", 0.9760730266571045),\n",
       " ('hasFocus', 0.9758189916610718),\n",
       " ('readOnly', 0.9757958650588989),\n",
       " ('mouseTarget', 0.9757658243179321),\n",
       " ('_initLayout', 0.9756919145584106),\n",
       " ('dragging', 0.9755454063415527)]"
      ]
     },
     "execution_count": 9,
     "metadata": {},
     "output_type": "execute_result"
    }
   ],
   "source": [
    "word2VecModel.wv.most_similar('setTimeout', topn=20)"
   ]
  },
  {
   "cell_type": "markdown",
   "metadata": {},
   "source": [
    "Видим, что модель на маленьком кусочке данных ($\\frac{1}{43}$ от всех токенов) показывает крайне странные результаты. Да, в каждом слове можно \"натянуть\" смысл, но это все будет не то."
   ]
  },
  {
   "cell_type": "markdown",
   "metadata": {},
   "source": [
    "Посмотрим лучше, какие будут результаты у модели, когда она \"доучиться\" на остальных данных."
   ]
  },
  {
   "cell_type": "markdown",
   "metadata": {},
   "source": [
    "# Resume learning"
   ]
  },
  {
   "cell_type": "markdown",
   "metadata": {},
   "source": [
    "API библиотеки gensim предоставил возможность продолжать обучение модели на новых данных"
   ]
  },
  {
   "cell_type": "code",
   "execution_count": 10,
   "metadata": {},
   "outputs": [
    {
     "data": {
      "application/vnd.jupyter.widget-view+json": {
       "model_id": "0b26923e9f0b49e4b0b6933b8ba52422",
       "version_major": 2,
       "version_minor": 0
      },
      "text/plain": [
       "HBox(children=(FloatProgress(value=0.0, max=42.0), HTML(value='')))"
      ]
     },
     "metadata": {},
     "output_type": "display_data"
    },
    {
     "name": "stdout",
     "output_type": "stream",
     "text": [
      "\n"
     ]
    }
   ],
   "source": [
    "additional_data_jsons = tokenized_scripts_jsons_paths[1:]\n",
    "\n",
    "for jsonPathIndex in tqdm(range(len(additional_data_jsons))):\n",
    "    try:\n",
    "        new_data = transform_json_file_to_train_data(f\"{FOLDER_WITH_JSONS}/{additional_data_jsons[jsonPathIndex]}\")\n",
    "    except:\n",
    "        continue\n",
    "    \n",
    "    word2VecModel.build_vocab(new_data, update=True)\n",
    "    word2VecModel.train(new_data, total_examples=word2VecModel.corpus_count, epochs=word2VecModel.epochs)"
   ]
  },
  {
   "cell_type": "code",
   "execution_count": 11,
   "metadata": {},
   "outputs": [
    {
     "data": {
      "text/plain": [
       "[('setInterval', 0.7568150758743286),\n",
       " ('clearTimeout', 0.7379943132400513),\n",
       " ('clearInterval', 0.7022181749343872),\n",
       " ('timer', 0.6581335663795471),\n",
       " ('timeout_id', 0.6490052938461304),\n",
       " ('delay', 0.623058021068573),\n",
       " ('timerId', 0.6208227872848511),\n",
       " ('timeout', 0.6181209087371826),\n",
       " ('500', 0.611249566078186),\n",
       " ('$annotorious$events$ui$hasMouse$$', 0.6070060133934021),\n",
       " ('runs', 0.5983148813247681),\n",
       " ('detectingSelectAll', 0.5970577001571655),\n",
       " ('tref', 0.5940391421318054),\n",
       " ('play', 0.5767362117767334),\n",
       " ('timeoutId', 0.5743808746337891),\n",
       " ('intervalId', 0.5726293325424194),\n",
       " ('50', 0.5720169544219971),\n",
       " ('_timeout', 0.5694442391395569),\n",
       " ('stop', 0.5676246881484985),\n",
       " ('5000', 0.566246509552002)]"
      ]
     },
     "execution_count": 11,
     "metadata": {},
     "output_type": "execute_result"
    }
   ],
   "source": [
    "word2VecModel.wv.most_similar('setTimeout', topn=20)"
   ]
  },
  {
   "cell_type": "markdown",
   "metadata": {},
   "source": [
    "Результаты стали гораздо более впечатляющими!\n",
    "\n",
    "- clearTimeout - обрывает запланированный вызов функции\n",
    "- timeout - через какое время исполнить функцию (один из агрументов всегда)"
   ]
  },
  {
   "cell_type": "markdown",
   "metadata": {},
   "source": [
    "# Сохранение и загрузка модели"
   ]
  },
  {
   "cell_type": "code",
   "execution_count": 12,
   "metadata": {},
   "outputs": [],
   "source": [
    "word2VecModel.save('word2Vec/word2VecModel')"
   ]
  },
  {
   "cell_type": "code",
   "execution_count": 13,
   "metadata": {},
   "outputs": [],
   "source": [
    "from gensim.models.word2vec import Word2Vec\n",
    "word2VecModel = Word2Vec.load('word2Vec/word2VecModel')"
   ]
  },
  {
   "cell_type": "code",
   "execution_count": 14,
   "metadata": {},
   "outputs": [
    {
     "data": {
      "text/plain": [
       "[('setInterval', 0.7568150758743286),\n",
       " ('clearTimeout', 0.7379943132400513),\n",
       " ('clearInterval', 0.7022181749343872),\n",
       " ('timer', 0.6581335663795471),\n",
       " ('timeout_id', 0.6490052938461304),\n",
       " ('delay', 0.623058021068573),\n",
       " ('timerId', 0.6208227872848511),\n",
       " ('timeout', 0.6181209087371826),\n",
       " ('500', 0.611249566078186),\n",
       " ('$annotorious$events$ui$hasMouse$$', 0.6070060133934021),\n",
       " ('runs', 0.5983148813247681),\n",
       " ('detectingSelectAll', 0.5970577001571655),\n",
       " ('tref', 0.5940391421318054),\n",
       " ('play', 0.5767362117767334),\n",
       " ('timeoutId', 0.5743808746337891),\n",
       " ('intervalId', 0.5726293325424194),\n",
       " ('50', 0.5720169544219971),\n",
       " ('_timeout', 0.5694442391395569),\n",
       " ('stop', 0.5676246881484985),\n",
       " ('5000', 0.566246509552002)]"
      ]
     },
     "execution_count": 14,
     "metadata": {},
     "output_type": "execute_result"
    }
   ],
   "source": [
    "word2VecModel.wv.most_similar('setTimeout', topn=20)"
   ]
  },
  {
   "cell_type": "code",
   "execution_count": 15,
   "metadata": {},
   "outputs": [
    {
     "name": "stdout",
     "output_type": "stream",
     "text": [
      "В нашем словаре теперь 86171 слов\n"
     ]
    }
   ],
   "source": [
    "print('В нашем словаре теперь', len(word2VecModel.wv.vocab), 'слов')"
   ]
  }
 ],
 "metadata": {
  "kernelspec": {
   "display_name": "Python 3",
   "language": "python",
   "name": "python3"
  },
  "language_info": {
   "codemirror_mode": {
    "name": "ipython",
    "version": 3
   },
   "file_extension": ".py",
   "mimetype": "text/x-python",
   "name": "python",
   "nbconvert_exporter": "python",
   "pygments_lexer": "ipython3",
   "version": "3.8.2"
  }
 },
 "nbformat": 4,
 "nbformat_minor": 4
}
