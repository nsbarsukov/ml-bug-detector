{
 "cells": [
  {
   "cell_type": "markdown",
   "metadata": {},
   "source": [
    "# Интро и полезная литература"
   ]
  },
  {
   "cell_type": "markdown",
   "metadata": {},
   "source": [
    "### Литература"
   ]
  },
  {
   "cell_type": "markdown",
   "metadata": {},
   "source": [
    "- [Word2vec в картинках](https://habr.com/ru/post/446530/). Статья на хабре от 2019 года.\n",
    "- [Презентация](http://www.machinelearning.ru/wiki/images/b/b3/Word2Vec.pdf) (2017 год) с примерами реализации кода на библиотеке gensim\n",
    " \n",
    "Так как Word2Vec - это уже не просто единичная реализация, а группа алгоритмов для получения векторных представлений слов, то существует масса различных пакетов на эту тему. Мы будем пользоваться gensim.\n",
    "\n",
    "- [Gensim – Руководство для начинающих](https://webdevblog.ru/gensim-rukovodstvo-dlya-nachinajushhih/). Здесь нужно изучить ряд терминов, чтобы понимать принцип работы библиотеки. Статья 2019 года.\n",
    "- [A Beginner’s Guide to Word Embedding with Gensim Word2Vec Model](https://towardsdatascience.com/a-beginners-guide-to-word-embedding-with-gensim-word2vec-model-5970fa56cc92). Статья 2019 года. По ней хорошо учиться писать код."
   ]
  },
  {
   "cell_type": "markdown",
   "metadata": {},
   "source": [
    "### Термины"
   ]
  },
  {
   "cell_type": "markdown",
   "metadata": {},
   "source": [
    "- **Токен** обычно означает «слово»\n",
    "- **Документ** обычно может относиться как к «предложению» так и к «абзацу»\n",
    "- **Корпус** обычно представляет собой «собрание документов» в виде пакета слов или как его еще называют мешка слов "
   ]
  },
  {
   "cell_type": "markdown",
   "metadata": {},
   "source": [
    "# Импорт локальных констант и функций"
   ]
  },
  {
   "cell_type": "markdown",
   "metadata": {},
   "source": [
    "Вначале перейдём на уровень рутового пути репозитория\n",
    "(в дальнейшем всегда пишем пути от корня репозитория)"
   ]
  },
  {
   "cell_type": "code",
   "execution_count": 1,
   "metadata": {},
   "outputs": [
    {
     "name": "stdout",
     "output_type": "stream",
     "text": [
      "/Users/polina/WebstormProjects/ml-bug-detector\n"
     ]
    }
   ],
   "source": [
    "cd .."
   ]
  },
  {
   "cell_type": "markdown",
   "metadata": {},
   "source": [
    "Заимпортируем всё, что нам пригодится в дальнейшем"
   ]
  },
  {
   "cell_type": "code",
   "execution_count": 2,
   "metadata": {},
   "outputs": [],
   "source": [
    "from shared.helpers.word2VecPreprocessing import filter_tokens_fo_Word2Vec"
   ]
  },
  {
   "cell_type": "markdown",
   "metadata": {},
   "source": [
    "Также внешние библиотеки подключим сразу"
   ]
  },
  {
   "cell_type": "code",
   "execution_count": 3,
   "metadata": {},
   "outputs": [],
   "source": [
    "import pandas as pd\n",
    "import json\n",
    "from gensim.models.word2vec import Word2Vec\n",
    "from multiprocessing import cpu_count"
   ]
  },
  {
   "cell_type": "markdown",
   "metadata": {},
   "source": [
    "# Строим модель"
   ]
  },
  {
   "cell_type": "code",
   "execution_count": 4,
   "metadata": {},
   "outputs": [],
   "source": [
    "pathToTokenizeScriptsJson = 'data/parsed-scripts.json'\n",
    "  \n",
    "tokenizedScriptsJson = open(pathToTokenizeScriptsJson) \n",
    "tokenized_scripts_dictionary = json.load(tokenizedScriptsJson)"
   ]
  },
  {
   "cell_type": "code",
   "execution_count": 5,
   "metadata": {},
   "outputs": [],
   "source": [
    "for fileName in tokenized_scripts_dictionary.keys():\n",
    "    tokenized_scripts_dictionary[fileName] = filter_tokens_fo_Word2Vec(tokenized_scripts_dictionary[fileName])"
   ]
  },
  {
   "cell_type": "code",
   "execution_count": 6,
   "metadata": {},
   "outputs": [],
   "source": [
    "tokenized_scripts_list_of_lists = list(tokenized_scripts_dictionary.values())"
   ]
  },
  {
   "cell_type": "markdown",
   "metadata": {},
   "source": [
    "Теперь бы нужно настроить гиперпараметры.\n",
    "\n",
    "[Эта статья](https://habr.com/ru/post/446530/) говорит, что embedding_size устанавливают обычно на 300."
   ]
  },
  {
   "cell_type": "code",
   "execution_count": 7,
   "metadata": {},
   "outputs": [],
   "source": [
    "word2VecModel = Word2Vec(\n",
    "    # list of lists. Например: [[\"cat\", \"say\", \"meow\"], [\"dog\", \"say\", \"woof\"]]\n",
    "    sentences=tokenized_scripts_list_of_lists,\n",
    "    \n",
    "    # The number of dimensions of the embeddings and the default is 100\n",
    "    size=300, \n",
    "    \n",
    "    #The maximum distance between a target word and words around the target word. The default window is 5.\n",
    "    window=5,\n",
    "    \n",
    "    # финальный размер словаря\n",
    "    max_final_vocab=10000, \n",
    "    \n",
    "    # игнорировать слова с частотностью ниже, чем эта (регулируется автоматически, если установлено max_final_vocab)\n",
    "    min_count = 5, \n",
    "    \n",
    "    workers=cpu_count(),\n",
    "    \n",
    "    # The training algorithm, either CBOW(0) or skip gram(1). The default training algorithm is CBOW\n",
    "    sg=0\n",
    ")"
   ]
  },
  {
   "cell_type": "markdown",
   "metadata": {},
   "source": [
    "# Сохранение и загрузка модели"
   ]
  },
  {
   "cell_type": "code",
   "execution_count": 8,
   "metadata": {},
   "outputs": [],
   "source": [
    "word2VecModel.save('word2Vec/word2VecModel')"
   ]
  },
  {
   "cell_type": "code",
   "execution_count": 9,
   "metadata": {},
   "outputs": [],
   "source": [
    "from gensim.models.word2vec import Word2Vec\n",
    "word2VecModel = Word2Vec.load('word2Vec/word2VecModel')"
   ]
  },
  {
   "cell_type": "code",
   "execution_count": 10,
   "metadata": {},
   "outputs": [
    {
     "data": {
      "text/plain": [
       "[('timeout', 0.9540337324142456),\n",
       " ('clearTimeout', 0.9249351024627686),\n",
       " ('close', 0.9224143624305725),\n",
       " ('sender', 0.9207724332809448),\n",
       " ('attach', 0.9160687923431396),\n",
       " ('on', 0.9150377511978149),\n",
       " ('onUpdate', 0.9130774736404419),\n",
       " ('addEventListener', 0.910114049911499),\n",
       " ('evt', 0.8991033434867859),\n",
       " ('off', 0.8965657353401184),\n",
       " ('that', 0.890986442565918),\n",
       " ('_self', 0.8894838690757751),\n",
       " ('timer', 0.8801249265670776),\n",
       " (\"'click'\", 0.8786412477493286),\n",
       " ('deferred', 0.8764210343360901),\n",
       " ('$timeout', 0.8728090524673462),\n",
       " ('send', 0.8708072900772095),\n",
       " ('controller', 0.868100643157959),\n",
       " ('unbind', 0.8631912469863892),\n",
       " ('render', 0.8626474142074585)]"
      ]
     },
     "execution_count": 10,
     "metadata": {},
     "output_type": "execute_result"
    }
   ],
   "source": [
    "word2VecModel.wv.most_similar('setTimeout', topn=20)"
   ]
  },
  {
   "cell_type": "markdown",
   "metadata": {},
   "source": [
    "Таки да.\n",
    "\n",
    "- clearTimeout - обрывает запланированный вызов функции\n",
    "- timeout - через какое время исполнить функцию (один из агрументов всегда)\n",
    "- cb - это callback-функции (один из агрументов всегда)"
   ]
  },
  {
   "cell_type": "code",
   "execution_count": 11,
   "metadata": {},
   "outputs": [
    {
     "name": "stdout",
     "output_type": "stream",
     "text": [
      "В нашем словаре теперь 8896 слов\n"
     ]
    }
   ],
   "source": [
    "print('В нашем словаре теперь', len(word2VecModel.wv.vocab), 'слов')"
   ]
  }
 ],
 "metadata": {
  "kernelspec": {
   "display_name": "Python 3",
   "language": "python",
   "name": "python3"
  },
  "language_info": {
   "codemirror_mode": {
    "name": "ipython",
    "version": 3
   },
   "file_extension": ".py",
   "mimetype": "text/x-python",
   "name": "python",
   "nbconvert_exporter": "python",
   "pygments_lexer": "ipython3",
   "version": "3.8.2"
  }
 },
 "nbformat": 4,
 "nbformat_minor": 4
}
