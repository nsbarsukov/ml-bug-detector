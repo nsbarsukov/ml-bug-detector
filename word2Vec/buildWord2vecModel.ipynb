{
 "cells": [
  {
   "cell_type": "markdown",
   "metadata": {},
   "source": [
    "# Интро и полезная литература"
   ]
  },
  {
   "cell_type": "markdown",
   "metadata": {},
   "source": [
    "### Литература"
   ]
  },
  {
   "cell_type": "markdown",
   "metadata": {},
   "source": [
    "- [Word2vec в картинках](https://habr.com/ru/post/446530/). Статья на хабре от 2019 года.\n",
    "- [Презентация](http://www.machinelearning.ru/wiki/images/b/b3/Word2Vec.pdf) (2017 год) с примерами реализации кода на библиотеке gensim\n",
    " \n",
    "Так как Word2Vec - это уже не просто единичная реализация, а группа алгоритмов для получения векторных представлений слов, то существует масса различных пакетов на эту тему. Мы будем пользоваться gensim.\n",
    "\n",
    "- [Gensim – Руководство для начинающих](https://webdevblog.ru/gensim-rukovodstvo-dlya-nachinajushhih/). Здесь нужно изучить ряд терминов, чтобы понимать принцип работы библиотеки. Статья 2019 года.\n",
    "- [A Beginner’s Guide to Word Embedding with Gensim Word2Vec Model](https://towardsdatascience.com/a-beginners-guide-to-word-embedding-with-gensim-word2vec-model-5970fa56cc92). Статья 2019 года. По ней хорошо учиться писать код."
   ]
  },
  {
   "cell_type": "markdown",
   "metadata": {},
   "source": [
    "### Термины"
   ]
  },
  {
   "cell_type": "markdown",
   "metadata": {},
   "source": [
    "- **Токен** обычно означает «слово»\n",
    "- **Документ** обычно может относиться как к «предложению» так и к «абзацу»\n",
    "- **Корпус** обычно представляет собой «собрание документов» в виде пакета слов или как его еще называют мешка слов "
   ]
  },
  {
   "cell_type": "markdown",
   "metadata": {},
   "source": [
    "# Импорт локальных констант и функций"
   ]
  },
  {
   "cell_type": "markdown",
   "metadata": {},
   "source": [
    "Вначале перейдём на уровень рутового пути репозитория\n",
    "(в дальнейшем всегда пишем пути от корня репозитория)"
   ]
  },
  {
   "cell_type": "code",
   "execution_count": 1,
   "metadata": {},
   "outputs": [
    {
     "name": "stdout",
     "output_type": "stream",
     "text": [
      "/Users/n.barsukov/WebstormProjects/ml-bug-detector\n"
     ]
    }
   ],
   "source": [
    "cd .."
   ]
  },
  {
   "cell_type": "markdown",
   "metadata": {},
   "source": [
    "Заимпортируем всё, что нам пригодится в дальнейшем"
   ]
  },
  {
   "cell_type": "code",
   "execution_count": 2,
   "metadata": {},
   "outputs": [],
   "source": [
    "from shared.helpers.word2VecPreprocessing import filter_tokens_fo_Word2Vec"
   ]
  },
  {
   "cell_type": "markdown",
   "metadata": {},
   "source": [
    "Также внешние библиотеки подключим сразу"
   ]
  },
  {
   "cell_type": "code",
   "execution_count": 3,
   "metadata": {},
   "outputs": [],
   "source": [
    "from os import walk\n",
    "import pandas as pd\n",
    "import json\n",
    "\n",
    "from gensim.models.word2vec import Word2Vec\n",
    "from multiprocessing import cpu_count\n",
    "from tqdm.notebook import tqdm"
   ]
  },
  {
   "cell_type": "markdown",
   "metadata": {},
   "source": [
    "# Готовим данные перед построением модели"
   ]
  },
  {
   "cell_type": "code",
   "execution_count": 4,
   "metadata": {},
   "outputs": [],
   "source": [
    "# папка, в которой лежат нужные нам json\n",
    "FOLDER_WITH_JSONS = 'data'\n",
    "\n",
    "# как начинается имя json, в которых лежат токенизированные скрипты\n",
    "TOKENIZED_JSON_START_WITH_PREFIX = 'tokenized-scripts'"
   ]
  },
  {
   "cell_type": "markdown",
   "metadata": {},
   "source": [
    "Так как токенизация была разбита на микрозадачи (чтобы хватило мощностей компьютера), то и json у нас много теперь."
   ]
  },
  {
   "cell_type": "code",
   "execution_count": 5,
   "metadata": {},
   "outputs": [],
   "source": [
    "# filenames - Список всех файлов в интересуемой нами директории\n",
    "fdirpath, dirnames, filenames = list(walk(FOLDER_WITH_JSONS))[0]\n",
    "\n",
    "tokenized_scripts_jsons_paths = list(\n",
    "    filter(\n",
    "        lambda script_name: script_name.startswith(TOKENIZED_JSON_START_WITH_PREFIX),\n",
    "        filenames\n",
    "    )\n",
    ")"
   ]
  },
  {
   "cell_type": "markdown",
   "metadata": {},
   "source": [
    "Можно было бы пытаться объединить их все в одну, но опять же тут в зависимости от мощностей компьютера, может просто не хватить оперативки держать столько данных в памяти.\n",
    "\n",
    "Благо word2Vec может учить постепенно: вначале на одних данных, потом \"доучить\" другим набором данных.\n",
    "\n",
    "Поэтому вначале учим на первом наборе данных, а потом доучиваем оставшимися постепенно."
   ]
  },
  {
   "cell_type": "code",
   "execution_count": 6,
   "metadata": {},
   "outputs": [],
   "source": [
    "def transform_json_file_to_train_data(path_to_json_file):\n",
    "    tokenized_scripts_dic = {}\n",
    "    \n",
    "    tokenizedScriptsJson = open(path_to_json_file)\n",
    "    raw_tokenized_scripts_dictionary = json.load(tokenizedScriptsJson)\n",
    "\n",
    "    for fileName in raw_tokenized_scripts_dictionary.keys():\n",
    "        tokenized_scripts_dic[fileName] = filter_tokens_fo_Word2Vec(raw_tokenized_scripts_dictionary[fileName])\n",
    "        \n",
    "    return list(tokenized_scripts_dic.values())"
   ]
  },
  {
   "cell_type": "code",
   "execution_count": 7,
   "metadata": {},
   "outputs": [],
   "source": [
    "first_train_json_path = f\"{FOLDER_WITH_JSONS}/{tokenized_scripts_jsons_paths[0]}\"\n",
    "\n",
    "tokenized_scripts_list_of_lists = transform_json_file_to_train_data(first_train_json_path)"
   ]
  },
  {
   "cell_type": "markdown",
   "metadata": {},
   "source": [
    "# Build Word2Vec model"
   ]
  },
  {
   "cell_type": "markdown",
   "metadata": {},
   "source": [
    "Теперь бы нужно построить модель и настроить гиперпараметры.\n",
    "\n",
    "[Эта статья](https://habr.com/ru/post/446530/) говорит, что embedding_size устанавливают обычно на 300."
   ]
  },
  {
   "cell_type": "code",
   "execution_count": 8,
   "metadata": {},
   "outputs": [],
   "source": [
    "word2VecModel = Word2Vec(\n",
    "    # list of lists. Например: [[\"cat\", \"say\", \"meow\"], [\"dog\", \"say\", \"woof\"]]\n",
    "    sentences=tokenized_scripts_list_of_lists,\n",
    "    \n",
    "    # The number of dimensions of the embeddings and the default is 100\n",
    "    size=300, \n",
    "    \n",
    "    #The maximum distance between a target word and words around the target word. The default window is 5.\n",
    "    window=5,\n",
    "    \n",
    "    # финальный размер словаря\n",
    "    max_final_vocab=10000, \n",
    "    \n",
    "    # игнорировать слова с частотностью ниже, чем эта (регулируется автоматически, если установлено max_final_vocab)\n",
    "    min_count = 5, \n",
    "    \n",
    "    workers=cpu_count(),\n",
    "    \n",
    "    # The training algorithm, either CBOW(0) or skip gram(1). The default training algorithm is CBOW\n",
    "    sg=0\n",
    ")"
   ]
  },
  {
   "cell_type": "markdown",
   "metadata": {},
   "source": [
    "Смотрим, какие наиболее близкие вектора будут к функции с названием **setTimeout** (это встроенная функция в js, которая на вход принимает функцию первым аргументом, которую нужно исполнить через заданное кол-во времени в миллисекундах, которые будут переданы вторым аргументом).\n",
    "\n",
    "Число напротив каждого слова - процент близости векторов."
   ]
  },
  {
   "cell_type": "code",
   "execution_count": 9,
   "metadata": {},
   "outputs": [
    {
     "data": {
      "text/plain": [
       "[('prevOp', 0.9845616817474365),\n",
       " ('fireEvent', 0.9843124747276306),\n",
       " ('oldInnerHTML', 0.9841935634613037),\n",
       " ('saving', 0.9839743375778198),\n",
       " ('mouseTarget', 0.9833625555038452),\n",
       " ('onComplete', 0.9829936623573303),\n",
       " ('click', 0.9828275442123413),\n",
       " ('findElement', 0.9824248552322388),\n",
       " (\"'close'\", 0.9823454022407532),\n",
       " ('uniqueId', 0.9817233681678772),\n",
       " ('refreshClasses', 0.9814270734786987),\n",
       " ('togglePlaceholderText', 0.9813440442085266),\n",
       " ('closing', 0.9808827638626099),\n",
       " ('trigger', 0.9799845218658447),\n",
       " ('addListener', 0.9793043732643127),\n",
       " ('onSelectionChange', 0.9792879819869995),\n",
       " ('updateFull', 0.9789943099021912),\n",
       " ('showPrintMargin', 0.9785706996917725),\n",
       " ('attachEvents', 0.9777292609214783),\n",
       " ('disable', 0.9770629405975342)]"
      ]
     },
     "execution_count": 9,
     "metadata": {},
     "output_type": "execute_result"
    }
   ],
   "source": [
    "word2VecModel.wv.most_similar('setTimeout', topn=20)"
   ]
  },
  {
   "cell_type": "markdown",
   "metadata": {},
   "source": [
    "Видим, что модель на маленьком кусочке данных ($\\frac{1}{43}$ от всех токенов) показывает крайне странные результаты. Да, в каждом слове можно \"натянуть\" смысл, но это все будет не то."
   ]
  },
  {
   "cell_type": "markdown",
   "metadata": {},
   "source": [
    "Посмотрим лучше, какие будут результаты у модели, когда она \"доучиться\" на остальных данных."
   ]
  },
  {
   "cell_type": "markdown",
   "metadata": {},
   "source": [
    "# Resume learning"
   ]
  },
  {
   "cell_type": "markdown",
   "metadata": {},
   "source": [
    "API библиотеки gensim предоставил возможность продолжать обучение модели на новых данных"
   ]
  },
  {
   "cell_type": "code",
   "execution_count": 10,
   "metadata": {},
   "outputs": [
    {
     "data": {
      "application/vnd.jupyter.widget-view+json": {
       "model_id": "64cdad94dabd489f8572f6288bba1b0d",
       "version_major": 2,
       "version_minor": 0
      },
      "text/plain": [
       "HBox(children=(FloatProgress(value=0.0, max=42.0), HTML(value='')))"
      ]
     },
     "metadata": {},
     "output_type": "display_data"
    },
    {
     "name": "stdout",
     "output_type": "stream",
     "text": [
      "\n"
     ]
    }
   ],
   "source": [
    "additional_data_jsons = tokenized_scripts_jsons_paths[1:]\n",
    "\n",
    "for jsonPathIndex in tqdm(range(len(additional_data_jsons))):\n",
    "    try:\n",
    "        new_data = transform_json_file_to_train_data(f\"{FOLDER_WITH_JSONS}/{additional_data_jsons[jsonPathIndex]}\")\n",
    "    except:\n",
    "        print('Не получилось расспарсить json:', additional_data_jsons[jsonPathIndex])\n",
    "        continue\n",
    "    \n",
    "    word2VecModel.build_vocab(new_data, update=True)\n",
    "    word2VecModel.train(new_data, total_examples=word2VecModel.corpus_count, epochs=word2VecModel.epochs)"
   ]
  },
  {
   "cell_type": "code",
   "execution_count": 11,
   "metadata": {},
   "outputs": [
    {
     "data": {
      "text/plain": [
       "[('setInterval', 0.715908944606781),\n",
       " ('clearTimeout', 0.6965270042419434),\n",
       " ('clearInterval', 0.6727496385574341),\n",
       " ('detectingSelectAll', 0.6090414524078369),\n",
       " ('timer', 0.5855937004089355),\n",
       " ('2000', 0.5547860860824585),\n",
       " ('5000', 0.5504839420318604),\n",
       " ('timerId', 0.5426981449127197),\n",
       " ('scrollTo', 0.5400852560997009),\n",
       " ('timeout_id', 0.5396533012390137),\n",
       " ('requiredParams', 0.5387997627258301),\n",
       " ('delay', 0.5387283563613892),\n",
       " ('focus', 0.5380741357803345),\n",
       " ('fadeOut', 0.5342597961425781),\n",
       " ('300', 0.5268067717552185),\n",
       " ('getZForResolution', 0.523263692855835),\n",
       " ('_delay', 0.5221475958824158),\n",
       " ('timeout', 0.5221250057220459),\n",
       " ('interval', 0.5156717300415039),\n",
       " ('longPressTimer', 0.5145896077156067)]"
      ]
     },
     "execution_count": 11,
     "metadata": {},
     "output_type": "execute_result"
    }
   ],
   "source": [
    "word2VecModel.wv.most_similar('setTimeout', topn=20)"
   ]
  },
  {
   "cell_type": "markdown",
   "metadata": {},
   "source": [
    "Результаты стали гораздо более впечатляющими!\n",
    "\n",
    "- clearTimeout - обрывает запланированный вызов функции\n",
    "- timeout - через какое время исполнить функцию (один из агрументов всегда)"
   ]
  },
  {
   "cell_type": "markdown",
   "metadata": {},
   "source": [
    "# Сохранение и загрузка модели"
   ]
  },
  {
   "cell_type": "code",
   "execution_count": 12,
   "metadata": {},
   "outputs": [],
   "source": [
    "word2VecModel.save('word2Vec/word2VecModel')"
   ]
  },
  {
   "cell_type": "code",
   "execution_count": 13,
   "metadata": {},
   "outputs": [],
   "source": [
    "from gensim.models.word2vec import Word2Vec\n",
    "word2VecModel = Word2Vec.load('word2Vec/word2VecModel')"
   ]
  },
  {
   "cell_type": "code",
   "execution_count": 14,
   "metadata": {},
   "outputs": [
    {
     "data": {
      "text/plain": [
       "[('setInterval', 0.715908944606781),\n",
       " ('clearTimeout', 0.6965270042419434),\n",
       " ('clearInterval', 0.6727496385574341),\n",
       " ('detectingSelectAll', 0.6090414524078369),\n",
       " ('timer', 0.5855937004089355),\n",
       " ('2000', 0.5547860860824585),\n",
       " ('5000', 0.5504839420318604),\n",
       " ('timerId', 0.5426981449127197),\n",
       " ('scrollTo', 0.5400852560997009),\n",
       " ('timeout_id', 0.5396533012390137),\n",
       " ('requiredParams', 0.5387997627258301),\n",
       " ('delay', 0.5387283563613892),\n",
       " ('focus', 0.5380741357803345),\n",
       " ('fadeOut', 0.5342597961425781),\n",
       " ('300', 0.5268067717552185),\n",
       " ('getZForResolution', 0.523263692855835),\n",
       " ('_delay', 0.5221475958824158),\n",
       " ('timeout', 0.5221250057220459),\n",
       " ('interval', 0.5156717300415039),\n",
       " ('longPressTimer', 0.5145896077156067)]"
      ]
     },
     "execution_count": 14,
     "metadata": {},
     "output_type": "execute_result"
    }
   ],
   "source": [
    "word2VecModel.wv.most_similar('setTimeout', topn=20)"
   ]
  },
  {
   "cell_type": "code",
   "execution_count": 15,
   "metadata": {},
   "outputs": [
    {
     "name": "stdout",
     "output_type": "stream",
     "text": [
      "В нашем словаре теперь 128891 слов\n"
     ]
    }
   ],
   "source": [
    "print('В нашем словаре теперь', len(word2VecModel.wv.vocab), 'слов')"
   ]
  }
 ],
 "metadata": {
  "kernelspec": {
   "display_name": "Python 3",
   "language": "python",
   "name": "python3"
  },
  "language_info": {
   "codemirror_mode": {
    "name": "ipython",
    "version": 3
   },
   "file_extension": ".py",
   "mimetype": "text/x-python",
   "name": "python",
   "nbconvert_exporter": "python",
   "pygments_lexer": "ipython3",
   "version": "3.8.2"
  }
 },
 "nbformat": 4,
 "nbformat_minor": 4
}
