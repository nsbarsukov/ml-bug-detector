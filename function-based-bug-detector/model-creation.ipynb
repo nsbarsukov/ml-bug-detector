{
 "cells": [
  {
   "cell_type": "markdown",
   "metadata": {},
   "source": [
    "# Подгрузка пакетов и данных"
   ]
  },
  {
   "cell_type": "code",
   "execution_count": 1,
   "metadata": {},
   "outputs": [
    {
     "name": "stdout",
     "output_type": "stream",
     "text": [
      "/Users/n.barsukov/WebstormProjects/ml-bug-detector\n"
     ]
    }
   ],
   "source": [
    "cd .."
   ]
  },
  {
   "cell_type": "code",
   "execution_count": 2,
   "metadata": {},
   "outputs": [],
   "source": [
    "import pandas as pd\n",
    "import numpy as np\n",
    "import json\n",
    "from tqdm.notebook import tqdm\n",
    "\n",
    "from gensim.models.word2vec import Word2Vec\n",
    "\n",
    "from shared.consts import FUNCTIONS_JSON_PROPERTIES_NAMES, PATH_TO_FUNCTIONS_STORAGE_JSON, PATH_TO_WORD2VEC_MODEL\n",
    "from shared.helpers import (\n",
    "    get_key_in_func_creation_dict, # получаем ключ из словаря/json c объявлениями функциями\n",
    "    get_func_name_from_key # из ключа от словаря/json c объявлениями функциями извлекаем имя функции\n",
    ")"
   ]
  },
  {
   "cell_type": "markdown",
   "metadata": {},
   "source": [
    "Загрузим уже построенную модель Word2Vec"
   ]
  },
  {
   "cell_type": "code",
   "execution_count": 3,
   "metadata": {},
   "outputs": [],
   "source": [
    "word2VecModel = Word2Vec.load(PATH_TO_WORD2VEC_MODEL)"
   ]
  },
  {
   "cell_type": "markdown",
   "metadata": {},
   "source": [
    "Загрузим JSON, в котором мы сложили названия функций (и названия их арггументов)"
   ]
  },
  {
   "cell_type": "code",
   "execution_count": 4,
   "metadata": {},
   "outputs": [],
   "source": [
    "functions_storage_dictionary = json.load(open(PATH_TO_FUNCTIONS_STORAGE_JSON))"
   ]
  },
  {
   "cell_type": "markdown",
   "metadata": {},
   "source": [
    "# Отделение объявления функций от их использования"
   ]
  },
  {
   "cell_type": "markdown",
   "metadata": {},
   "source": [
    "Функции с одним и тем же названием могут быть объявлены по-разному, поэтому объявления функций будут склдываться в словарь по принципу:\n",
    "\n",
    "<div style=\"text-align: center; font-weight: bold;\">Имя репозитория + имя функции</div>\n",
    "\n",
    "Функции **get_key_in_func_creation_dict** и **get_func_name_from_key** помогут нам с этим правилом"
   ]
  },
  {
   "cell_type": "code",
   "execution_count": 5,
   "metadata": {},
   "outputs": [],
   "source": [
    "def find_all_functions_creations(func_storage_dic):\n",
    "    func_creation_dic = {}\n",
    "    \n",
    "    for filePath in func_storage_dic.keys():\n",
    "        for function in func_storage_dic[filePath]:\n",
    "            if (\n",
    "                function[FUNCTIONS_JSON_PROPERTIES_NAMES.FUNC_TYPE] == 'FunctionDeclaration' or\n",
    "                function[FUNCTIONS_JSON_PROPERTIES_NAMES.FUNC_TYPE] == 'FunctionExpression'\n",
    "               ):\n",
    "                func_name = function[FUNCTIONS_JSON_PROPERTIES_NAMES.FUNC_NAME]\n",
    "                func_creation_dict_key = get_key_in_func_creation_dict(func_name, filePath)\n",
    "                if func_creation_dict_key in func_creation_dic:\n",
    "                    pass\n",
    "                    #print(func_creation_dict_key, 'уже есть в словаре')\n",
    "                func_creation_dic[func_creation_dict_key] = {\n",
    "                    f\"{FUNCTIONS_JSON_PROPERTIES_NAMES.ARGS_NAMES}\" : function[FUNCTIONS_JSON_PROPERTIES_NAMES.ARGS_NAMES],\n",
    "                    f\"{FUNCTIONS_JSON_PROPERTIES_NAMES.FILE_PATH}\": filePath\n",
    "                }\n",
    "    \n",
    "    return func_creation_dic"
   ]
  },
  {
   "cell_type": "code",
   "execution_count": 6,
   "metadata": {},
   "outputs": [],
   "source": [
    "func_creation_dic = find_all_functions_creations(functions_storage_dictionary)"
   ]
  },
  {
   "cell_type": "markdown",
   "metadata": {},
   "source": [
    "А теперь находим все ВЫЗОВЫ функций и смотрим, насколько их аргументы отличны объявления функции"
   ]
  },
  {
   "cell_type": "code",
   "execution_count": 7,
   "metadata": {},
   "outputs": [],
   "source": [
    "def find_all_func_executions(func_storage_dic, func_creation_dic, onlyInDictionary = True):\n",
    "    func_exec_storage = []\n",
    "    \n",
    "    for filePath in func_storage_dic.keys():\n",
    "        for function in func_storage_dic[filePath]:\n",
    "            func_name = function[FUNCTIONS_JSON_PROPERTIES_NAMES.FUNC_NAME]\n",
    "            func_creation_dict_key = get_key_in_func_creation_dict(func_name, filePath)\n",
    "            \n",
    "            if (\n",
    "                function[FUNCTIONS_JSON_PROPERTIES_NAMES.FUNC_TYPE] == 'CallExpression' and # должна быть вызовом функции\n",
    "                len(function[FUNCTIONS_JSON_PROPERTIES_NAMES.ARGS_NAMES]) > 0 and # должна иметь хоть один аргумент\n",
    "                (func_creation_dict_key in func_creation_dic or not onlyInDictionary)# должна быть в нашем словаре\n",
    "            ):\n",
    "                function[FUNCTIONS_JSON_PROPERTIES_NAMES.FILE_PATH] = filePath\n",
    "                func_exec_storage.append(function)\n",
    "    \n",
    "    return func_exec_storage"
   ]
  },
  {
   "cell_type": "code",
   "execution_count": 8,
   "metadata": {},
   "outputs": [],
   "source": [
    "func_exec_storage = find_all_func_executions(functions_storage_dictionary, func_creation_dic)"
   ]
  },
  {
   "cell_type": "code",
   "execution_count": 9,
   "metadata": {},
   "outputs": [
    {
     "name": "stdout",
     "output_type": "stream",
     "text": [
      "Размер словаря с объявлениями функций:  158133\n",
      "Размер массива с вызовами функций:  110682\n"
     ]
    }
   ],
   "source": [
    "print('Размер словаря с объявлениями функций: ', len(func_creation_dic))\n",
    "print('Размер массива с вызовами функций: ', len(func_exec_storage))"
   ]
  },
  {
   "cell_type": "markdown",
   "metadata": {},
   "source": [
    "Словарь с объявлениями функций - словарь, в котором ключ - название функции, а значение – массив с названиями переданных аргументов.\n",
    "\n",
    "Пример: функция с названием **confirmDelete**"
   ]
  },
  {
   "cell_type": "code",
   "execution_count": 10,
   "metadata": {},
   "outputs": [
    {
     "data": {
      "text/plain": [
       "{'argumentsNames': ['url', 'subject', 'reloadAfter'],\n",
       " 'filePath': 'scripts/Block8/PHPCI/public/assets/js/phpci.js'}"
      ]
     },
     "execution_count": 10,
     "metadata": {},
     "output_type": "execute_result"
    }
   ],
   "source": [
    "func_creation_dic[get_key_in_func_creation_dict('confirmDelete', 'scripts/Block8/PHPCI/public/assets/js/phpci.js')]"
   ]
  },
  {
   "cell_type": "markdown",
   "metadata": {},
   "source": [
    "Массив с вызовами функций состоит из словарей следующего формата"
   ]
  },
  {
   "cell_type": "code",
   "execution_count": 11,
   "metadata": {},
   "outputs": [
    {
     "data": {
      "text/plain": [
       "[{'type': 'CallExpression',\n",
       "  'argumentsNames': ['millis'],\n",
       "  'functionName': 'sleep',\n",
       "  'filePath': 'scripts/replit/jsrepl/tools/closure-compiler/trunk/lib/rhino/src/mozilla/js/rhino/toolsrc/org/mozilla/javascript/tools/debugger/test.js'},\n",
       " {'type': 'CallExpression',\n",
       "  'argumentsNames': [1000],\n",
       "  'functionName': 'sleep',\n",
       "  'filePath': 'scripts/replit/jsrepl/tools/closure-compiler/trunk/lib/rhino/src/mozilla/js/rhino/toolsrc/org/mozilla/javascript/tools/debugger/test.js'}]"
      ]
     },
     "execution_count": 11,
     "metadata": {},
     "output_type": "execute_result"
    }
   ],
   "source": [
    "list(filter(lambda func_exec: func_exec[FUNCTIONS_JSON_PROPERTIES_NAMES.FUNC_NAME] == 'sleep', func_exec_storage))"
   ]
  },
  {
   "cell_type": "markdown",
   "metadata": {},
   "source": [
    "# Класс для вызовов функций"
   ]
  },
  {
   "cell_type": "code",
   "execution_count": 12,
   "metadata": {},
   "outputs": [],
   "source": [
    "from shared.classes import FunctionExecution"
   ]
  },
  {
   "cell_type": "markdown",
   "metadata": {},
   "source": [
    "Импортированный класс определяет схожесть названий аргументов (в их векторной форме) в вызванной функции:\n",
    "\n",
    "- c названиями аргументов (на тех же позициях) в момент объявления функции (массив с циферкам)\n",
    "- векторную близость названий аргументов с названием функции (массив с циферкам)\n",
    "- общую векторную близость с названиями аргументами в момент объявления функции (одна циферка)"
   ]
  },
  {
   "cell_type": "markdown",
   "metadata": {},
   "source": [
    "Посмотрим, как это работает на примере"
   ]
  },
  {
   "cell_type": "code",
   "execution_count": 13,
   "metadata": {},
   "outputs": [],
   "source": [
    "def find_func_exec_and_compare_with_func_creation(funcName):\n",
    "    example_func_execs = list(\n",
    "        filter(lambda func: func[FUNCTIONS_JSON_PROPERTIES_NAMES.FUNC_NAME].endswith(funcName), func_exec_storage)\n",
    "    )\n",
    "    for example_func_exec in example_func_execs:\n",
    "        exec_func = FunctionExecution(example_func_exec, func_creation_dic, word2VecModel)\n",
    "\n",
    "        print('Вызов функции:', exec_func.func_name, 'c аргументами', exec_func.args_names)\n",
    "        print('Функция же была объявлена с словаре с аргументами:', exec_func.args_in_creation_dic)\n",
    "        print(exec_func.args_similarity_with_creation_args)\n",
    "        print('_________________________________________________')"
   ]
  },
  {
   "cell_type": "code",
   "execution_count": 14,
   "metadata": {},
   "outputs": [
    {
     "name": "stdout",
     "output_type": "stream",
     "text": [
      "Вызов функции: updateLine c аргументами ['lastLine', '', 'lastSpans', 'estimateHeight']\n",
      "Функция же была объявлена с словаре с аргументами: ['line', 'text', 'markedSpans', 'estimateHeight']\n",
      "[0.40866297, None, -0.024005493, 1.0]\n",
      "_________________________________________________\n",
      "Вызов функции: windowSearch c аргументами ['strSelectorName', None, 900, 'strTop', 'strLeft', 'strWindowName', 'parameters', None]\n",
      "Функция же была объявлена с словаре с аргументами: ['strPage', 'strHeight', 'strWidth', 'strTop', 'strLeft', 'strWindow', 'parameters', 'strValueID']\n",
      "[0.4237818, None, None, 1.0, 1.0, None, 1.0, None]\n",
      "_________________________________________________\n",
      "Вызов функции: windowSearch c аргументами ['strSelectorName', 450, 650, 'strTop', 'strLeft', 'strWindowName', 'parameters', 'strValueID']\n",
      "Функция же была объявлена с словаре с аргументами: ['strPage', 'strHeight', 'strWidth', 'strTop', 'strLeft', 'strWindow', 'parameters', 'strValueID']\n",
      "[0.4237818, None, None, 1.0, 1.0, None, 1.0, 0.99999994]\n",
      "_________________________________________________\n"
     ]
    }
   ],
   "source": [
    "find_func_exec_and_compare_with_func_creation('updateLine')\n",
    "find_func_exec_and_compare_with_func_creation('windowSearch')"
   ]
  },
  {
   "cell_type": "markdown",
   "metadata": {},
   "source": [
    "# Реализация алгоритма по поиску сомнительных мест"
   ]
  },
  {
   "cell_type": "markdown",
   "metadata": {},
   "source": [
    "Идея максимально проста. Проходим по массиву вызовов функции.\n",
    "\n",
    "- По названию функции определяем в словаре с объявлениями функций, с какими названиями аргументов была объявлена эта функция\n",
    "- Для каждой пары аргументов (название аргумента в момент вызовы функции и название аргумента в момент объявление функции) считаем близость их названий в векторной форме с помощью уже построенной модели word2Vec (это будет значение 0 до 1)\n",
    "- Если эта схожесть меньше заданного порога (threshold), то выбрасываем предупреждение пользователю"
   ]
  },
  {
   "cell_type": "markdown",
   "metadata": {},
   "source": [
    "### Threshold"
   ]
  },
  {
   "cell_type": "code",
   "execution_count": 15,
   "metadata": {},
   "outputs": [],
   "source": [
    "MIN_SIMILARITY_THRESHOLD = 0.1"
   ]
  },
  {
   "cell_type": "code",
   "execution_count": 16,
   "metadata": {},
   "outputs": [],
   "source": [
    "def if_any_arg_below_threshold(list_with_sims, min_sim_threshold = MIN_SIMILARITY_THRESHOLD):\n",
    "    if not list_with_sims:\n",
    "        return False\n",
    "    \n",
    "    is_below_threshold_args_similarities = list(\n",
    "        map(lambda x: x and x < min_sim_threshold, list_with_sims))\n",
    "\n",
    "    return any(is_below_threshold_args_similarities)"
   ]
  },
  {
   "cell_type": "markdown",
   "metadata": {},
   "source": [
    "Порог не должен быть большой, потому что модели важно достичь высокого precision, а не recall.\n",
    "\n",
    "Если наш алгоритм будет часто беспокоить пользователя по пустякам, предупреждая об ошибках там, где их нет (false positive), то нашим алгоритмом просто никто не будет пользоваться. Нужно беспокоить программиста только прям в самых вероятных случаях наличия ошибки. Ведь программисты люди ленивые и занятые... "
   ]
  },
  {
   "cell_type": "code",
   "execution_count": 21,
   "metadata": {
    "scrolled": true
   },
   "outputs": [
    {
     "name": "stdout",
     "output_type": "stream",
     "text": [
      "В файле scripts/HumbleSoftware/Flotr2/js/plugins/handles.js проверь функцию observe\n",
      "Она вызвана с аргументами ['right', 'mousedown', '']\n",
      "Но вот объявлена функция со следующими аргументами:\n",
      "['object', 'name', 'callback']\n",
      "Попарная схожесть аргументов (c названиями в объявленной функции): [0.14292708, -0.098470755, None]\n",
      "Общая схожесть (c названиями в объявленной функции): 0.0938832\n",
      "Попарная схожесть аргументов c названием функции: [0.034494292, 0.14384314, None]\n",
      "_____________\n",
      "В файле scripts/HumbleSoftware/Flotr2/js/plugins/handles.js проверь функцию observe\n",
      "Она вызвана с аргументами ['document', 'mouseup', '']\n",
      "Но вот объявлена функция со следующими аргументами:\n",
      "['object', 'name', 'callback']\n",
      "Попарная схожесть аргументов (c названиями в объявленной функции): [0.036123782, -0.10123442, None]\n",
      "Общая схожесть (c названиями в объявленной функции): 0.036580607\n",
      "Попарная схожесть аргументов c названием функции: [0.09114792, 0.2319968, None]\n",
      "_____________\n",
      "В файле scripts/IvyApp/ivy-codemirror/tests/unit/components/ivy-codemirror-test.js проверь функцию optionTest\n",
      "Она вызвана с аргументами ['extraKeys', None, 'basic']\n",
      "Но вот объявлена функция со следующими аргументами:\n",
      "['key', 'beforeValue', 'afterValue']\n",
      "Попарная схожесть аргументов (c названиями в объявленной функции): [None, None, 0.032300405]\n",
      "Общая схожесть (c названиями в объявленной функции): -0.0059637623\n",
      "Попарная схожесть аргументов c названием функции: [0.09288566, None]\n",
      "_____________\n",
      "В файле scripts/PaulKinlan/WebIntents/src/webintents.js проверь функцию addEventListener\n",
      "Она вызвана с аргументами ['iframe', 'load', '', False]\n",
      "Но вот объявлена функция со следующими аргументами:\n",
      "['obj', 'type', 'func', 'capture']\n",
      "Попарная схожесть аргументов (c названиями в объявленной функции): [None, 0.060533173, None, None]\n",
      "Общая схожесть (c названиями в объявленной функции): 0.079741046\n",
      "Попарная схожесть аргументов c названием функции: [0.08878515, 0.15837161, None]\n",
      "_____________\n",
      "В файле scripts/PaulKinlan/WebIntents/src/webintents.js проверь функцию addEventListener\n",
      "Она вызвана с аргументами ['head', 'DOMNodeInserted', 'onIntentDOMAdded', False]\n",
      "Но вот объявлена функция со следующими аргументами:\n",
      "['obj', 'type', 'func', 'capture']\n",
      "Попарная схожесть аргументов (c названиями в объявленной функции): [None, 0.015269211, None, None]\n",
      "Общая схожесть (c названиями в объявленной функции): 0.07680229\n",
      "Попарная схожесть аргументов c названием функции: [0.069325715, 0.21610449, None]\n",
      "_____________\n",
      "В файле scripts/Strav/Change-Colors/options_manage.js проверь функцию bindColor\n",
      "Она вызвана с аргументами ['text_color', 'color', 'sampleBlock']\n",
      "Но вот объявлена функция со следующими аргументами:\n",
      "['elementId', 'attributeName', 'targetId']\n",
      "Попарная схожесть аргументов (c названиями в объявленной функции): [0.018885475, -0.013321564, 0.050865445]\n",
      "Общая схожесть (c названиями в объявленной функции): 0.05351461\n",
      "Попарная схожесть аргументов c названием функции: [0.45209092, 0.07314852, -0.28718778]\n",
      "_____________\n",
      "В файле scripts/appcelerator/titanium_mobile/demos/KitchenSink-Nook/Resources/examples/json.js проверь функцию testRow\n",
      "Она вызвана с аргументами ['array', '[1, 2, 3]', '']\n",
      "Но вот объявлена функция со следующими аргументами:\n",
      "['name', 'str', 'testfn']\n",
      "Попарная схожесть аргументов (c названиями в объявленной функции): [0.023615485, None, None]\n",
      "Общая схожесть (c названиями в объявленной функции): 0.07360643\n",
      "Попарная схожесть аргументов c названием функции: [-0.10902935, None]\n",
      "_____________\n",
      "В файле scripts/basisjs/basisjs/src/basis/data/dataset.js проверь функцию add\n",
      "Она вызвана с аргументами ['SOURCE', '{}', '']\n",
      "Но вот объявлена функция со следующими аргументами:\n",
      "['this_', 'part', 'value']\n",
      "Попарная схожесть аргументов (c названиями в объявленной функции): [0.09256555, None, None]\n",
      "Общая схожесть (c названиями в объявленной функции): 0.006685961\n",
      "Попарная схожесть аргументов c названием функции: [-0.044863712, None]\n",
      "_____________\n",
      "В файле scripts/benatkin/codemirror/codemirror.js проверь функцию on\n",
      "Она вызвана с аргументами ['document', 'mouseup', 'dragEnd']\n",
      "Но вот объявлена функция со следующими аргументами:\n",
      "['emitter', 'type', 'f']\n",
      "Попарная схожесть аргументов (c названиями в объявленной функции): [0.007328682, -0.09923794, None]\n",
      "Общая схожесть (c названиями в объявленной функции): 0.029680355\n",
      "Попарная схожесть аргументов c названием функции: [-0.025412811, 0.28017068, 0.20346577]\n",
      "_____________\n",
      "В файле scripts/benatkin/codemirror/codemirror.js проверь функцию off\n",
      "Она вызвана с аргументами ['document', 'mousemove', 'move']\n",
      "Но вот объявлена функция со следующими аргументами:\n",
      "['emitter', 'type', 'f']\n",
      "Попарная схожесть аргументов (c названиями в объявленной функции): [0.007328682, -0.117143854, None]\n",
      "Общая схожесть (c названиями в объявленной функции): 0.084875986\n",
      "Попарная схожесть аргументов c названием функции: [0.03715688, 0.31092894, 0.26244682]\n",
      "_____________\n",
      "В файле scripts/benatkin/codemirror/codemirror.js проверь функцию off\n",
      "Она вызвана с аргументами ['document', 'mouseup', 'up']\n",
      "Но вот объявлена функция со следующими аргументами:\n",
      "['emitter', 'type', 'f']\n",
      "Попарная схожесть аргументов (c названиями в объявленной функции): [0.007328682, -0.09923794, None]\n",
      "Общая схожесть (c названиями в объявленной функции): 0.04417057\n",
      "Попарная схожесть аргументов c названием функции: [0.03715688, 0.3264752, 0.13876697]\n",
      "_____________\n",
      "В файле scripts/benatkin/codemirror/codemirror.js проверь функцию on\n",
      "Она вызвана с аргументами ['document', 'mousemove', 'move']\n",
      "Но вот объявлена функция со следующими аргументами:\n",
      "['emitter', 'type', 'f']\n",
      "Попарная схожесть аргументов (c названиями в объявленной функции): [0.007328682, -0.117143854, None]\n",
      "Общая схожесть (c названиями в объявленной функции): 0.084875986\n",
      "Попарная схожесть аргументов c названием функции: [-0.025412811, 0.2115136, 0.21408933]\n",
      "_____________\n",
      "В файле scripts/benatkin/codemirror/codemirror.js проверь функцию on\n",
      "Она вызвана с аргументами ['document', 'mouseup', 'up']\n",
      "Но вот объявлена функция со следующими аргументами:\n",
      "['emitter', 'type', 'f']\n",
      "Попарная схожесть аргументов (c названиями в объявленной функции): [0.007328682, -0.09923794, None]\n",
      "Общая схожесть (c названиями в объявленной функции): 0.04417057\n",
      "Попарная схожесть аргументов c названием функции: [-0.025412811, 0.28017068, 0.19385771]\n",
      "_____________\n",
      "В файле scripts/benatkin/codemirror/codemirror.js проверь функцию option\n",
      "Она вызвана с аргументами ['indentUnit', 2, 'loadMode', True]\n",
      "Но вот объявлена функция со следующими аргументами:\n",
      "['name', 'deflt', 'handle', 'notOnInit']\n",
      "Попарная схожесть аргументов (c названиями в объявленной функции): [0.012063096, None, -0.002552768, None]\n",
      "Общая схожесть (c названиями в объявленной функции): -0.0011778262\n",
      "Попарная схожесть аргументов c названием функции: [0.04450635, None]\n",
      "_____________\n",
      "В файле scripts/benatkin/codemirror/codemirror.js проверь функцию option\n",
      "Она вызвана с аргументами ['lineNumbers', False, '', True]\n",
      "Но вот объявлена функция со следующими аргументами:\n",
      "['name', 'deflt', 'handle', 'notOnInit']\n",
      "Попарная схожесть аргументов (c названиями в объявленной функции): [-0.03205877, None, None, None]\n",
      "Общая схожесть (c названиями в объявленной функции): 0.012101339\n",
      "Попарная схожесть аргументов c названием функции: [0.06601108, None]\n",
      "_____________\n",
      "В файле scripts/benatkin/codemirror/codemirror.js проверь функцию option\n",
      "Она вызвана с аргументами ['firstLineNumber', 1, 'guttersChanged', True]\n",
      "Но вот объявлена функция со следующими аргументами:\n",
      "['name', 'deflt', 'handle', 'notOnInit']\n",
      "Попарная схожесть аргументов (c названиями в объявленной функции): [-0.05487818, None, -0.007506093, None]\n",
      "Общая схожесть (c названиями в объявленной функции): -0.0072891293\n",
      "Попарная схожесть аргументов c названием функции: [0.037306488, None]\n",
      "_____________\n",
      "В файле scripts/bolinfest/plovr/closure/closure-library/closure/goog/labs/net/webchannel/webchannelbase_test.js проверь функцию connect\n",
      "Она вызвана с аргументами ['undefined', 'undefined', 'undefined', True]\n",
      "Но вот объявлена функция со следующими аргументами:\n",
      "['opt_serverVersion', 'opt_hostPrefix', 'opt_uriPrefix', 'opt_spdyEnabled']\n",
      "Попарная схожесть аргументов (c названиями в объявленной функции): [0.06811098, 0.077401675, None, None]\n",
      "Общая схожесть (c названиями в объявленной функции): 0.07501897\n",
      "Попарная схожесть аргументов c названием функции: [0.042983677, 0.042983677, 0.042983677, None]\n",
      "_____________\n",
      "В файле scripts/bolinfest/plovr/closure/closure-library/closure/goog/labs/net/webchannel/webchannelbase_test.js проверь функцию connect\n",
      "Она вызвана с аргументами ['undefined', 'undefined', 'undefined', True]\n",
      "Но вот объявлена функция со следующими аргументами:\n",
      "['opt_serverVersion', 'opt_hostPrefix', 'opt_uriPrefix', 'opt_spdyEnabled']\n",
      "Попарная схожесть аргументов (c названиями в объявленной функции): [0.06811098, 0.077401675, None, None]\n",
      "Общая схожесть (c названиями в объявленной функции): 0.07501897\n",
      "Попарная схожесть аргументов c названием функции: [0.042983677, 0.042983677, 0.042983677, None]\n",
      "_____________\n",
      "В файле scripts/bolinfest/plovr/closure/closure-library/closure/goog/labs/net/webchannel/webchannelbase_test.js проверь функцию connect\n",
      "Она вызвана с аргументами ['undefined', 'undefined', 'undefined', True]\n",
      "Но вот объявлена функция со следующими аргументами:\n",
      "['opt_serverVersion', 'opt_hostPrefix', 'opt_uriPrefix', 'opt_spdyEnabled']\n",
      "Попарная схожесть аргументов (c названиями в объявленной функции): [0.06811098, 0.077401675, None, None]\n",
      "Общая схожесть (c названиями в объявленной функции): 0.07501897\n",
      "Попарная схожесть аргументов c названием функции: [0.042983677, 0.042983677, 0.042983677, None]\n",
      "_____________\n",
      "В файле scripts/bolinfest/plovr/closure/closure-library/closure/goog/labs/net/webchannel/webchannelbase_test.js проверь функцию connect\n",
      "Она вызвана с аргументами ['undefined', 'undefined', 'undefined', True]\n",
      "Но вот объявлена функция со следующими аргументами:\n",
      "['opt_serverVersion', 'opt_hostPrefix', 'opt_uriPrefix', 'opt_spdyEnabled']\n",
      "Попарная схожесть аргументов (c названиями в объявленной функции): [0.06811098, 0.077401675, None, None]\n",
      "Общая схожесть (c названиями в объявленной функции): 0.07501897\n",
      "Попарная схожесть аргументов c названием функции: [0.042983677, 0.042983677, 0.042983677, None]\n",
      "_____________\n",
      "В файле scripts/bolinfest/plovr/closure/closure-library/closure/goog/labs/net/webchannel/webchannelbase_test.js проверь функцию connect\n",
      "Она вызвана с аргументами ['undefined', 'undefined', 'undefined', True]\n",
      "Но вот объявлена функция со следующими аргументами:\n",
      "['opt_serverVersion', 'opt_hostPrefix', 'opt_uriPrefix', 'opt_spdyEnabled']\n",
      "Попарная схожесть аргументов (c названиями в объявленной функции): [0.06811098, 0.077401675, None, None]\n",
      "Общая схожесть (c названиями в объявленной функции): 0.07501897\n",
      "Попарная схожесть аргументов c названием функции: [0.042983677, 0.042983677, 0.042983677, None]\n",
      "_____________\n",
      "В файле scripts/bolinfest/plovr/closure/closure-library/closure/goog/labs/net/webchannel/webchannelbase_test.js проверь функцию connect\n",
      "Она вызвана с аргументами ['undefined', 'undefined', 'undefined', True]\n",
      "Но вот объявлена функция со следующими аргументами:\n",
      "['opt_serverVersion', 'opt_hostPrefix', 'opt_uriPrefix', 'opt_spdyEnabled']\n",
      "Попарная схожесть аргументов (c названиями в объявленной функции): [0.06811098, 0.077401675, None, None]\n",
      "Общая схожесть (c названиями в объявленной функции): 0.07501897\n",
      "Попарная схожесть аргументов c названием функции: [0.042983677, 0.042983677, 0.042983677, None]\n",
      "_____________\n",
      "В файле scripts/bolinfest/plovr/closure/closure-library/closure/goog/ui/media/flashobject_test.js проверь функцию assertContainsParam\n",
      "Она вызвана с аргументами ['el', 'AllowScriptAccess', 'allowScriptAccess']\n",
      "Но вот объявлена функция со следующими аргументами:\n",
      "['element', 'expectedName', 'expectedValue']\n",
      "Попарная схожесть аргументов (c названиями в объявленной функции): [None, 0.20245792, -0.08899048]\n",
      "Общая схожесть (c названиями в объявленной функции): 0.07131975\n",
      "Попарная схожесть аргументов c названием функции: [0.09477985, 0.20974118, 0.043770865]\n",
      "_____________\n",
      "В файле scripts/bolinfest/plovr/closure/closure-library/closure/goog/ui/media/flashobject_test.js проверь функцию assertContainsParam\n",
      "Она вызвана с аргументами ['el', 'bgcolor', 'backgroundColor']\n",
      "Но вот объявлена функция со следующими аргументами:\n",
      "['element', 'expectedName', 'expectedValue']\n",
      "Попарная схожесть аргументов (c названиями в объявленной функции): [None, 0.09732091, -0.03375855]\n",
      "Общая схожесть (c названиями в объявленной функции): 0.074351706\n",
      "Попарная схожесть аргументов c названием функции: [0.09477985, 0.16623774, -0.05728119]\n",
      "_____________\n",
      "В файле scripts/bolinfest/plovr/closure/closure-library/closure/goog/ui/media/flashobject_test.js проверь функцию assertContainsParam\n",
      "Она вызвана с аргументами ['el', 'quality', 'high']\n",
      "Но вот объявлена функция со следующими аргументами:\n",
      "['element', 'expectedName', 'expectedValue']\n",
      "Попарная схожесть аргументов (c названиями в объявленной функции): [None, 0.0017828724, 0.0012290382]\n",
      "Общая схожесть (c названиями в объявленной функции): 0.0740756\n",
      "Попарная схожесть аргументов c названием функции: [0.09477985, 0.07331088, 0.03449824]\n",
      "_____________\n",
      "В файле scripts/bolinfest/plovr/closure/closure-library/closure/goog/ui/media/flashobject_test.js проверь функцию assertContainsParam\n",
      "Она вызвана с аргументами ['el', 'wmode', 'wmode']\n",
      "Но вот объявлена функция со следующими аргументами:\n",
      "['element', 'expectedName', 'expectedValue']\n",
      "Попарная схожесть аргументов (c названиями в объявленной функции): [None, 0.055818357, -0.06840334]\n",
      "Общая схожесть (c названиями в объявленной функции): 0.0062134694\n",
      "Попарная схожесть аргументов c названием функции: [0.09477985, 0.13500793, 0.13500793]\n",
      "_____________\n"
     ]
    },
    {
     "name": "stdout",
     "output_type": "stream",
     "text": [
      "В файле scripts/carlsmith/coffeeshop/scripts/cosh/sugar.js проверь функцию extend\n",
      "Она вызвана с аргументами ['number', True, True, '{}']\n",
      "Но вот объявлена функция со следующими аргументами:\n",
      "['klass', 'instance', 'override', 'methods']\n",
      "Попарная схожесть аргументов (c названиями в объявленной функции): [0.014782673, None, None, None]\n",
      "Общая схожесть (c названиями в объявленной функции): 0.06474095\n",
      "Попарная схожесть аргументов c названием функции: [0.037803985, None]\n",
      "_____________\n",
      "В файле scripts/carlsmith/coffeeshop/scripts/cosh/sugar.js проверь функцию extend\n",
      "Она вызвана с аргументами ['number', False, True, '{}']\n",
      "Но вот объявлена функция со следующими аргументами:\n",
      "['klass', 'instance', 'override', 'methods']\n",
      "Попарная схожесть аргументов (c названиями в объявленной функции): [0.014782673, None, None, None]\n",
      "Общая схожесть (c названиями в объявленной функции): 0.06474095\n",
      "Попарная схожесть аргументов c названием функции: [0.037803985, None]\n",
      "_____________\n",
      "В файле scripts/carlsmith/coffeeshop/scripts/cosh/sugar.js проверь функцию extend\n",
      "Она вызвана с аргументами ['number', True, True, '{}']\n",
      "Но вот объявлена функция со следующими аргументами:\n",
      "['klass', 'instance', 'override', 'methods']\n",
      "Попарная схожесть аргументов (c названиями в объявленной функции): [0.014782673, None, None, None]\n",
      "Общая схожесть (c названиями в объявленной функции): 0.06474095\n",
      "Попарная схожесть аргументов c названием функции: [0.037803985, None]\n",
      "_____________\n",
      "В файле scripts/carlsmith/coffeeshop/scripts/cosh/sugar.js проверь функцию extend\n",
      "Она вызвана с аргументами ['number', True, True, '{}']\n",
      "Но вот объявлена функция со следующими аргументами:\n",
      "['klass', 'instance', 'override', 'methods']\n",
      "Попарная схожесть аргументов (c названиями в объявленной функции): [0.014782673, None, None, None]\n",
      "Общая схожесть (c названиями в объявленной функции): 0.06474095\n",
      "Попарная схожесть аргументов c названием функции: [0.037803985, None]\n",
      "_____________\n",
      "В файле scripts/carlsmith/coffeeshop/scripts/cosh/sugar.js проверь функцию extend\n",
      "Она вызвана с аргументами ['number', True, True, '{}']\n",
      "Но вот объявлена функция со следующими аргументами:\n",
      "['klass', 'instance', 'override', 'methods']\n",
      "Попарная схожесть аргументов (c названиями в объявленной функции): [0.014782673, None, None, None]\n",
      "Общая схожесть (c названиями в объявленной функции): 0.06474095\n",
      "Попарная схожесть аргументов c названием функции: [0.037803985, None]\n",
      "_____________\n",
      "В файле scripts/carlsmith/coffeeshop/scripts/cosh/sugar.js проверь функцию extend\n",
      "Она вызвана с аргументами ['number', True, True, '{}']\n",
      "Но вот объявлена функция со следующими аргументами:\n",
      "['klass', 'instance', 'override', 'methods']\n",
      "Попарная схожесть аргументов (c названиями в объявленной функции): [0.014782673, None, None, None]\n",
      "Общая схожесть (c названиями в объявленной функции): 0.06474095\n",
      "Попарная схожесть аргументов c названием функции: [0.037803985, None]\n",
      "_____________\n",
      "В файле scripts/cdnjs/cdnjs/ajax/libs/angular-hotkeys/1.0.0/hotkeys.js проверь функцию _addEvent\n",
      "Она вызвана с аргументами ['document', 'keypress', '_handleKeyEvent']\n",
      "Но вот объявлена функция со следующими аргументами:\n",
      "['object', 'type', 'callback']\n",
      "Попарная схожесть аргументов (c названиями в объявленной функции): [0.036123782, -0.053994905, 0.1584303]\n",
      "Общая схожесть (c названиями в объявленной функции): 0.06886458\n",
      "Попарная схожесть аргументов c названием функции: [0.023562511, 0.24266762, 0.33480182]\n",
      "_____________\n",
      "В файле scripts/cdnjs/cdnjs/ajax/libs/angular-hotkeys/1.2.2/hotkeys.js проверь функцию _addEvent\n",
      "Она вызвана с аргументами ['document', 'keypress', '_handleKeyEvent']\n",
      "Но вот объявлена функция со следующими аргументами:\n",
      "['object', 'type', 'callback']\n",
      "Попарная схожесть аргументов (c названиями в объявленной функции): [0.036123782, -0.053994905, 0.1584303]\n",
      "Общая схожесть (c названиями в объявленной функции): 0.06886458\n",
      "Попарная схожесть аргументов c названием функции: [0.023562511, 0.24266762, 0.33480182]\n",
      "_____________\n",
      "В файле scripts/cdnjs/cdnjs/ajax/libs/angular-hotkeys/1.3.1/hotkeys.js проверь функцию _addEvent\n",
      "Она вызвана с аргументами ['document', 'keypress', '_handleKeyEvent']\n",
      "Но вот объявлена функция со следующими аргументами:\n",
      "['object', 'type', 'callback']\n",
      "Попарная схожесть аргументов (c названиями в объявленной функции): [0.036123782, -0.053994905, 0.1584303]\n",
      "Общая схожесть (c названиями в объявленной функции): 0.06886458\n",
      "Попарная схожесть аргументов c названием функции: [0.023562511, 0.24266762, 0.33480182]\n",
      "_____________\n",
      "В файле scripts/cdnjs/cdnjs/ajax/libs/angular-hotkeys/1.4.0/hotkeys.js проверь функцию _addEvent\n",
      "Она вызвана с аргументами ['document', 'keypress', '_handleKeyEvent']\n",
      "Но вот объявлена функция со следующими аргументами:\n",
      "['object', 'type', 'callback']\n",
      "Попарная схожесть аргументов (c названиями в объявленной функции): [0.036123782, -0.053994905, 0.1584303]\n",
      "Общая схожесть (c названиями в объявленной функции): 0.06886458\n",
      "Попарная схожесть аргументов c названием функции: [0.023562511, 0.24266762, 0.33480182]\n",
      "_____________\n",
      "В файле scripts/cdnjs/cdnjs/ajax/libs/draggabilly/1.0.2/draggabilly.pkgd.js проверь функцию bind\n",
      "Она вызвана с аргументами ['document', 'readystatechange', 'init']\n",
      "Но вот объявлена функция со следующими аргументами:\n",
      "['f', 'obj', 'var_args']\n",
      "Попарная схожесть аргументов (c названиями в объявленной функции): [None, None, -0.014814449]\n",
      "Общая схожесть (c названиями в объявленной функции): 0.08714619\n",
      "Попарная схожесть аргументов c названием функции: [0.07202274, 0.06609967, 0.138683]\n",
      "_____________\n",
      "В файле scripts/cdnjs/cdnjs/ajax/libs/immutable/2.6.2/immutable.js проверь функцию createClass\n",
      "Она вызвана с аргументами ['IndexedCursor', '{}', '{}', 'IndexedSequence']\n",
      "Но вот объявлена функция со следующими аргументами:\n",
      "['ctor', 'methods', 'staticMethods', 'superClass']\n",
      "Попарная схожесть аргументов (c названиями в объявленной функции): [-0.020221496, None, None, 0.0066002416]\n",
      "Общая схожесть (c названиями в объявленной функции): -0.044331226\n",
      "Попарная схожесть аргументов c названием функции: [0.042216368, None]\n",
      "_____________\n",
      "В файле scripts/cdnjs/cdnjs/ajax/libs/immutable/3.2.1/immutable.js проверь функцию createClass\n",
      "Она вызвана с аргументами ['KeyedSeq', '{}', '{}', 'Seq']\n",
      "Но вот объявлена функция со следующими аргументами:\n",
      "['ctor', 'methods', 'staticMethods', 'superClass']\n",
      "Попарная схожесть аргументов (c названиями в объявленной функции): [0.07470085, None, None, None]\n",
      "Общая схожесть (c названиями в объявленной функции): 0.08989353\n",
      "Попарная схожесть аргументов c названием функции: [0.02574063, None]\n",
      "_____________\n",
      "В файле scripts/cdnjs/cdnjs/ajax/libs/immutable/3.2.1/immutable.js проверь функцию createClass\n",
      "Она вызвана с аргументами ['SetSeq', '{}', '{}', 'Seq']\n",
      "Но вот объявлена функция со следующими аргументами:\n",
      "['ctor', 'methods', 'staticMethods', 'superClass']\n",
      "Попарная схожесть аргументов (c названиями в объявленной функции): [0.06425186, None, None, None]\n",
      "Общая схожесть (c названиями в объявленной функции): 0.08494448\n",
      "Попарная схожесть аргументов c названием функции: [-0.067096554, None]\n",
      "_____________\n",
      "В файле scripts/cdnjs/cdnjs/ajax/libs/mootools-more/1.5.1/mootools-more-full-nocompat.js проверь функцию define\n",
      "Она вызвана с аргументами ['ar', 'Date', '{}']\n",
      "Но вот объявлена функция со следующими аргументами:\n",
      "['id', 'dependencies', 'definition']\n",
      "Попарная схожесть аргументов (c названиями в объявленной функции): [None, 0.018829169, None]\n",
      "Общая схожесть (c названиями в объявленной функции): 0.048392758\n",
      "Попарная схожесть аргументов c названием функции: [0.048129555, -0.0211963, None]\n",
      "_____________\n",
      "В файле scripts/cdnjs/cdnjs/ajax/libs/mootools-more/1.5.1/mootools-more-full-nocompat.js проверь функцию define\n",
      "Она вызвана с аргументами ['ar', 'FormValidator', '{}']\n",
      "Но вот объявлена функция со следующими аргументами:\n",
      "['id', 'dependencies', 'definition']\n",
      "Попарная схожесть аргументов (c названиями в объявленной функции): [None, -0.047918264, None]\n",
      "Общая схожесть (c названиями в объявленной функции): 0.0475858\n",
      "Попарная схожесть аргументов c названием функции: [0.048129555, 0.057057776, None]\n",
      "_____________\n",
      "В файле scripts/cdnjs/cdnjs/ajax/libs/mootools-more/1.5.1/mootools-more-full-nocompat.js проверь функцию define\n",
      "Она вызвана с аргументами ['fa', 'Date', '{}']\n",
      "Но вот объявлена функция со следующими аргументами:\n",
      "['id', 'dependencies', 'definition']\n",
      "Попарная схожесть аргументов (c названиями в объявленной функции): [None, 0.018829169, None]\n",
      "Общая схожесть (c названиями в объявленной функции): 0.034058735\n",
      "Попарная схожесть аргументов c названием функции: [0.11117269, -0.0211963, None]\n",
      "_____________\n",
      "В файле scripts/cdnjs/cdnjs/ajax/libs/mootools-more/1.5.1/mootools-more-full-nocompat.js проверь функцию define\n",
      "Она вызвана с аргументами ['fa', 'FormValidator', '{}']\n",
      "Но вот объявлена функция со следующими аргументами:\n",
      "['id', 'dependencies', 'definition']\n",
      "Попарная схожесть аргументов (c названиями в объявленной функции): [None, -0.047918264, None]\n",
      "Общая схожесть (c названиями в объявленной функции): 0.03879995\n",
      "Попарная схожесть аргументов c названием функции: [0.11117269, 0.057057776, None]\n",
      "_____________\n",
      "В файле scripts/cdnjs/cdnjs/ajax/libs/polymer/0.5.2/polymer.js проверь функцию defineProperty\n",
      "Она вызвана с аргументами ['rootDocument', '_currentScript', 'currentScriptDescriptor']\n",
      "Но вот объявлена функция со следующими аргументами:\n",
      "['target', 'name', 'method']\n",
      "Попарная схожесть аргументов (c названиями в объявленной функции): [0.00667702, None, None]\n",
      "Общая схожесть (c названиями в объявленной функции): 0.00705875\n",
      "Попарная схожесть аргументов c названием функции: [0.050824177, None]\n",
      "_____________\n"
     ]
    },
    {
     "name": "stdout",
     "output_type": "stream",
     "text": [
      "В файле scripts/cdnjs/cdnjs/ajax/libs/webcomponentsjs/0.5.1-1/webcomponents-lite.js проверь функцию defineProperty\n",
      "Она вызвана с аргументами ['rootDocument', '_currentScript', 'currentScriptDescriptor']\n",
      "Но вот объявлена функция со следующими аргументами:\n",
      "['target', 'name', 'method']\n",
      "Попарная схожесть аргументов (c названиями в объявленной функции): [0.00667702, None, None]\n",
      "Общая схожесть (c названиями в объявленной функции): 0.00705875\n",
      "Попарная схожесть аргументов c названием функции: [0.050824177, None]\n",
      "_____________\n",
      "В файле scripts/cdnjs/cdnjs/ajax/libs/webcomponentsjs/0.5.4/HTMLImports.js проверь функцию defineProperty\n",
      "Она вызвана с аргументами ['rootDocument', '_currentScript', 'currentScriptDescriptor']\n",
      "Но вот объявлена функция со следующими аргументами:\n",
      "['target', 'name', 'method']\n",
      "Попарная схожесть аргументов (c названиями в объявленной функции): [0.00667702, None, None]\n",
      "Общая схожесть (c названиями в объявленной функции): 0.00705875\n",
      "Попарная схожесть аргументов c названием функции: [0.050824177, None]\n",
      "_____________\n",
      "В файле scripts/cdnjs/cdnjs/ajax/libs/webcomponentsjs/0.5.5/webcomponents-lite.js проверь функцию defineProperty\n",
      "Она вызвана с аргументами ['rootDocument', '_currentScript', 'currentScriptDescriptor']\n",
      "Но вот объявлена функция со следующими аргументами:\n",
      "['target', 'name', 'method']\n",
      "Попарная схожесть аргументов (c названиями в объявленной функции): [0.00667702, None, None]\n",
      "Общая схожесть (c названиями в объявленной функции): 0.00705875\n",
      "Попарная схожесть аргументов c названием функции: [0.050824177, None]\n",
      "_____________\n",
      "В файле scripts/cdnjs/cdnjs/ajax/libs/webcomponentsjs/0.6.0/webcomponents-lite.js проверь функцию defineProperty\n",
      "Она вызвана с аргументами ['rootDocument', '_currentScript', 'currentScriptDescriptor']\n",
      "Но вот объявлена функция со следующими аргументами:\n",
      "['target', 'name', 'method']\n",
      "Попарная схожесть аргументов (c названиями в объявленной функции): [0.00667702, None, None]\n",
      "Общая схожесть (c названиями в объявленной функции): 0.00705875\n",
      "Попарная схожесть аргументов c названием функции: [0.050824177, None]\n",
      "_____________\n",
      "В файле scripts/cgrinds/dripdripdrop/assets/js/libs/mousetrap.js проверь функцию _addEvent\n",
      "Она вызвана с аргументами ['document', 'keypress', '_handleKey']\n",
      "Но вот объявлена функция со следующими аргументами:\n",
      "['object', 'type', 'callback']\n",
      "Попарная схожесть аргументов (c названиями в объявленной функции): [0.036123782, -0.053994905, 0.10915882]\n",
      "Общая схожесть (c названиями в объявленной функции): 0.06441845\n",
      "Попарная схожесть аргументов c названием функции: [0.023562511, 0.24266762, 0.17979917]\n",
      "_____________\n",
      "В файле scripts/cgrinds/dripdripdrop/assets/js/libs/mousetrap.js проверь функцию _addEvent\n",
      "Она вызвана с аргументами ['document', 'keyup', '_handleKey']\n",
      "Но вот объявлена функция со следующими аргументами:\n",
      "['object', 'type', 'callback']\n",
      "Попарная схожесть аргументов (c названиями в объявленной функции): [0.036123782, -0.023045843, 0.10915882]\n",
      "Общая схожесть (c названиями в объявленной функции): 0.09931838\n",
      "Попарная схожесть аргументов c названием функции: [0.023562511, 0.2767981, 0.17979917]\n",
      "_____________\n",
      "В файле scripts/chrisnic/mkon/js/src/plugins.js проверь функцию _addEvent\n",
      "Она вызвана с аргументами ['document', 'keypress', '_handleKeyEvent']\n",
      "Но вот объявлена функция со следующими аргументами:\n",
      "['object', 'type', 'callback']\n",
      "Попарная схожесть аргументов (c названиями в объявленной функции): [0.036123782, -0.053994905, 0.1584303]\n",
      "Общая схожесть (c названиями в объявленной функции): 0.06886458\n",
      "Попарная схожесть аргументов c названием функции: [0.023562511, 0.24266762, 0.33480182]\n",
      "_____________\n",
      "В файле scripts/clowwindy/gfwlist2pac/gfwlist2pac/resources/abp.js проверь функцию extend\n",
      "Она вызвана с аргументами ['RegExpFilter', 'ActiveFilter', '{}']\n",
      "Но вот объявлена функция со следующими аргументами:\n",
      "['subclass', 'superclass', 'definition']\n",
      "Попарная схожесть аргументов (c названиями в объявленной функции): [0.010287262, None, None]\n",
      "Общая схожесть (c названиями в объявленной функции): 0.040164277\n",
      "Попарная схожесть аргументов c названием функции: [-0.041914206, None]\n",
      "_____________\n",
      "В файле scripts/cockpit-project/cockpit/examples/poc-vnc/include/util.js проверь функцию addFunc\n",
      "Она вызвана с аргументами ['Array', 'push8', '']\n",
      "Но вот объявлена функция со следующими аргументами:\n",
      "['cl', 'name', 'func']\n",
      "Попарная схожесть аргументов (c названиями в объявленной функции): [None, -0.01817422, None]\n",
      "Общая схожесть (c названиями в объявленной функции): 0.09301487\n",
      "Попарная схожесть аргументов c названием функции: [0.10055136, -0.10238237, None]\n",
      "_____________\n",
      "В файле scripts/cockpit-project/cockpit/examples/poc-vnc/include/util.js проверь функцию addFunc\n",
      "Она вызвана с аргументами ['Array', 'push16', '']\n",
      "Но вот объявлена функция со следующими аргументами:\n",
      "['cl', 'name', 'func']\n",
      "Попарная схожесть аргументов (c названиями в объявленной функции): [None, 0.02222975, None]\n",
      "Общая схожесть (c названиями в объявленной функции): 0.09588036\n",
      "Попарная схожесть аргументов c названием функции: [0.10055136, -0.0842036, None]\n",
      "_____________\n",
      "В файле scripts/ghztomash/MIDIElements/html/resize.js проверь функцию writeCookie\n",
      "Она вызвана с аргументами ['width', 'sidenavWidth', None]\n",
      "Но вот объявлена функция со следующими аргументами:\n",
      "['cookie', 'val', 'expiration']\n",
      "Попарная схожесть аргументов (c названиями в объявленной функции): [0.07695417, None, None]\n",
      "Общая схожесть (c названиями в объявленной функции): 0.050859112\n",
      "Попарная схожесть аргументов c названием функции: [-0.04443889, None]\n",
      "_____________\n",
      "В файле scripts/kanaka/noVNC/include/util.js проверь функцию addFunc\n",
      "Она вызвана с аргументами ['Array', 'push8', '']\n",
      "Но вот объявлена функция со следующими аргументами:\n",
      "['cl', 'name', 'func']\n",
      "Попарная схожесть аргументов (c названиями в объявленной функции): [None, -0.01817422, None]\n",
      "Общая схожесть (c названиями в объявленной функции): 0.09301487\n",
      "Попарная схожесть аргументов c названием функции: [0.10055136, -0.10238237, None]\n",
      "_____________\n",
      "В файле scripts/kanaka/noVNC/include/util.js проверь функцию addFunc\n",
      "Она вызвана с аргументами ['Array', 'push16', '']\n",
      "Но вот объявлена функция со следующими аргументами:\n",
      "['cl', 'name', 'func']\n",
      "Попарная схожесть аргументов (c названиями в объявленной функции): [None, 0.02222975, None]\n",
      "Общая схожесть (c названиями в объявленной функции): 0.09588036\n",
      "Попарная схожесть аргументов c названием функции: [0.10055136, -0.0842036, None]\n",
      "_____________\n",
      "В файле scripts/mafik/Clearly/clearly.js проверь функцию bind\n",
      "Она вызвана с аргументами ['BACKSLASH', None, '']\n",
      "Но вот объявлена функция со следующими аргументами:\n",
      "['keyname', 'conversionFunction', 'creationFunction']\n",
      "Попарная схожесть аргументов (c названиями в объявленной функции): [-0.07658838, None, None]\n",
      "Общая схожесть (c названиями в объявленной функции): -0.07658838\n",
      "Попарная схожесть аргументов c названием функции: [0.09492111, None]\n",
      "_____________\n",
      "В файле scripts/mozilla/openbadges-discovery/clientapp/modules/editor.js проверь функцию reemit\n",
      "Она вызвана с аргументами ['grabContainer', 'rollover', 'grab-rollover']\n",
      "Но вот объявлена функция со следующими аргументами:\n",
      "['obj', 'evtName', 'newName']\n",
      "Попарная схожесть аргументов (c названиями в объявленной функции): [None, -0.0053428593, None]\n",
      "Общая схожесть (c названиями в объявленной функции): 0.08150917\n",
      "Попарная схожесть аргументов c названием функции: [0.5764729, 0.07645189, None]\n",
      "_____________\n",
      "В файле scripts/mozilla/openbadges-discovery/clientapp/modules/editor.js проверь функцию reemit\n",
      "Она вызвана с аргументами ['doneBtn', 'rollover', 'button-rollover']\n",
      "Но вот объявлена функция со следующими аргументами:\n",
      "['obj', 'evtName', 'newName']\n",
      "Попарная схожесть аргументов (c названиями в объявленной функции): [None, -0.0053428593, None]\n",
      "Общая схожесть (c названиями в объявленной функции): 0.09958067\n",
      "Попарная схожесть аргументов c названием функции: [0.42853796, 0.07645189, None]\n",
      "_____________\n",
      "В файле scripts/okjsp/okjsp-html5/WebContent/js/okjsp.js проверь функцию setCookie\n",
      "Она вызвана с аргументами ['currMenu', '', 30]\n",
      "Но вот объявлена функция со следующими аргументами:\n",
      "['name', 'value', 'expiredays']\n",
      "Попарная схожесть аргументов (c названиями в объявленной функции): [0.02078362, None, None]\n",
      "Общая схожесть (c названиями в объявленной функции): 0.017193638\n",
      "Попарная схожесть аргументов c названием функции: [0.08906701, None]\n",
      "_____________\n",
      "В файле scripts/okjsp/okjsp-html5/WebContent/js/okjsp.js проверь функцию setCookie\n",
      "Она вызвана с аргументами ['currMenu', '', 30]\n",
      "Но вот объявлена функция со следующими аргументами:\n",
      "['name', 'value', 'expiredays']\n",
      "Попарная схожесть аргументов (c названиями в объявленной функции): [0.02078362, None, None]\n",
      "Общая схожесть (c названиями в объявленной функции): 0.017193638\n",
      "Попарная схожесть аргументов c названием функции: [0.08906701, None]\n",
      "_____________\n",
      "В файле scripts/openwebos/nodejs/test/simple/test-http-1.0.js проверь функцию test\n",
      "Она вызвана с аргументами ['handler', 'request_generator', 'response_validator']\n",
      "Но вот объявлена функция со следующими аргументами:\n",
      "['size', 'useBuffer', 'cb']\n",
      "Попарная схожесть аргументов (c названиями в объявленной функции): [0.023290103, 0.07027463, None]\n",
      "Общая схожесть (c названиями в объявленной функции): 0.044245105\n",
      "Попарная схожесть аргументов c названием функции: [0.07591027, 0.080245085, 0.09282584]\n",
      "_____________\n",
      "В файле scripts/openwebos/nodejs/test/simple/test-http-1.0.js проверь функцию test\n",
      "Она вызвана с аргументами ['handler', 'request_generator', 'response_validator']\n",
      "Но вот объявлена функция со следующими аргументами:\n",
      "['size', 'useBuffer', 'cb']\n",
      "Попарная схожесть аргументов (c названиями в объявленной функции): [0.023290103, 0.07027463, None]\n",
      "Общая схожесть (c названиями в объявленной функции): 0.044245105\n",
      "Попарная схожесть аргументов c названием функции: [0.07591027, 0.080245085, 0.09282584]\n",
      "_____________\n",
      "В файле scripts/openwebos/nodejs/test/simple/test-http-1.0.js проверь функцию test\n",
      "Она вызвана с аргументами ['handler', 'request_generator', 'response_validator']\n",
      "Но вот объявлена функция со следующими аргументами:\n",
      "['size', 'useBuffer', 'cb']\n",
      "Попарная схожесть аргументов (c названиями в объявленной функции): [0.023290103, 0.07027463, None]\n",
      "Общая схожесть (c названиями в объявленной функции): 0.044245105\n",
      "Попарная схожесть аргументов c названием функции: [0.07591027, 0.080245085, 0.09282584]\n",
      "_____________\n",
      "В файле scripts/ozoneplatform/owf-framework/web-app/js-lib/dojo-release-1.5.0-src/dojo/_firebug/firebug.js проверь функцию addEvent\n",
      "Она вызвана с аргументами ['commandLine', 'keydown', 'onCommandLineKeyDown']\n",
      "Но вот объявлена функция со следующими аргументами:\n",
      "['object', 'name', 'handler']\n",
      "Попарная схожесть аргументов (c названиями в объявленной функции): [-0.036583647, -0.0649232, -0.020883271]\n",
      "Общая схожесть (c названиями в объявленной функции): 0.06480829\n",
      "Попарная схожесть аргументов c названием функции: [0.042288788, 0.107229725, 0.05804684]\n",
      "_____________\n",
      "В файле scripts/ozoneplatform/owf-framework/web-app/js-lib/dojo-release-1.5.0-src/dojo/_firebug/firebug.js проверь функцию addEvent\n",
      "Она вызвана с аргументами ['_firebugDoc', '', 'onKeyDown']\n",
      "Но вот объявлена функция со следующими аргументами:\n",
      "['object', 'name', 'handler']\n",
      "Попарная схожесть аргументов (c названиями в объявленной функции): [0.007075216, None, 0.08744507]\n",
      "Общая схожесть (c названиями в объявленной функции): -0.018528271\n",
      "Попарная схожесть аргументов c названием функции: [0.05187419, None]\n",
      "_____________\n"
     ]
    },
    {
     "name": "stdout",
     "output_type": "stream",
     "text": [
      "В файле scripts/phoboslab/WebGLImageFilter/webgl-image-filter.js проверь функцию _collect\n",
      "Она вызвана с аргументами ['vertexSource', 'uniform', '']\n",
      "Но вот объявлена функция со следующими аргументами:\n",
      "['source', 'prefix', 'collection']\n",
      "Попарная схожесть аргументов (c названиями в объявленной функции): [0.23367755, -0.04513495, None]\n",
      "Общая схожесть (c названиями в объявленной функции): 0.086511455\n",
      "Попарная схожесть аргументов c названием функции: [0.015670346, 0.045549788, None]\n",
      "_____________\n",
      "В файле scripts/phoboslab/WebGLImageFilter/webgl-image-filter.js проверь функцию _collect\n",
      "Она вызвана с аргументами ['fragmentSource', 'uniform', '']\n",
      "Но вот объявлена функция со следующими аргументами:\n",
      "['source', 'prefix', 'collection']\n",
      "Попарная схожесть аргументов (c названиями в объявленной функции): [0.21841797, -0.04513495, None]\n",
      "Общая схожесть (c названиями в объявленной функции): 0.08875588\n",
      "Попарная схожесть аргументов c названием функции: [0.081277296, 0.045549788, None]\n",
      "_____________\n",
      "В файле scripts/projectfedena/project_fedena/public/javascripts/fckeditor/editor/dialog/fck_flash/fck_flash.js проверь функцию SetAttribute\n",
      "Она вызвана с аргументами ['e', 'scale', '']\n",
      "Но вот объявлена функция со следующими аргументами:\n",
      "['element', 'attName', 'attValue']\n",
      "Попарная схожесть аргументов (c названиями в объявленной функции): [None, 0.071361095, None]\n",
      "Общая схожесть (c названиями в объявленной функции): 0.096609294\n",
      "Попарная схожесть аргументов c названием функции: [0.1391872, 0.02029945, None]\n",
      "_____________\n",
      "В файле scripts/projectfedena/project_fedena/public/javascripts/fckeditor/editor/dialog/fck_flash/fck_flash.js проверь функцию SetAttribute\n",
      "Она вызвана с аргументами ['e', 'play', '']\n",
      "Но вот объявлена функция со следующими аргументами:\n",
      "['element', 'attName', 'attValue']\n",
      "Попарная схожесть аргументов (c названиями в объявленной функции): [None, -0.07875105, None]\n",
      "Общая схожесть (c названиями в объявленной функции): 0.052666716\n",
      "Попарная схожесть аргументов c названием функции: [0.1391872, 0.059696313, None]\n",
      "_____________\n",
      "В файле scripts/projectfedena/project_fedena/public/javascripts/fckeditor/editor/dialog/fck_flash/fck_flash.js проверь функцию SetAttribute\n",
      "Она вызвана с аргументами ['e', 'loop', '']\n",
      "Но вот объявлена функция со следующими аргументами:\n",
      "['element', 'attName', 'attValue']\n",
      "Попарная схожесть аргументов (c названиями в объявленной функции): [None, -0.03918817, None]\n",
      "Общая схожесть (c названиями в объявленной функции): -0.0014733617\n",
      "Попарная схожесть аргументов c названием функции: [0.1391872, -0.011508036, None]\n",
      "_____________\n",
      "В файле scripts/projectfedena/project_fedena/public/javascripts/fckeditor/editor/dialog/fck_flash/fck_flash.js проверь функцию SetAttribute\n",
      "Она вызвана с аргументами ['e', 'menu', '']\n",
      "Но вот объявлена функция со следующими аргументами:\n",
      "['element', 'attName', 'attValue']\n",
      "Попарная схожесть аргументов (c названиями в объявленной функции): [None, -0.058042604, None]\n",
      "Общая схожесть (c названиями в объявленной функции): 0.047302127\n",
      "Попарная схожесть аргументов c названием функции: [0.1391872, 0.082948804, None]\n",
      "_____________\n",
      "В файле scripts/pubnub/javascript/modern/pubnub.js проверь функцию bind\n",
      "Она вызвана с аргументами ['beforeunload', 'window', '']\n",
      "Но вот объявлена функция со следующими аргументами:\n",
      "['type', 'el', 'fun']\n",
      "Попарная схожесть аргументов (c названиями в объявленной функции): [-0.136092, None, None]\n",
      "Общая схожесть (c названиями в объявленной функции): 0.068484604\n",
      "Попарная схожесть аргументов c названием функции: [0.06547914, 0.09626143, None]\n",
      "_____________\n",
      "В файле scripts/pubnub/javascript/modern/pubnub.js проверь функцию bind\n",
      "Она вызвана с аргументами ['offline', 'document', '']\n",
      "Но вот объявлена функция со следующими аргументами:\n",
      "['type', 'el', 'fun']\n",
      "Попарная схожесть аргументов (c названиями в объявленной функции): [-0.02025908, None, None]\n",
      "Общая схожесть (c названиями в объявленной функции): 0.047821984\n",
      "Попарная схожесть аргументов c названием функции: [0.06342669, 0.07202274, None]\n",
      "_____________\n",
      "В файле scripts/pubnub/webrtc/example/mouse-speak.js проверь функцию bind\n",
      "Она вызвана с аргументами ['mousemove', 'document', 'send']\n",
      "Но вот объявлена функция со следующими аргументами:\n",
      "['type', 'el', 'fun']\n",
      "Попарная схожесть аргументов (c названиями в объявленной функции): [-0.117143854, None, None]\n",
      "Общая схожесть (c названиями в объявленной функции): 0.08479967\n",
      "Попарная схожесть аргументов c названием функции: [0.183957, 0.07202274, 0.1925897]\n",
      "_____________\n",
      "В файле scripts/pubnub/webrtc/example/mouse-speak.js проверь функцию bind\n",
      "Она вызвана с аргументами ['touchmove', 'document', 'send']\n",
      "Но вот объявлена функция со следующими аргументами:\n",
      "['type', 'el', 'fun']\n",
      "Попарная схожесть аргументов (c названиями в объявленной функции): [-0.011633746, None, None]\n",
      "Общая схожесть (c названиями в объявленной функции): 0.098065756\n",
      "Попарная схожесть аргументов c названием функции: [0.19339149, 0.07202274, 0.1925897]\n",
      "_____________\n",
      "В файле scripts/pubnub/webrtc/example/mouse-speak.js проверь функцию bind\n",
      "Она вызвана с аргументами ['keydown', 'document', 'monopuff']\n",
      "Но вот объявлена функция со следующими аргументами:\n",
      "['type', 'el', 'fun']\n",
      "Попарная схожесть аргументов (c названиями в объявленной функции): [-0.022661144, None, None]\n",
      "Общая схожесть (c названиями в объявленной функции): 0.014995391\n",
      "Попарная схожесть аргументов c названием функции: [0.16053736, 0.07202274, None]\n",
      "_____________\n",
      "В файле scripts/rkirov/graph-editor.js/src/UI.js проверь функцию add_slider\n",
      "Она вызвана с аргументами ['Orientation', 0, 'tweaks', 0, 360, 'change_orientation']\n",
      "Но вот объявлена функция со следующими аргументами:\n",
      "['name', 'variable', 'container_id', 'min', 'max', 'onchangef']\n",
      "Попарная схожесть аргументов (c названиями в объявленной функции): [-0.0018785718, None, -0.024151836, None, None, None]\n",
      "Общая схожесть (c названиями в объявленной функции): 0.07060111\n",
      "Попарная схожесть аргументов c названием функции: [0.08251719, None]\n",
      "_____________\n",
      "В файле scripts/rse/jquery-markup/jquery.markup.js проверь функцию reg\n",
      "Она вызвана с аргументами ['emblem', 'Emblem', 'http://emblemjs.com/', '', '']\n",
      "Но вот объявлена функция со следующими аргументами:\n",
      "['id', 'name', 'url', 'func', 'comp']\n",
      "Попарная схожесть аргументов (c названиями в объявленной функции): [None, -0.015664522, None, None, None]\n",
      "Общая схожесть (c названиями в объявленной функции): 0.03821115\n",
      "Попарная схожесть аргументов c названием функции: [0.04729864, 0.04102066, None]\n",
      "_____________\n",
      "В файле scripts/rse/jquery-markup/jquery.markup.js проверь функцию reg\n",
      "Она вызвана с аргументами ['jade', 'Jade', 'http://jade-lang.com/', 'jade.compile', '']\n",
      "Но вот объявлена функция со следующими аргументами:\n",
      "['id', 'name', 'url', 'func', 'comp']\n",
      "Попарная схожесть аргументов (c названиями в объявленной функции): [None, 0.093895815, None, None, None]\n",
      "Общая схожесть (c названиями в объявленной функции): -0.058180906\n",
      "Попарная схожесть аргументов c названием функции: [0.16659714, 0.07766668, None]\n",
      "_____________\n",
      "В файле scripts/rse/jquery-markup/jquery.markup.js проверь функцию reg\n",
      "Она вызвана с аргументами ['swig', 'Swig', 'http://paularmstrong.github.io/swig/', 'swig.compile', '']\n",
      "Но вот объявлена функция со следующими аргументами:\n",
      "['id', 'name', 'url', 'func', 'comp']\n",
      "Попарная схожесть аргументов (c названиями в объявленной функции): [None, 0.0118510695, None, None, None]\n",
      "Общая схожесть (c названиями в объявленной функции): -0.048013486\n",
      "Попарная схожесть аргументов c названием функции: [0.07748285, 0.070736155, None]\n",
      "_____________\n",
      "В файле scripts/rse/jquery-markup/jquery.markup.js проверь функцию reg\n",
      "Она вызвана с аргументами ['combyne', 'Combyne', 'https://github.com/tbranyen/combyne', 'combyne', '']\n",
      "Но вот объявлена функция со следующими аргументами:\n",
      "['id', 'name', 'url', 'func', 'comp']\n",
      "Попарная схожесть аргументов (c названиями в объявленной функции): [None, None, None, 0.06867646, None]\n",
      "Общая схожесть (c названиями в объявленной функции): 0.063523315\n",
      "Попарная схожесть аргументов c названием функции: [0.08333421, None]\n",
      "_____________\n",
      "В файле scripts/rstudio/shiny-server/manual.test/test-config-config.js проверь функцию assertBad\n",
      "Она вызвана с аргументами ['good', '', {}]\n",
      "Но вот объявлена функция со следующими аргументами:\n",
      "['file', 'schemaPath', 'regex']\n",
      "Попарная схожесть аргументов (c названиями в объявленной функции): [0.06852478, None, None]\n",
      "Общая схожесть (c названиями в объявленной функции): 0.078768075\n",
      "Попарная схожесть аргументов c названием функции: [0.091420226, None]\n",
      "_____________\n",
      "В файле scripts/rstudio/shiny-server/manual.test/test-config-config.js проверь функцию assertBad\n",
      "Она вызвана с аргументами ['good', '', {}]\n",
      "Но вот объявлена функция со следующими аргументами:\n",
      "['file', 'schemaPath', 'regex']\n",
      "Попарная схожесть аргументов (c названиями в объявленной функции): [0.06852478, None, None]\n",
      "Общая схожесть (c названиями в объявленной функции): 0.078768075\n",
      "Попарная схожесть аргументов c названием функции: [0.091420226, None]\n",
      "_____________\n"
     ]
    },
    {
     "name": "stdout",
     "output_type": "stream",
     "text": [
      "В файле scripts/tovic/markdown-text-editor/js/mte.js проверь функцию addEvent\n",
      "Она вызвана с аргументами ['_AREA', 'cut', '']\n",
      "Но вот объявлена функция со следующими аргументами:\n",
      "['elem', 'event', 'fn']\n",
      "Попарная схожесть аргументов (c названиями в объявленной функции): [0.02439823, None, None]\n",
      "Общая схожесть (c названиями в объявленной функции): 0.0076865065\n",
      "Попарная схожесть аргументов c названием функции: [0.16742405, -0.0014527584, None]\n",
      "_____________\n",
      "В файле scripts/tovic/markdown-text-editor/js/mte.js проверь функцию addEvent\n",
      "Она вызвана с аргументами ['_AREA', 'paste', '']\n",
      "Но вот объявлена функция со следующими аргументами:\n",
      "['elem', 'event', 'fn']\n",
      "Попарная схожесть аргументов (c названиями в объявленной функции): [0.02439823, 0.1803431, None]\n",
      "Общая схожесть (c названиями в объявленной функции): 0.065677114\n",
      "Попарная схожесть аргументов c названием функции: [0.16742405, 0.08256476, None]\n",
      "_____________\n",
      "В файле scripts/vibber/Sliider/lib/mousetrap.vib.js проверь функцию _addEvent\n",
      "Она вызвана с аргументами ['document', 'keypress', '_handleKeyEvent']\n",
      "Но вот объявлена функция со следующими аргументами:\n",
      "['object', 'type', 'callback']\n",
      "Попарная схожесть аргументов (c названиями в объявленной функции): [0.036123782, -0.053994905, 0.1584303]\n",
      "Общая схожесть (c названиями в объявленной функции): 0.06886458\n",
      "Попарная схожесть аргументов c названием функции: [0.023562511, 0.24266762, 0.33480182]\n",
      "_____________\n",
      "В файле scripts/web-animations/web-animations-next/src/number-handler.js проверь функцию addPropertiesHandler\n",
      "Она вызвана с аргументами ['parseNumber', 'round', '']\n",
      "Но вот объявлена функция со следующими аргументами:\n",
      "['parser', 'merger', 'properties']\n",
      "Попарная схожесть аргументов (c названиями в объявленной функции): [0.07076926, 0.026993534, None]\n",
      "Общая схожесть (c названиями в объявленной функции): 0.023013122\n",
      "Попарная схожесть аргументов c названием функции: [0.20555367, 0.06167795, None]\n",
      "_____________\n",
      "В файле scripts/webinos/Webinos-Platform/webinos/web_root/testbed/vehicle/tripcomputer/cbc.js проверь функцию addEventListener\n",
      "Она вызвана с аргументами ['gear', 'handleGear', False]\n",
      "Но вот объявлена функция со следующими аргументами:\n",
      "['type', 'listener', 'useCapture']\n",
      "Попарная схожесть аргументов (c названиями в объявленной функции): [-0.086434595, None, None]\n",
      "Общая схожесть (c названиями в объявленной функции): -0.05654369\n",
      "Попарная схожесть аргументов c названием функции: [-0.01657749, None]\n",
      "_____________\n",
      "В файле scripts/webinos/Webinos-Platform/webinos/web_root/testbed/vehicle/tripcomputer/cbc.js проверь функцию getCurrentPosition\n",
      "Она вызвана с аргументами ['handlePosition', 'errorCB', 'params']\n",
      "Но вот объявлена функция со следующими аргументами:\n",
      "['positionCB', 'positionErrorCB', 'positionOptions']\n",
      "Попарная схожесть аргументов (c названиями в объявленной функции): [None, None, 0.013421329]\n",
      "Общая схожесть (c названиями в объявленной функции): 0.07578571\n",
      "Попарная схожесть аргументов c названием функции: [0.11067958, 0.35711625, 0.018472204]\n",
      "_____________\n",
      "В файле scripts/weblion/diazo_responsivetheme/plonetheme/diazo_responsivetheme/theme/js/accessibility.js проверь функцию createCookie\n",
      "Она вызвана с аргументами ['fontsize', '$fontsize', 365]\n",
      "Но вот объявлена функция со следующими аргументами:\n",
      "['name', 'value', 'days']\n",
      "Попарная схожесть аргументов (c названиями в объявленной функции): [0.0018149014, None, None]\n",
      "Общая схожесть (c названиями в объявленной функции): 0.05354769\n",
      "Попарная схожесть аргументов c названием функции: [-0.020353606, 0.15009177, None]\n",
      "_____________\n",
      "В файле scripts/wessman/defer.js/src/defer.js проверь функцию removeEventListener\n",
      "Она вызвана с аргументами ['doc', '', 'handleReady', 'NO']\n",
      "Но вот объявлена функция со следующими аргументами:\n",
      "['obj', 'type', 'listener', 'capture']\n",
      "Попарная схожесть аргументов (c названиями в объявленной функции): [None, None, 0.07869728, None]\n",
      "Общая схожесть (c названиями в объявленной функции): 0.09411109\n",
      "Попарная схожесть аргументов c названием функции: [0.09228902, None]\n",
      "_____________\n",
      "В файле scripts/yathit/ydn-db/test/storage/tr_thread_test.js проверь функцию nested_request_test\n",
      "Она вызвана с аргументами ['atomic', True, '']\n",
      "Но вот объявлена функция со следующими аргументами:\n",
      "['policy', 'is_serial', 'exp_tx_no']\n",
      "Попарная схожесть аргументов (c названиями в объявленной функции): [0.016343802, None, None]\n",
      "Общая схожесть (c названиями в объявленной функции): 0.016942048\n",
      "Попарная схожесть аргументов c названием функции: [0.018242618, None]\n",
      "_____________\n"
     ]
    }
   ],
   "source": [
    "counter = 0\n",
    "for func_exec_item in func_exec_storage:\n",
    "    func_exec = FunctionExecution(func_exec_item, func_creation_dic, word2VecModel)\n",
    "    \n",
    "    if len(func_exec.args_names) <= 2 or len(func_exec.args_names) != len(func_exec.args_in_creation_dic):\n",
    "        continue\n",
    "    \n",
    "    if_any_dissims_with_creation_arg = if_any_arg_below_threshold(func_exec.args_similarity_with_creation_args)\n",
    "    if_any_dissims_with_func_name = if_any_arg_below_threshold(func_exec.args_similarity_with_func_name)\n",
    "    if_total_args_sim_with_creation_args_low = func_exec.total_args_sim_with_creation_args < MIN_SIMILARITY_THRESHOLD\n",
    "    \n",
    "    if if_any_dissims_with_creation_arg and if_any_dissims_with_func_name and if_total_args_sim_with_creation_args_low:\n",
    "        counter += 1\n",
    "        print('В файле', func_exec.func_path, 'проверь функцию', func_exec.func_name)\n",
    "        print('Она вызвана с аргументами', func_exec.args_names)\n",
    "        print('Но вот объявлена функция со следующими аргументами:')\n",
    "        print(func_exec.args_in_creation_dic)\n",
    "        print('Попарная схожесть аргументов (c названиями в объявленной функции):',func_exec.args_similarity_with_creation_args)\n",
    "        print('Общая схожесть (c названиями в объявленной функции):', func_exec.total_args_sim_with_creation_args)\n",
    "        print('Попарная схожесть аргументов c названием функции:', func_exec.args_similarity_with_func_name)\n",
    "        print('_____________')"
   ]
  },
  {
   "cell_type": "code",
   "execution_count": 22,
   "metadata": {},
   "outputs": [
    {
     "data": {
      "text/plain": [
       "95"
      ]
     },
     "execution_count": 22,
     "metadata": {},
     "output_type": "execute_result"
    }
   ],
   "source": [
    "counter"
   ]
  },
  {
   "cell_type": "markdown",
   "metadata": {},
   "source": [
    "## Эксперименты с моделями"
   ]
  },
  {
   "cell_type": "markdown",
   "metadata": {},
   "source": [
    "### Трансформируем данные"
   ]
  },
  {
   "cell_type": "markdown",
   "metadata": {},
   "source": [
    "Оставим только функции, у которых 2 аргумента"
   ]
  },
  {
   "cell_type": "code",
   "execution_count": null,
   "metadata": {},
   "outputs": [],
   "source": [
    "func_creation_dic_2_args = dict(\n",
    "    filter(lambda elem: len(elem[1][FUNCTIONS_JSON_PROPERTIES_NAMES.ARGS_NAMES]) == 2, func_creation_dic.items())\n",
    ")"
   ]
  },
  {
   "cell_type": "code",
   "execution_count": null,
   "metadata": {},
   "outputs": [],
   "source": [
    "class TWO_ARGS_FUNC_COLUMNS:\n",
    "    FIRST_ARG = 'arg1'\n",
    "    SECOND_ARG = 'arg2'\n",
    "    FUNC_NAME = 'funcName'\n",
    "    TARGET = 'isBuggy'  # В верном ли порядке расставлены аргументы в функции"
   ]
  },
  {
   "cell_type": "code",
   "execution_count": null,
   "metadata": {},
   "outputs": [],
   "source": [
    "two_args_funcs = pd.DataFrame.from_dict(func_creation_dic_2_args, orient='index')\n",
    "two_args_funcs[[TWO_ARGS_FUNC_COLUMNS.FIRST_ARG, TWO_ARGS_FUNC_COLUMNS.SECOND_ARG]] = pd.DataFrame(\n",
    "    two_args_funcs.argumentsNames.tolist(), index=two_args_funcs.index\n",
    ")\n",
    "\n",
    "two_args_funcs[TWO_ARGS_FUNC_COLUMNS.FUNC_NAME] = list(\n",
    "    map(lambda rowName: get_func_name_from_key(rowName), two_args_funcs.index)\n",
    ")\n",
    "two_args_funcs.drop(['argumentsNames', 'filePath'], axis='columns', inplace=True)\n",
    "two_args_funcs[TWO_ARGS_FUNC_COLUMNS.TARGET] = 0\n",
    "\n",
    "two_args_funcs.reset_index(inplace=True, drop=True)\n",
    "\n",
    "print('Количество строк:', len(two_args_funcs))\n",
    "two_args_funcs.head(3)"
   ]
  },
  {
   "cell_type": "markdown",
   "metadata": {},
   "source": [
    "Меняем местами аргументами и добавляем эти строчки как isBuggy = 1\n",
    "\n",
    "(то есть получим 50% одного класса и 50% другого класса)"
   ]
  },
  {
   "cell_type": "code",
   "execution_count": null,
   "metadata": {},
   "outputs": [],
   "source": [
    "buggy_code_rows = []\n",
    "\n",
    "for rowIndex in tqdm(range(len(two_args_funcs))):\n",
    "    new_row = {\n",
    "        TWO_ARGS_FUNC_COLUMNS.FUNC_NAME: two_args_funcs.loc[rowIndex, TWO_ARGS_FUNC_COLUMNS.FUNC_NAME],\n",
    "        TWO_ARGS_FUNC_COLUMNS.FIRST_ARG: two_args_funcs.loc[rowIndex, TWO_ARGS_FUNC_COLUMNS.SECOND_ARG],\n",
    "        TWO_ARGS_FUNC_COLUMNS.SECOND_ARG: two_args_funcs.loc[rowIndex, TWO_ARGS_FUNC_COLUMNS.FIRST_ARG],\n",
    "        TWO_ARGS_FUNC_COLUMNS.TARGET: 1\n",
    "    }\n",
    "    buggy_code_rows.append(new_row)\n",
    "\n",
    "two_args_funcs = two_args_funcs.append(pd.DataFrame(buggy_code_rows)).reset_index(drop=True)"
   ]
  },
  {
   "cell_type": "code",
   "execution_count": null,
   "metadata": {},
   "outputs": [],
   "source": [
    "print('Количество строк:', len(two_args_funcs))\n",
    "two_args_funcs.tail(3)"
   ]
  },
  {
   "cell_type": "markdown",
   "metadata": {},
   "source": [
    "Теперь заменяем слова на их векторное представление из word2Vec.\n",
    "\n",
    "Если например, каждое слово представлено в модели word2Vec как вектор из 300 значений, то название функции + 2 аргумента + 1 целевая перееменная (isBuggy) = 901 переменная в датасете"
   ]
  },
  {
   "cell_type": "code",
   "execution_count": null,
   "metadata": {},
   "outputs": [],
   "source": [
    "def replace_string_column_with_vectors(pd_df, columnName, word2VecVocabulary = word2VecModel.wv):\n",
    "    DEFAULT_VALUE_IF_NOT_EXITS_IN_WORD2VEC = '0'\n",
    "    \n",
    "    vector_size = len(word2VecVocabulary[DEFAULT_VALUE_IF_NOT_EXITS_IN_WORD2VEC])\n",
    "    \n",
    "    future_columns_names = []\n",
    "    \n",
    "    vectorized_df = pd.DataFrame()\n",
    "    \n",
    "    for i in range(vector_size):\n",
    "        future_columns_names.append(columnName + str(i))\n",
    "    \n",
    "    for rowIndex in tqdm(range(len(pd_df))):\n",
    "        word = pd_df.loc[rowIndex, columnName]\n",
    "        \n",
    "        if not checkIfWordInWord2VecDict(word, word2VecVocabulary):\n",
    "            #word = DEFAULT_VALUE_IF_NOT_EXITS_IN_WORD2VEC\n",
    "            newColumnsDf = pd.DataFrame(np.array([None] * vector_size).reshape(-1, vector_size), columns = future_columns_names)\n",
    "        else:\n",
    "            newColumnsDf = pd.DataFrame(\n",
    "                word2VecVocabulary[word].reshape(-1, len(word2VecVocabulary[word])), columns = future_columns_names\n",
    "            )\n",
    "   \n",
    "        vectorized_df = vectorized_df.append(newColumnsDf)\n",
    "    \n",
    "    return pd.concat([pd_df, vectorized_df.reset_index(drop=True)], axis=1)"
   ]
  },
  {
   "cell_type": "code",
   "execution_count": null,
   "metadata": {},
   "outputs": [],
   "source": [
    "two_args_funcs = replace_string_column_with_vectors(two_args_funcs, TWO_ARGS_FUNC_COLUMNS.FIRST_ARG, word2VecModel.wv)\n",
    "two_args_funcs = replace_string_column_with_vectors(two_args_funcs, TWO_ARGS_FUNC_COLUMNS.SECOND_ARG, word2VecModel.wv)\n",
    "two_args_funcs = replace_string_column_with_vectors(two_args_funcs, TWO_ARGS_FUNC_COLUMNS.FUNC_NAME, word2VecModel.wv)\n",
    "\n",
    "two_args_funcs = two_args_funcs.drop(\n",
    "    [TWO_ARGS_FUNC_COLUMNS.FIRST_ARG, TWO_ARGS_FUNC_COLUMNS.SECOND_ARG, TWO_ARGS_FUNC_COLUMNS.FUNC_NAME],\n",
    "    axis=1\n",
    ")"
   ]
  },
  {
   "cell_type": "code",
   "execution_count": null,
   "metadata": {},
   "outputs": [],
   "source": [
    "two_args_funcs = two_args_funcs.dropna().reset_index(drop=True)"
   ]
  },
  {
   "cell_type": "code",
   "execution_count": null,
   "metadata": {},
   "outputs": [],
   "source": [
    "len(two_args_funcs)"
   ]
  },
  {
   "cell_type": "markdown",
   "metadata": {},
   "source": [
    "### Обучаем"
   ]
  },
  {
   "cell_type": "markdown",
   "metadata": {},
   "source": [
    "Кормим это дело модели"
   ]
  },
  {
   "cell_type": "code",
   "execution_count": null,
   "metadata": {},
   "outputs": [],
   "source": [
    "y = np.array(two_args_funcs[TWO_ARGS_FUNC_COLUMNS.TARGET])\n",
    "\n",
    "X = two_args_funcs.drop(TWO_ARGS_FUNC_COLUMNS.TARGET, axis = 1)"
   ]
  },
  {
   "cell_type": "code",
   "execution_count": null,
   "metadata": {},
   "outputs": [],
   "source": [
    "from sklearn.ensemble import RandomForestClassifier\n",
    "\n",
    "rf = RandomForestClassifier(n_estimators = 1000, random_state = 27)\n",
    "\n",
    "rf.fit(X, y);"
   ]
  },
  {
   "cell_type": "markdown",
   "metadata": {},
   "source": [
    "### Проверяем на обучающей"
   ]
  },
  {
   "cell_type": "code",
   "execution_count": null,
   "metadata": {},
   "outputs": [],
   "source": [
    "from sklearn import metrics\n",
    "\n",
    "y_train_pred = rf.predict(X)\n",
    "print('accuracy:', metrics.accuracy_score(y, y_train_pred))\n",
    "print('recall:', metrics.recall_score(y, y_train_pred))\n",
    "print('precision:', metrics.precision_score(y, y_train_pred))"
   ]
  },
  {
   "cell_type": "markdown",
   "metadata": {},
   "source": [
    "### Проверяем на тестовой выборке"
   ]
  },
  {
   "cell_type": "markdown",
   "metadata": {},
   "source": [
    "Формируем тестовую выборку из массива с вызовами функциями"
   ]
  },
  {
   "cell_type": "markdown",
   "metadata": {},
   "source": [
    "Вновь фильтруем только функции с 2 аргументами"
   ]
  },
  {
   "cell_type": "code",
   "execution_count": null,
   "metadata": {},
   "outputs": [],
   "source": [
    "func_exec_storage_all = find_all_func_executions(functions_storage_dictionary, func_creation_dic, False)\n",
    "\n",
    "func_exec_storage_2_args = list(filter(lambda func: len(func[FUNCTIONS_JSON_PROPERTIES_NAMES.ARGS_NAMES]) == 2, func_exec_storage_all))"
   ]
  },
  {
   "cell_type": "markdown",
   "metadata": {},
   "source": [
    "превращаем в датафрейм"
   ]
  },
  {
   "cell_type": "code",
   "execution_count": null,
   "metadata": {},
   "outputs": [],
   "source": [
    "func_exec_2_args_df = pd.DataFrame(func_exec_storage_2_args)\n",
    "\n",
    "func_exec_2_args_df = func_exec_2_args_df.rename(\n",
    "    columns={FUNCTIONS_JSON_PROPERTIES_NAMES.FUNC_NAME: TWO_ARGS_FUNC_COLUMNS.FUNC_NAME}\n",
    ")\n",
    "\n",
    "func_exec_2_args_df[[TWO_ARGS_FUNC_COLUMNS.FIRST_ARG, TWO_ARGS_FUNC_COLUMNS.SECOND_ARG]] = pd.DataFrame(\n",
    "    func_exec_2_args_df[FUNCTIONS_JSON_PROPERTIES_NAMES.ARGS_NAMES].tolist(), index=func_exec_2_args_df.index\n",
    ")\n",
    "\n",
    "func_exec_2_args_df = func_exec_2_args_df.drop([\n",
    "    FUNCTIONS_JSON_PROPERTIES_NAMES.FUNC_TYPE,\n",
    "    FUNCTIONS_JSON_PROPERTIES_NAMES.ARGS_NAMES\n",
    "], axis='columns')"
   ]
  },
  {
   "cell_type": "code",
   "execution_count": null,
   "metadata": {},
   "outputs": [],
   "source": [
    "func_exec_2_args_df.head(3)"
   ]
  },
  {
   "cell_type": "markdown",
   "metadata": {},
   "source": [
    "векторизуем перемененные "
   ]
  },
  {
   "cell_type": "code",
   "execution_count": null,
   "metadata": {},
   "outputs": [],
   "source": [
    "func_exec_2_args_df = replace_string_column_with_vectors(func_exec_2_args_df, TWO_ARGS_FUNC_COLUMNS.FIRST_ARG, word2VecModel.wv)\n",
    "func_exec_2_args_df = replace_string_column_with_vectors(func_exec_2_args_df, TWO_ARGS_FUNC_COLUMNS.SECOND_ARG, word2VecModel.wv)\n",
    "func_exec_2_args_df = replace_string_column_with_vectors(func_exec_2_args_df, TWO_ARGS_FUNC_COLUMNS.FUNC_NAME, word2VecModel.wv)\n",
    "\n",
    "func_exec_2_args_df = func_exec_2_args_df.dropna()\n",
    "\n",
    "INFO_COLUMNS = [FUNCTIONS_JSON_PROPERTIES_NAMES.FILE_PATH, TWO_ARGS_FUNC_COLUMNS.FIRST_ARG, TWO_ARGS_FUNC_COLUMNS.SECOND_ARG, TWO_ARGS_FUNC_COLUMNS.FUNC_NAME]\n",
    "\n",
    "test_2_args_exec_df = func_exec_2_args_df.drop(\n",
    "    INFO_COLUMNS,\n",
    "    axis='columns'\n",
    ")\n",
    "\n",
    "func_exec_2_args_df = func_exec_2_args_df[INFO_COLUMNS]"
   ]
  },
  {
   "cell_type": "code",
   "execution_count": null,
   "metadata": {},
   "outputs": [],
   "source": [
    "func_exec_2_args_df.head(3)"
   ]
  },
  {
   "cell_type": "code",
   "execution_count": null,
   "metadata": {},
   "outputs": [],
   "source": [
    "test_2_args_exec_df.head(3)"
   ]
  },
  {
   "cell_type": "code",
   "execution_count": null,
   "metadata": {},
   "outputs": [],
   "source": [
    "PRED_PROB_COLUMN = TWO_ARGS_FUNC_COLUMNS.TARGET + '_pred'\n",
    "\n",
    "func_exec_2_args_df[PRED_PROB_COLUMN] = list(map(lambda x: x[1], rf.predict_proba(test_2_args_exec_df) ))"
   ]
  },
  {
   "cell_type": "markdown",
   "metadata": {},
   "source": [
    "Посмотрим, как распределены вероятности уверенности модели, что конкретный вызов функции - баг."
   ]
  },
  {
   "cell_type": "code",
   "execution_count": null,
   "metadata": {
    "scrolled": false
   },
   "outputs": [],
   "source": [
    "import seaborn as sns\n",
    "sns.set(color_codes=True, rc={'figure.figsize':(11.7,8.27)})\n",
    "\n",
    "sns.distplot(func_exec_2_args_df[PRED_PROB_COLUMN]);"
   ]
  },
  {
   "cell_type": "markdown",
   "metadata": {},
   "source": [
    "Нам важно, что было была высокая precision (пусть даже и при низком recall). То есть мы не хотим докучать разработчика лишними false positives (нашей моделью тогда просто никто не будет пользоваться)"
   ]
  },
  {
   "cell_type": "code",
   "execution_count": null,
   "metadata": {},
   "outputs": [],
   "source": [
    "pd.set_option('display.max_rows', 500)\n",
    "\n",
    "func_exec_2_args_df[func_exec_2_args_df[PRED_PROB_COLUMN] >= 0.7]"
   ]
  },
  {
   "cell_type": "markdown",
   "metadata": {},
   "source": [
    "Теперь нам осталось пройти по предсказанным моделью как ошибочным вызовам функций и понять, а действительно ли они ошибочные"
   ]
  }
 ],
 "metadata": {
  "kernelspec": {
   "display_name": "Python 3",
   "language": "python",
   "name": "python3"
  },
  "language_info": {
   "codemirror_mode": {
    "name": "ipython",
    "version": 3
   },
   "file_extension": ".py",
   "mimetype": "text/x-python",
   "name": "python",
   "nbconvert_exporter": "python",
   "pygments_lexer": "ipython3",
   "version": "3.8.2"
  }
 },
 "nbformat": 4,
 "nbformat_minor": 4
}
