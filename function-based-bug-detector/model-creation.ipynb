{
 "cells": [
  {
   "cell_type": "markdown",
   "metadata": {},
   "source": [
    "# Подгрузка пакетов и данных"
   ]
  },
  {
   "cell_type": "code",
   "execution_count": null,
   "metadata": {},
   "outputs": [],
   "source": [
    "cd .."
   ]
  },
  {
   "cell_type": "code",
   "execution_count": null,
   "metadata": {},
   "outputs": [],
   "source": [
    "import json\n",
    "\n",
    "from gensim.models.word2vec import Word2Vec"
   ]
  },
  {
   "cell_type": "markdown",
   "metadata": {},
   "source": [
    "Загрузим уже построенную модель Word2Vec"
   ]
  },
  {
   "cell_type": "code",
   "execution_count": null,
   "metadata": {},
   "outputs": [],
   "source": [
    "word2VecModel = Word2Vec.load('word2Vec/word2VecModel')"
   ]
  },
  {
   "cell_type": "markdown",
   "metadata": {},
   "source": [
    "Загрузим JSON, в котором мы сложили названия функций (и названия их арггументов)"
   ]
  },
  {
   "cell_type": "code",
   "execution_count": null,
   "metadata": {},
   "outputs": [],
   "source": [
    "path_to_functions_json = 'data/ast-functions.json'\n",
    "  \n",
    "functions_storage_dictionary = json.load(open(path_to_functions_json))\n",
    "\n",
    "PROPERTY_WITH_FUNC_NAME = 'functionName' # под каким ключом в json складывали название функции\n",
    "PROPERTY_WITH_ARGS_NAMES = 'argumentsNames' # под каким ключом в json складывали названия аргументов функции\n",
    "PROPERTY_WITH_FUNC_TYPE = 'type' # под каким ключом в json складывали тип функции"
   ]
  },
  {
   "cell_type": "markdown",
   "metadata": {},
   "source": [
    "# Отделение объявления функций от их использования"
   ]
  },
  {
   "cell_type": "code",
   "execution_count": null,
   "metadata": {},
   "outputs": [],
   "source": [
    "def find_all_functions_creations(func_storage_dic):\n",
    "    func_creation_dic = {}\n",
    "    \n",
    "    for fileName in func_storage_dic.keys():\n",
    "        for function in func_storage_dic[fileName]:\n",
    "            if function[PROPERTY_WITH_FUNC_TYPE] == 'FunctionDeclaration' or function[PROPERTY_WITH_FUNC_TYPE] == 'FunctionExpression':\n",
    "                if function[PROPERTY_WITH_FUNC_NAME] in func_creation_dic:\n",
    "                    print(function[PROPERTY_WITH_FUNC_NAME], 'уже есть в словаре')\n",
    "                func_creation_dic[function[PROPERTY_WITH_FUNC_NAME]] = function[PROPERTY_WITH_ARGS_NAMES]\n",
    "    \n",
    "    return func_creation_dic"
   ]
  },
  {
   "cell_type": "code",
   "execution_count": null,
   "metadata": {},
   "outputs": [],
   "source": [
    "func_creation_dic = find_all_functions_creations(functions_storage_dictionary)"
   ]
  },
  {
   "cell_type": "markdown",
   "metadata": {},
   "source": [
    "А теперь находим все ВЫЗОВЫ функций и смотрим, насколько их аргументы отличны объявления функции"
   ]
  },
  {
   "cell_type": "code",
   "execution_count": null,
   "metadata": {},
   "outputs": [],
   "source": [
    "def find_all_func_executions(func_storage_dic, func_creation_dic):\n",
    "    func_exec_storage = []\n",
    "    \n",
    "    for fileName in func_storage_dic.keys():\n",
    "        for function in func_storage_dic[fileName]:\n",
    "            if (\n",
    "                function[PROPERTY_WITH_FUNC_TYPE] == 'CallExpression' and # должна быть вызовом функции\n",
    "                len(function[PROPERTY_WITH_ARGS_NAMES]) > 0 and # должна иметь хоть один аргумент\n",
    "                function[PROPERTY_WITH_FUNC_NAME] in func_creation_dic # должна быть в нашем словаре\n",
    "            ):\n",
    "                func_exec_storage.append(function)\n",
    "    \n",
    "    return func_exec_storage"
   ]
  },
  {
   "cell_type": "code",
   "execution_count": null,
   "metadata": {},
   "outputs": [],
   "source": [
    "func_exec_storage = find_all_func_executions(functions_storage_dictionary, func_creation_dic)"
   ]
  },
  {
   "cell_type": "code",
   "execution_count": null,
   "metadata": {},
   "outputs": [],
   "source": [
    "print('Размер словаря с объявлениями функций: ', len(func_creation_dic))\n",
    "print('Размер массива с вызовами функций: ', len(func_exec_storage))"
   ]
  },
  {
   "cell_type": "markdown",
   "metadata": {},
   "source": [
    "Словарь с объявлениями функций - словарь, в котором ключ - название функции, а значение – массив с названиями переданных аргументов.\n",
    "\n",
    "Пример: функция с названием **confirmDelete**"
   ]
  },
  {
   "cell_type": "code",
   "execution_count": null,
   "metadata": {},
   "outputs": [],
   "source": [
    "func_creation_dic['confirmDelete']"
   ]
  },
  {
   "cell_type": "markdown",
   "metadata": {},
   "source": [
    "Массив с вызовами функций состоит из словарей следующего формата"
   ]
  },
  {
   "cell_type": "code",
   "execution_count": null,
   "metadata": {},
   "outputs": [],
   "source": [
    "func_exec_storage[0]"
   ]
  },
  {
   "cell_type": "markdown",
   "metadata": {},
   "source": [
    "# Алгоритм проверки схожести аргументов"
   ]
  },
  {
   "cell_type": "code",
   "execution_count": null,
   "metadata": {},
   "outputs": [],
   "source": [
    "def checkIfWordInWord2VecDict(word, word2VecVocabulary = word2VecModel.wv):\n",
    "    return word in word2VecVocabulary\n",
    "\n",
    "def get_args_similarity(exec_func_name, exec_func_args_names , func_dict, word2VecModel):\n",
    "    \"\"\"Определяет схожесть названий аргументов в вызове функции с названиями аргументов в объявлении функции\"\"\"\n",
    "    args_similarity = []\n",
    "    \n",
    "    for argIndex in range(len(exec_func_args_names)):\n",
    "        if argIndex > len(func_dict[exec_func_name]) - 1:\n",
    "            args_similarity.append(None)\n",
    "            continue\n",
    "        \n",
    "        exec_arg = exec_func_args_names[argIndex]\n",
    "        create_arg = func_dict[exec_func_name][argIndex]\n",
    "        \n",
    "        if (checkIfWordInWord2VecDict(exec_arg) and checkIfWordInWord2VecDict(create_arg)):\n",
    "            args_similarity.append(word2VecModel.wv.similarity(exec_arg, create_arg))\n",
    "        else:\n",
    "            args_similarity.append(None)\n",
    "        \n",
    "    return args_similarity"
   ]
  },
  {
   "cell_type": "markdown",
   "metadata": {},
   "source": [
    "Посмотрим, как это работает на примере"
   ]
  },
  {
   "cell_type": "code",
   "execution_count": null,
   "metadata": {},
   "outputs": [],
   "source": [
    "example_func_exec = func_exec_storage[-2]\n",
    "\n",
    "func_name = example_func_exec[PROPERTY_WITH_FUNC_NAME]\n",
    "args_names = example_func_exec[PROPERTY_WITH_ARGS_NAMES]\n",
    "\n",
    "\n",
    "print('Вызов функции:', func_name, 'c аргументами', args_names)\n",
    "print('Функция же была объявлена с словаре с аргументами:', func_creation_dic[func_name])\n",
    "\n",
    "get_args_similarity(func_name, args_names, func_creation_dic, word2VecModel)"
   ]
  },
  {
   "cell_type": "markdown",
   "metadata": {},
   "source": [
    "# Реализация на всем массиве вызовов функции"
   ]
  },
  {
   "cell_type": "markdown",
   "metadata": {},
   "source": [
    "Идея максимально проста. Проходим по массиву вызовов функции.\n",
    "\n",
    "- По названию функции определяем в словаре с объявлениями функций, с какими названиями аргументов была объявлена эта функция\n",
    "- Для каждой пары аргументов (название аргумента в момент вызовы функции и название аргумента в момент объявление функции) считаем близость их названий в векторной форме с помощью уже построенной модели word2Vec (это будет значение 0 до 1)\n",
    "- Если эта схожесть меньше заданного порога (threshold), то выбрасываем предупреждение пользователю"
   ]
  },
  {
   "cell_type": "markdown",
   "metadata": {},
   "source": [
    "### Treshold"
   ]
  },
  {
   "cell_type": "code",
   "execution_count": null,
   "metadata": {},
   "outputs": [],
   "source": [
    "MIN_SIMILARITY_THRESHOLD = 0.2"
   ]
  },
  {
   "cell_type": "markdown",
   "metadata": {},
   "source": [
    "Порог не должен быть большой, потому что модели важно достичь высокого precision, а не recall.\n",
    "\n",
    "Если наш алгоритм будет часто беспокоить пользователя по пустякам, предупреждая об ошибках там, где их нет (false positive), то нашим алгоритмом просто никто не будет пользоваться. Нужно беспокоить программиста только прям в самых вероятных случаях наличия ошибки. Ведь программисты люди ленивые и занятые... "
   ]
  },
  {
   "cell_type": "code",
   "execution_count": null,
   "metadata": {},
   "outputs": [],
   "source": [
    "for func_exec in func_exec_storage:\n",
    "    func_name = func_exec[PROPERTY_WITH_FUNC_NAME]\n",
    "    args_names = func_exec[PROPERTY_WITH_ARGS_NAMES]\n",
    "    \n",
    "    args_similarities = get_args_similarity(func_name, args_names, func_creation_dic, word2VecModel)\n",
    "    is_below_threshold_args_similarities = list(map(lambda x: x and x < MIN_SIMILARITY_THRESHOLD, args_similarities))\n",
    "    \n",
    "    if (any(is_below_threshold_args_similarities)):\n",
    "        print(func_name, args_names)"
   ]
  },
  {
   "cell_type": "code",
   "execution_count": null,
   "metadata": {},
   "outputs": [],
   "source": []
  }
 ],
 "metadata": {
  "kernelspec": {
   "display_name": "Python 3",
   "language": "python",
   "name": "python3"
  },
  "language_info": {
   "codemirror_mode": {
    "name": "ipython",
    "version": 3
   },
   "file_extension": ".py",
   "mimetype": "text/x-python",
   "name": "python",
   "nbconvert_exporter": "python",
   "pygments_lexer": "ipython3",
   "version": "3.8.2"
  }
 },
 "nbformat": 4,
 "nbformat_minor": 4
}
