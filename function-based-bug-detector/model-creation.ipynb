{
 "cells": [
  {
   "cell_type": "markdown",
   "metadata": {},
   "source": [
    "# Подгрузка пакетов и данных"
   ]
  },
  {
   "cell_type": "code",
   "execution_count": null,
   "metadata": {},
   "outputs": [],
   "source": [
    "cd .."
   ]
  },
  {
   "cell_type": "code",
   "execution_count": null,
   "metadata": {},
   "outputs": [],
   "source": [
    "import pandas as pd\n",
    "import numpy as np\n",
    "import json\n",
    "from tqdm.notebook import tqdm\n",
    "\n",
    "from gensim.models.word2vec import Word2Vec\n",
    "\n",
    "from shared.consts import FUNCTIONS_JSON_PROPERTIES_NAMES, PATH_TO_FUNCTIONS_STORAGE_JSON, PATH_TO_WORD2VEC_MODEL"
   ]
  },
  {
   "cell_type": "markdown",
   "metadata": {},
   "source": [
    "Загрузим уже построенную модель Word2Vec"
   ]
  },
  {
   "cell_type": "code",
   "execution_count": null,
   "metadata": {},
   "outputs": [],
   "source": [
    "word2VecModel = Word2Vec.load(PATH_TO_WORD2VEC_MODEL)"
   ]
  },
  {
   "cell_type": "markdown",
   "metadata": {},
   "source": [
    "Загрузим JSON, в котором мы сложили названия функций (и названия их арггументов)"
   ]
  },
  {
   "cell_type": "code",
   "execution_count": null,
   "metadata": {},
   "outputs": [],
   "source": [
    "functions_storage_dictionary = json.load(open(PATH_TO_FUNCTIONS_STORAGE_JSON))"
   ]
  },
  {
   "cell_type": "markdown",
   "metadata": {},
   "source": [
    "# Отделение объявления функций от их использования"
   ]
  },
  {
   "cell_type": "markdown",
   "metadata": {},
   "source": [
    "Функции с одним и тем же названием могут быть объявлены по-разному, поэтому объявления функций будут склдываться в словарь по принципу:\n",
    "\n",
    "<div style=\"text-align: center; font-weight: bold;\">Имя репозитория + имя функции</div>"
   ]
  },
  {
   "cell_type": "code",
   "execution_count": null,
   "metadata": {},
   "outputs": [],
   "source": [
    "SEPARATOR_REPO_FUNCNAME = '___'\n",
    "\n",
    "def get_key_in_func_creation_dict(func_name, file_path):\n",
    "    paths_segments = file_path.split('/')\n",
    "    \n",
    "    if (len(paths_segments) > 2):\n",
    "        return paths_segments[1] + SEPARATOR_REPO_FUNCNAME + func_name\n",
    "    else:\n",
    "        return func_name\n",
    "    \n",
    "def get_func_name_from_key(key_in_func_creation_dict):\n",
    "    return key_in_func_creation_dict.split(SEPARATOR_REPO_FUNCNAME)[-1]"
   ]
  },
  {
   "cell_type": "code",
   "execution_count": null,
   "metadata": {},
   "outputs": [],
   "source": [
    "def find_all_functions_creations(func_storage_dic):\n",
    "    func_creation_dic = {}\n",
    "    \n",
    "    for filePath in func_storage_dic.keys():\n",
    "        for function in func_storage_dic[filePath]:\n",
    "            if (\n",
    "                function[FUNCTIONS_JSON_PROPERTIES_NAMES.FUNC_TYPE] == 'FunctionDeclaration' or\n",
    "                function[FUNCTIONS_JSON_PROPERTIES_NAMES.FUNC_TYPE] == 'FunctionExpression'\n",
    "               ):\n",
    "                func_name = function[FUNCTIONS_JSON_PROPERTIES_NAMES.FUNC_NAME]\n",
    "                func_creation_dict_key = get_key_in_func_creation_dict(func_name, filePath)\n",
    "                if func_creation_dict_key in func_creation_dic:\n",
    "                    pass\n",
    "                    #print(func_creation_dict_key, 'уже есть в словаре')\n",
    "                func_creation_dic[func_creation_dict_key] = {\n",
    "                    f\"{FUNCTIONS_JSON_PROPERTIES_NAMES.ARGS_NAMES}\" : function[FUNCTIONS_JSON_PROPERTIES_NAMES.ARGS_NAMES],\n",
    "                    f\"{FUNCTIONS_JSON_PROPERTIES_NAMES.FILE_PATH}\": filePath\n",
    "                }\n",
    "    \n",
    "    return func_creation_dic"
   ]
  },
  {
   "cell_type": "code",
   "execution_count": null,
   "metadata": {},
   "outputs": [],
   "source": [
    "func_creation_dic = find_all_functions_creations(functions_storage_dictionary)"
   ]
  },
  {
   "cell_type": "markdown",
   "metadata": {},
   "source": [
    "А теперь находим все ВЫЗОВЫ функций и смотрим, насколько их аргументы отличны объявления функции"
   ]
  },
  {
   "cell_type": "code",
   "execution_count": null,
   "metadata": {},
   "outputs": [],
   "source": [
    "def find_all_func_executions(func_storage_dic, func_creation_dic, onlyInDictionary = True):\n",
    "    func_exec_storage = []\n",
    "    \n",
    "    for filePath in func_storage_dic.keys():\n",
    "        for function in func_storage_dic[filePath]:\n",
    "            func_name = function[FUNCTIONS_JSON_PROPERTIES_NAMES.FUNC_NAME]\n",
    "            func_creation_dict_key = get_key_in_func_creation_dict(func_name, filePath)\n",
    "            \n",
    "            if (\n",
    "                function[FUNCTIONS_JSON_PROPERTIES_NAMES.FUNC_TYPE] == 'CallExpression' and # должна быть вызовом функции\n",
    "                len(function[FUNCTIONS_JSON_PROPERTIES_NAMES.ARGS_NAMES]) > 0 and # должна иметь хоть один аргумент\n",
    "                (func_creation_dict_key in func_creation_dic or not onlyInDictionary)# должна быть в нашем словаре\n",
    "            ):\n",
    "                function[FUNCTIONS_JSON_PROPERTIES_NAMES.FILE_PATH] = filePath\n",
    "                func_exec_storage.append(function)\n",
    "    \n",
    "    return func_exec_storage"
   ]
  },
  {
   "cell_type": "code",
   "execution_count": null,
   "metadata": {},
   "outputs": [],
   "source": [
    "func_exec_storage = find_all_func_executions(functions_storage_dictionary, func_creation_dic)"
   ]
  },
  {
   "cell_type": "code",
   "execution_count": null,
   "metadata": {},
   "outputs": [],
   "source": [
    "print('Размер словаря с объявлениями функций: ', len(func_creation_dic))\n",
    "print('Размер массива с вызовами функций: ', len(func_exec_storage))"
   ]
  },
  {
   "cell_type": "markdown",
   "metadata": {},
   "source": [
    "Словарь с объявлениями функций - словарь, в котором ключ - название функции, а значение – массив с названиями переданных аргументов.\n",
    "\n",
    "Пример: функция с названием **confirmDelete**"
   ]
  },
  {
   "cell_type": "code",
   "execution_count": null,
   "metadata": {},
   "outputs": [],
   "source": [
    "func_creation_dic[get_key_in_func_creation_dict('confirmDelete', 'scripts/Block8/PHPCI/public/assets/js/phpci.js')]"
   ]
  },
  {
   "cell_type": "markdown",
   "metadata": {},
   "source": [
    "Массив с вызовами функций состоит из словарей следующего формата"
   ]
  },
  {
   "cell_type": "code",
   "execution_count": null,
   "metadata": {},
   "outputs": [],
   "source": [
    "list(filter(lambda func_exec: func_exec[FUNCTIONS_JSON_PROPERTIES_NAMES.FUNC_NAME] == 'sleep',func_exec_storage))"
   ]
  },
  {
   "cell_type": "markdown",
   "metadata": {},
   "source": [
    "# Алгоритм проверки схожести аргументов"
   ]
  },
  {
   "cell_type": "code",
   "execution_count": null,
   "metadata": {},
   "outputs": [],
   "source": [
    "def checkIfWordInWord2VecDict(word, word2VecVocabulary = word2VecModel.wv):\n",
    "    return word in word2VecVocabulary\n",
    "\n",
    "def get_args_similarity(exec_func_name, exec_func_args_names, func_path, func_dict, word2VecModel):\n",
    "    \"\"\"Определяет схожесть названий аргументов в вызове функции с названиями аргументов в объявлении функции\"\"\"\n",
    "    args_similarity = []\n",
    "    \n",
    "    func_in_func_creation_dic_key = get_key_in_func_creation_dict(exec_func_name, func_path)\n",
    "    \n",
    "    for argIndex in range(len(exec_func_args_names)):\n",
    "        \n",
    "        if argIndex > len(func_dict[func_in_func_creation_dic_key][FUNCTIONS_JSON_PROPERTIES_NAMES.ARGS_NAMES]) - 1:\n",
    "            args_similarity.append(None)\n",
    "            continue\n",
    "        \n",
    "        exec_arg = exec_func_args_names[argIndex]\n",
    "        create_arg = func_dict[get_key_in_func_creation_dict(exec_func_name, func_path)][FUNCTIONS_JSON_PROPERTIES_NAMES.ARGS_NAMES][argIndex]\n",
    "        \n",
    "        if len(exec_arg) <= 3 or len(create_arg) <= 3 or '$' in exec_arg or '$' in create_arg:\n",
    "            args_similarity.append(None)\n",
    "            continue\n",
    "        \n",
    "        if (checkIfWordInWord2VecDict(exec_arg) and checkIfWordInWord2VecDict(create_arg)):\n",
    "            args_similarity.append(word2VecModel.wv.similarity(exec_arg, create_arg))\n",
    "        else:\n",
    "            args_similarity.append(None)\n",
    "        \n",
    "    return args_similarity"
   ]
  },
  {
   "cell_type": "markdown",
   "metadata": {},
   "source": [
    "Посмотрим, как это работает на примере"
   ]
  },
  {
   "cell_type": "code",
   "execution_count": null,
   "metadata": {},
   "outputs": [],
   "source": [
    "def find_func_exec_and_compare_with_func_creation(funcName):\n",
    "    example_func_execs = list(\n",
    "        filter(lambda func: func[FUNCTIONS_JSON_PROPERTIES_NAMES.FUNC_NAME].endswith(funcName), func_exec_storage)\n",
    "    )\n",
    "    for example_func_exec in example_func_execs:\n",
    "        func_name = example_func_exec[FUNCTIONS_JSON_PROPERTIES_NAMES.FUNC_NAME]\n",
    "        func_path = example_func_exec[FUNCTIONS_JSON_PROPERTIES_NAMES.FILE_PATH]\n",
    "        args_names = example_func_exec[FUNCTIONS_JSON_PROPERTIES_NAMES.ARGS_NAMES]\n",
    "\n",
    "        print('Вызов функции:', func_name, 'c аргументами', args_names)\n",
    "        func_in_func_creation_dic_key = get_key_in_func_creation_dict(func_name, example_func_exec[FUNCTIONS_JSON_PROPERTIES_NAMES.FILE_PATH])\n",
    "        print('Функция же была объявлена с словаре с аргументами:', func_creation_dic[func_in_func_creation_dic_key][FUNCTIONS_JSON_PROPERTIES_NAMES.ARGS_NAMES])\n",
    "\n",
    "        print(get_args_similarity(func_name, args_names, func_path, func_creation_dic, word2VecModel))\n",
    "        print('_________________________________________________')"
   ]
  },
  {
   "cell_type": "code",
   "execution_count": null,
   "metadata": {},
   "outputs": [],
   "source": [
    "find_func_exec_and_compare_with_func_creation('updateLine')"
   ]
  },
  {
   "cell_type": "markdown",
   "metadata": {},
   "source": [
    "Хорошо видно, что был пропущен второй аргумент **text**"
   ]
  },
  {
   "cell_type": "code",
   "execution_count": null,
   "metadata": {},
   "outputs": [],
   "source": [
    "word2VecModel.wv.n_similarity(\n",
    "    ['lastLine', 'lastSpans', 'estimateHeight'],\n",
    "    ['line', 'text', 'markedSpans', 'estimateHeight']\n",
    ")"
   ]
  },
  {
   "cell_type": "markdown",
   "metadata": {},
   "source": [
    "другой пример"
   ]
  },
  {
   "cell_type": "code",
   "execution_count": null,
   "metadata": {},
   "outputs": [],
   "source": [
    "find_func_exec_and_compare_with_func_creation('windowSearch')"
   ]
  },
  {
   "cell_type": "markdown",
   "metadata": {},
   "source": [
    "# Реализация на всем массиве вызовов функции"
   ]
  },
  {
   "cell_type": "markdown",
   "metadata": {},
   "source": [
    "Идея максимально проста. Проходим по массиву вызовов функции.\n",
    "\n",
    "- По названию функции определяем в словаре с объявлениями функций, с какими названиями аргументов была объявлена эта функция\n",
    "- Для каждой пары аргументов (название аргумента в момент вызовы функции и название аргумента в момент объявление функции) считаем близость их названий в векторной форме с помощью уже построенной модели word2Vec (это будет значение 0 до 1)\n",
    "- Если эта схожесть меньше заданного порога (threshold), то выбрасываем предупреждение пользователю"
   ]
  },
  {
   "cell_type": "markdown",
   "metadata": {},
   "source": [
    "### Threshold"
   ]
  },
  {
   "cell_type": "code",
   "execution_count": null,
   "metadata": {},
   "outputs": [],
   "source": [
    "MIN_SIMILARITY_THRESHOLD = 0.1"
   ]
  },
  {
   "cell_type": "markdown",
   "metadata": {},
   "source": [
    "Порог не должен быть большой, потому что модели важно достичь высокого precision, а не recall.\n",
    "\n",
    "Если наш алгоритм будет часто беспокоить пользователя по пустякам, предупреждая об ошибках там, где их нет (false positive), то нашим алгоритмом просто никто не будет пользоваться. Нужно беспокоить программиста только прям в самых вероятных случаях наличия ошибки. Ведь программисты люди ленивые и занятые... "
   ]
  },
  {
   "cell_type": "code",
   "execution_count": null,
   "metadata": {},
   "outputs": [],
   "source": [
    "for func_exec in func_exec_storage:\n",
    "    func_name = func_exec[FUNCTIONS_JSON_PROPERTIES_NAMES.FUNC_NAME]\n",
    "    args_names = func_exec[FUNCTIONS_JSON_PROPERTIES_NAMES.ARGS_NAMES]\n",
    "    func_path = func_exec[FUNCTIONS_JSON_PROPERTIES_NAMES.FILE_PATH]\n",
    "    \n",
    "    if len(args_names) < 2:\n",
    "        continue\n",
    "    \n",
    "    args_similarities = get_args_similarity(func_name, args_names, func_path, func_creation_dic, word2VecModel)\n",
    "    is_below_threshold_args_similarities = list(map(lambda x: x and x < MIN_SIMILARITY_THRESHOLD, args_similarities))\n",
    "    \n",
    "    if (any(is_below_threshold_args_similarities)):\n",
    "        print('В файле', func_path, 'проверь:')\n",
    "        print('Была вызвана функция', func_name, 'с аргументами', args_names)\n",
    "        print('Но вот объявлена функция была со следующими аргументами:')\n",
    "        print(func_creation_dic[get_key_in_func_creation_dict(func_name, func_path)][FUNCTIONS_JSON_PROPERTIES_NAMES.ARGS_NAMES])\n",
    "        print(args_similarities)\n",
    "        print('_____________')"
   ]
  },
  {
   "cell_type": "markdown",
   "metadata": {},
   "source": [
    "## Эксперименты с моделями"
   ]
  },
  {
   "cell_type": "markdown",
   "metadata": {},
   "source": [
    "### Трансформируем данные"
   ]
  },
  {
   "cell_type": "markdown",
   "metadata": {},
   "source": [
    "Оставим только функции, у которых 2 аргумента"
   ]
  },
  {
   "cell_type": "code",
   "execution_count": null,
   "metadata": {},
   "outputs": [],
   "source": [
    "func_creation_dic_2_args = dict(\n",
    "    filter(lambda elem: len(elem[1][FUNCTIONS_JSON_PROPERTIES_NAMES.ARGS_NAMES]) == 2, func_creation_dic.items())\n",
    ")"
   ]
  },
  {
   "cell_type": "code",
   "execution_count": null,
   "metadata": {},
   "outputs": [],
   "source": [
    "class TWO_ARGS_FUNC_COLUMNS:\n",
    "    FIRST_ARG = 'arg1'\n",
    "    SECOND_ARG = 'arg2'\n",
    "    FUNC_NAME = 'funcName'\n",
    "    TARGET = 'isBuggy'  # В верном ли порядке расставлены аргументы в функции"
   ]
  },
  {
   "cell_type": "code",
   "execution_count": null,
   "metadata": {},
   "outputs": [],
   "source": [
    "two_args_funcs = pd.DataFrame.from_dict(func_creation_dic_2_args, orient='index')\n",
    "two_args_funcs[[TWO_ARGS_FUNC_COLUMNS.FIRST_ARG, TWO_ARGS_FUNC_COLUMNS.SECOND_ARG]] = pd.DataFrame(\n",
    "    two_args_funcs.argumentsNames.tolist(), index=two_args_funcs.index\n",
    ")\n",
    "\n",
    "two_args_funcs[TWO_ARGS_FUNC_COLUMNS.FUNC_NAME] = list(\n",
    "    map(lambda rowName: get_func_name_from_key(rowName), two_args_funcs.index)\n",
    ")\n",
    "two_args_funcs.drop(['argumentsNames', 'filePath'], axis='columns', inplace=True)\n",
    "two_args_funcs[TWO_ARGS_FUNC_COLUMNS.TARGET] = 0\n",
    "\n",
    "two_args_funcs.reset_index(inplace=True, drop=True)\n",
    "\n",
    "print('Количество строк:', len(two_args_funcs))\n",
    "two_args_funcs.head(3)"
   ]
  },
  {
   "cell_type": "markdown",
   "metadata": {},
   "source": [
    "Меняем местами аргументами и добавляем эти строчки как isBuggy = 1\n",
    "\n",
    "(то есть получим 50% одного класса и 50% другого класса)"
   ]
  },
  {
   "cell_type": "code",
   "execution_count": null,
   "metadata": {},
   "outputs": [],
   "source": [
    "buggy_code_rows = []\n",
    "\n",
    "for rowIndex in tqdm(range(len(two_args_funcs))):\n",
    "    new_row = {\n",
    "        TWO_ARGS_FUNC_COLUMNS.FUNC_NAME: two_args_funcs.loc[rowIndex, TWO_ARGS_FUNC_COLUMNS.FUNC_NAME],\n",
    "        TWO_ARGS_FUNC_COLUMNS.FIRST_ARG: two_args_funcs.loc[rowIndex, TWO_ARGS_FUNC_COLUMNS.SECOND_ARG],\n",
    "        TWO_ARGS_FUNC_COLUMNS.SECOND_ARG: two_args_funcs.loc[rowIndex, TWO_ARGS_FUNC_COLUMNS.FIRST_ARG],\n",
    "        TWO_ARGS_FUNC_COLUMNS.TARGET: 1\n",
    "    }\n",
    "    buggy_code_rows.append(new_row)\n",
    "\n",
    "two_args_funcs = two_args_funcs.append(pd.DataFrame(buggy_code_rows)).reset_index(drop=True)"
   ]
  },
  {
   "cell_type": "code",
   "execution_count": null,
   "metadata": {},
   "outputs": [],
   "source": [
    "print('Количество строк:', len(two_args_funcs))\n",
    "two_args_funcs.tail(3)"
   ]
  },
  {
   "cell_type": "markdown",
   "metadata": {},
   "source": [
    "Теперь заменяем слова на их векторное представление из word2Vec.\n",
    "\n",
    "Если например, каждое слово представлено в модели word2Vec как вектор из 300 значений, то название функции + 2 аргумента + 1 целевая перееменная (isBuggy) = 901 переменная в датасете"
   ]
  },
  {
   "cell_type": "code",
   "execution_count": null,
   "metadata": {},
   "outputs": [],
   "source": [
    "def replace_string_column_with_vectors(pd_df, columnName, word2VecVocabulary = word2VecModel.wv):\n",
    "    DEFAULT_VALUE_IF_NOT_EXITS_IN_WORD2VEC = '0'\n",
    "    \n",
    "    vector_size = len(word2VecVocabulary[DEFAULT_VALUE_IF_NOT_EXITS_IN_WORD2VEC])\n",
    "    \n",
    "    future_columns_names = []\n",
    "    \n",
    "    vectorized_df = pd.DataFrame()\n",
    "    \n",
    "    for i in range(vector_size):\n",
    "        future_columns_names.append(columnName + str(i))\n",
    "    \n",
    "    for rowIndex in tqdm(range(len(pd_df))):\n",
    "        word = pd_df.loc[rowIndex, columnName]\n",
    "        \n",
    "        if not checkIfWordInWord2VecDict(word, word2VecVocabulary):\n",
    "            #word = DEFAULT_VALUE_IF_NOT_EXITS_IN_WORD2VEC\n",
    "            newColumnsDf = pd.DataFrame(np.array([None] * vector_size).reshape(-1, vector_size), columns = future_columns_names)\n",
    "        else:\n",
    "            newColumnsDf = pd.DataFrame(\n",
    "                word2VecVocabulary[word].reshape(-1, len(word2VecVocabulary[word])), columns = future_columns_names\n",
    "            )\n",
    "   \n",
    "        vectorized_df = vectorized_df.append(newColumnsDf)\n",
    "    \n",
    "    return pd.concat([pd_df, vectorized_df.reset_index(drop=True)], axis=1)"
   ]
  },
  {
   "cell_type": "code",
   "execution_count": null,
   "metadata": {},
   "outputs": [],
   "source": [
    "two_args_funcs = replace_string_column_with_vectors(two_args_funcs, TWO_ARGS_FUNC_COLUMNS.FIRST_ARG, word2VecModel.wv)\n",
    "two_args_funcs = replace_string_column_with_vectors(two_args_funcs, TWO_ARGS_FUNC_COLUMNS.SECOND_ARG, word2VecModel.wv)\n",
    "two_args_funcs = replace_string_column_with_vectors(two_args_funcs, TWO_ARGS_FUNC_COLUMNS.FUNC_NAME, word2VecModel.wv)\n",
    "\n",
    "two_args_funcs = two_args_funcs.drop(\n",
    "    [TWO_ARGS_FUNC_COLUMNS.FIRST_ARG, TWO_ARGS_FUNC_COLUMNS.SECOND_ARG, TWO_ARGS_FUNC_COLUMNS.FUNC_NAME],\n",
    "    axis=1\n",
    ")"
   ]
  },
  {
   "cell_type": "code",
   "execution_count": null,
   "metadata": {},
   "outputs": [],
   "source": [
    "two_args_funcs = two_args_funcs.dropna().reset_index(drop=True)"
   ]
  },
  {
   "cell_type": "code",
   "execution_count": null,
   "metadata": {},
   "outputs": [],
   "source": [
    "len(two_args_funcs)"
   ]
  },
  {
   "cell_type": "markdown",
   "metadata": {},
   "source": [
    "### Обучаем"
   ]
  },
  {
   "cell_type": "markdown",
   "metadata": {},
   "source": [
    "Кормим это дело модели"
   ]
  },
  {
   "cell_type": "code",
   "execution_count": null,
   "metadata": {},
   "outputs": [],
   "source": [
    "y = np.array(two_args_funcs[TWO_ARGS_FUNC_COLUMNS.TARGET])\n",
    "\n",
    "X = two_args_funcs.drop(TWO_ARGS_FUNC_COLUMNS.TARGET, axis = 1)"
   ]
  },
  {
   "cell_type": "code",
   "execution_count": null,
   "metadata": {},
   "outputs": [],
   "source": [
    "from sklearn.ensemble import RandomForestClassifier\n",
    "\n",
    "rf = RandomForestClassifier(n_estimators = 1000, random_state = 27)\n",
    "\n",
    "rf.fit(X, y);"
   ]
  },
  {
   "cell_type": "markdown",
   "metadata": {},
   "source": [
    "### Проверяем на обучающей"
   ]
  },
  {
   "cell_type": "code",
   "execution_count": null,
   "metadata": {},
   "outputs": [],
   "source": [
    "from sklearn import metrics\n",
    "\n",
    "y_train_pred = rf.predict(X)\n",
    "print('accuracy:', metrics.accuracy_score(y, y_train_pred))\n",
    "print('recall:', metrics.recall_score(y, y_train_pred))\n",
    "print('precision:', metrics.precision_score(y, y_train_pred))"
   ]
  },
  {
   "cell_type": "markdown",
   "metadata": {},
   "source": [
    "### Проверяем на тестовой выборке"
   ]
  },
  {
   "cell_type": "markdown",
   "metadata": {},
   "source": [
    "Формируем тестовую выборку из массива с вызовами функциями"
   ]
  },
  {
   "cell_type": "markdown",
   "metadata": {},
   "source": [
    "Вновь фильтруем только функции с 2 аргументами"
   ]
  },
  {
   "cell_type": "code",
   "execution_count": null,
   "metadata": {},
   "outputs": [],
   "source": [
    "func_exec_storage_all = find_all_func_executions(functions_storage_dictionary, func_creation_dic, False)\n",
    "\n",
    "func_exec_storage_2_args = list(filter(lambda func: len(func[FUNCTIONS_JSON_PROPERTIES_NAMES.ARGS_NAMES]) == 2, func_exec_storage_all))"
   ]
  },
  {
   "cell_type": "markdown",
   "metadata": {},
   "source": [
    "превращаем в датафрейм"
   ]
  },
  {
   "cell_type": "code",
   "execution_count": null,
   "metadata": {},
   "outputs": [],
   "source": [
    "func_exec_2_args_df = pd.DataFrame(func_exec_storage_2_args)\n",
    "\n",
    "func_exec_2_args_df = func_exec_2_args_df.rename(\n",
    "    columns={FUNCTIONS_JSON_PROPERTIES_NAMES.FUNC_NAME: TWO_ARGS_FUNC_COLUMNS.FUNC_NAME}\n",
    ")\n",
    "\n",
    "func_exec_2_args_df[[TWO_ARGS_FUNC_COLUMNS.FIRST_ARG, TWO_ARGS_FUNC_COLUMNS.SECOND_ARG]] = pd.DataFrame(\n",
    "    func_exec_2_args_df[FUNCTIONS_JSON_PROPERTIES_NAMES.ARGS_NAMES].tolist(), index=func_exec_2_args_df.index\n",
    ")\n",
    "\n",
    "func_exec_2_args_df = func_exec_2_args_df.drop([\n",
    "    FUNCTIONS_JSON_PROPERTIES_NAMES.FUNC_TYPE,\n",
    "    FUNCTIONS_JSON_PROPERTIES_NAMES.ARGS_NAMES\n",
    "], axis='columns')"
   ]
  },
  {
   "cell_type": "code",
   "execution_count": null,
   "metadata": {},
   "outputs": [],
   "source": [
    "func_exec_2_args_df.head(3)"
   ]
  },
  {
   "cell_type": "markdown",
   "metadata": {},
   "source": [
    "векторизуем перемененные "
   ]
  },
  {
   "cell_type": "code",
   "execution_count": null,
   "metadata": {},
   "outputs": [],
   "source": [
    "func_exec_2_args_df = replace_string_column_with_vectors(func_exec_2_args_df, TWO_ARGS_FUNC_COLUMNS.FIRST_ARG, word2VecModel.wv)\n",
    "func_exec_2_args_df = replace_string_column_with_vectors(func_exec_2_args_df, TWO_ARGS_FUNC_COLUMNS.SECOND_ARG, word2VecModel.wv)\n",
    "func_exec_2_args_df = replace_string_column_with_vectors(func_exec_2_args_df, TWO_ARGS_FUNC_COLUMNS.FUNC_NAME, word2VecModel.wv)\n",
    "\n",
    "func_exec_2_args_df = func_exec_2_args_df.dropna()\n",
    "\n",
    "INFO_COLUMNS = [FUNCTIONS_JSON_PROPERTIES_NAMES.FILE_PATH, TWO_ARGS_FUNC_COLUMNS.FIRST_ARG, TWO_ARGS_FUNC_COLUMNS.SECOND_ARG, TWO_ARGS_FUNC_COLUMNS.FUNC_NAME]\n",
    "\n",
    "test_2_args_exec_df = func_exec_2_args_df.drop(\n",
    "    INFO_COLUMNS,\n",
    "    axis='columns'\n",
    ")\n",
    "\n",
    "func_exec_2_args_df = func_exec_2_args_df[INFO_COLUMNS]"
   ]
  },
  {
   "cell_type": "code",
   "execution_count": null,
   "metadata": {},
   "outputs": [],
   "source": [
    "func_exec_2_args_df.head(3)"
   ]
  },
  {
   "cell_type": "code",
   "execution_count": null,
   "metadata": {},
   "outputs": [],
   "source": [
    "test_2_args_exec_df.head(3)"
   ]
  },
  {
   "cell_type": "code",
   "execution_count": null,
   "metadata": {},
   "outputs": [],
   "source": [
    "PRED_PROB_COLUMN = TWO_ARGS_FUNC_COLUMNS.TARGET + '_pred'\n",
    "\n",
    "func_exec_2_args_df[PRED_PROB_COLUMN] = list(map(lambda x: x[1], rf.predict_proba(test_2_args_exec_df) ))"
   ]
  },
  {
   "cell_type": "markdown",
   "metadata": {},
   "source": [
    "Посмотрим, как распределены вероятности уверенности модели, что конкретный вызов функции - баг."
   ]
  },
  {
   "cell_type": "code",
   "execution_count": null,
   "metadata": {
    "scrolled": false
   },
   "outputs": [],
   "source": [
    "import seaborn as sns\n",
    "sns.set(color_codes=True, rc={'figure.figsize':(11.7,8.27)})\n",
    "\n",
    "sns.distplot(func_exec_2_args_df[PRED_PROB_COLUMN]);"
   ]
  },
  {
   "cell_type": "markdown",
   "metadata": {},
   "source": [
    "Нам важно, что было была высокая precision (пусть даже и при низком recall). То есть мы не хотим докучать разработчика лишними false positives (нашей моделью тогда просто никто не будет пользоваться)"
   ]
  },
  {
   "cell_type": "code",
   "execution_count": null,
   "metadata": {},
   "outputs": [],
   "source": [
    "pd.set_option('display.max_rows', 500)\n",
    "\n",
    "func_exec_2_args_df[func_exec_2_args_df[PRED_PROB_COLUMN] >= 0.7]"
   ]
  },
  {
   "cell_type": "markdown",
   "metadata": {},
   "source": [
    "Теперь нам осталось пройти по предсказанным моделью как ошибочным вызовам функций и понять, а действительно ли они ошибочные"
   ]
  }
 ],
 "metadata": {
  "kernelspec": {
   "display_name": "Python 3",
   "language": "python",
   "name": "python3"
  },
  "language_info": {
   "codemirror_mode": {
    "name": "ipython",
    "version": 3
   },
   "file_extension": ".py",
   "mimetype": "text/x-python",
   "name": "python",
   "nbconvert_exporter": "python",
   "pygments_lexer": "ipython3",
   "version": "3.8.2"
  }
 },
 "nbformat": 4,
 "nbformat_minor": 4
}
