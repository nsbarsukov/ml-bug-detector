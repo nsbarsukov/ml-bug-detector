{
 "cells": [
  {
   "cell_type": "markdown",
   "metadata": {},
   "source": [
    "# Подгрузка пакетов и данных"
   ]
  },
  {
   "cell_type": "code",
   "execution_count": 1,
   "metadata": {},
   "outputs": [
    {
     "name": "stdout",
     "output_type": "stream",
     "text": [
      "/Users/n.barsukov/WebstormProjects/ml-bug-detector\n"
     ]
    }
   ],
   "source": [
    "cd .."
   ]
  },
  {
   "cell_type": "code",
   "execution_count": 2,
   "metadata": {},
   "outputs": [],
   "source": [
    "import pandas as pd\n",
    "import numpy as np\n",
    "import json\n",
    "from tqdm.notebook import tqdm\n",
    "\n",
    "from gensim.models.word2vec import Word2Vec\n",
    "\n",
    "from shared.consts import FUNCTIONS_JSON_PROPERTIES_NAMES, PATH_TO_FUNCTIONS_STORAGE_JSON, PATH_TO_WORD2VEC_MODEL\n",
    "from shared.helpers import (\n",
    "    get_key_in_func_creation_dict, # получаем ключ из словаря/json c объявлениями функциями\n",
    "    get_func_name_from_key # из ключа от словаря/json c объявлениями функциями извлекаем имя функции\n",
    ")"
   ]
  },
  {
   "cell_type": "markdown",
   "metadata": {},
   "source": [
    "Загрузим уже построенную модель Word2Vec"
   ]
  },
  {
   "cell_type": "code",
   "execution_count": 3,
   "metadata": {},
   "outputs": [],
   "source": [
    "word2VecModel = Word2Vec.load(PATH_TO_WORD2VEC_MODEL)"
   ]
  },
  {
   "cell_type": "markdown",
   "metadata": {},
   "source": [
    "Загрузим JSON, в котором мы сложили названия функций (и названия их арггументов)"
   ]
  },
  {
   "cell_type": "code",
   "execution_count": 4,
   "metadata": {},
   "outputs": [],
   "source": [
    "functions_storage_dictionary = json.load(open(PATH_TO_FUNCTIONS_STORAGE_JSON))"
   ]
  },
  {
   "cell_type": "markdown",
   "metadata": {},
   "source": [
    "# Отделение объявления функций от их использования"
   ]
  },
  {
   "cell_type": "markdown",
   "metadata": {},
   "source": [
    "Функции с одним и тем же названием могут быть объявлены по-разному, поэтому объявления функций будут склдываться в словарь по принципу:\n",
    "\n",
    "<div style=\"text-align: center; font-weight: bold;\">Имя репозитория + имя функции</div>\n",
    "\n",
    "Функции **get_key_in_func_creation_dict** и **get_func_name_from_key** помогут нам с этим правилом"
   ]
  },
  {
   "cell_type": "code",
   "execution_count": 5,
   "metadata": {},
   "outputs": [],
   "source": [
    "def find_all_functions_creations(func_storage_dic):\n",
    "    func_creation_dic = {}\n",
    "    \n",
    "    for filePath in func_storage_dic.keys():\n",
    "        for function in func_storage_dic[filePath]:\n",
    "            if (\n",
    "                function[FUNCTIONS_JSON_PROPERTIES_NAMES.FUNC_TYPE] == 'FunctionDeclaration' or\n",
    "                function[FUNCTIONS_JSON_PROPERTIES_NAMES.FUNC_TYPE] == 'FunctionExpression'\n",
    "               ):\n",
    "                func_name = function[FUNCTIONS_JSON_PROPERTIES_NAMES.FUNC_NAME]\n",
    "                func_creation_dict_key = get_key_in_func_creation_dict(func_name, filePath)\n",
    "                if func_creation_dict_key in func_creation_dic:\n",
    "                    pass\n",
    "                    #print(func_creation_dict_key, 'уже есть в словаре')\n",
    "                func_creation_dic[func_creation_dict_key] = {\n",
    "                    f\"{FUNCTIONS_JSON_PROPERTIES_NAMES.ARGS_NAMES}\" : function[FUNCTIONS_JSON_PROPERTIES_NAMES.ARGS_NAMES],\n",
    "                    f\"{FUNCTIONS_JSON_PROPERTIES_NAMES.FILE_PATH}\": filePath\n",
    "                }\n",
    "    \n",
    "    return func_creation_dic"
   ]
  },
  {
   "cell_type": "code",
   "execution_count": 6,
   "metadata": {},
   "outputs": [],
   "source": [
    "func_creation_dic = find_all_functions_creations(functions_storage_dictionary)"
   ]
  },
  {
   "cell_type": "markdown",
   "metadata": {},
   "source": [
    "А теперь находим все ВЫЗОВЫ функций и смотрим, насколько их аргументы отличны объявления функции"
   ]
  },
  {
   "cell_type": "code",
   "execution_count": 7,
   "metadata": {},
   "outputs": [],
   "source": [
    "def find_all_func_executions(func_storage_dic, func_creation_dic, onlyInDictionary = True):\n",
    "    func_exec_storage = []\n",
    "    \n",
    "    for filePath in func_storage_dic.keys():\n",
    "        for function in func_storage_dic[filePath]:\n",
    "            func_name = function[FUNCTIONS_JSON_PROPERTIES_NAMES.FUNC_NAME]\n",
    "            func_creation_dict_key = get_key_in_func_creation_dict(func_name, filePath)\n",
    "            \n",
    "            if (\n",
    "                function[FUNCTIONS_JSON_PROPERTIES_NAMES.FUNC_TYPE] == 'CallExpression' and # должна быть вызовом функции\n",
    "                len(function[FUNCTIONS_JSON_PROPERTIES_NAMES.ARGS_NAMES]) > 0 and # должна иметь хоть один аргумент\n",
    "                (func_creation_dict_key in func_creation_dic or not onlyInDictionary)# должна быть в нашем словаре\n",
    "            ):\n",
    "                function[FUNCTIONS_JSON_PROPERTIES_NAMES.FILE_PATH] = filePath\n",
    "                func_exec_storage.append(function)\n",
    "    \n",
    "    return func_exec_storage"
   ]
  },
  {
   "cell_type": "code",
   "execution_count": 8,
   "metadata": {},
   "outputs": [],
   "source": [
    "func_exec_storage = find_all_func_executions(functions_storage_dictionary, func_creation_dic)"
   ]
  },
  {
   "cell_type": "code",
   "execution_count": 9,
   "metadata": {},
   "outputs": [
    {
     "name": "stdout",
     "output_type": "stream",
     "text": [
      "Размер словаря с объявлениями функций:  158133\n",
      "Размер массива с вызовами функций:  110682\n"
     ]
    }
   ],
   "source": [
    "print('Размер словаря с объявлениями функций: ', len(func_creation_dic))\n",
    "print('Размер массива с вызовами функций: ', len(func_exec_storage))"
   ]
  },
  {
   "cell_type": "markdown",
   "metadata": {},
   "source": [
    "Словарь с объявлениями функций - словарь, в котором ключ - название функции, а значение – массив с названиями переданных аргументов.\n",
    "\n",
    "Пример: функция с названием **confirmDelete**"
   ]
  },
  {
   "cell_type": "code",
   "execution_count": 10,
   "metadata": {},
   "outputs": [
    {
     "data": {
      "text/plain": [
       "{'argumentsNames': ['url', 'subject', 'reloadAfter'],\n",
       " 'filePath': 'scripts/Block8/PHPCI/public/assets/js/phpci.js'}"
      ]
     },
     "execution_count": 10,
     "metadata": {},
     "output_type": "execute_result"
    }
   ],
   "source": [
    "func_creation_dic[get_key_in_func_creation_dict('confirmDelete', 'scripts/Block8/PHPCI/public/assets/js/phpci.js')]"
   ]
  },
  {
   "cell_type": "markdown",
   "metadata": {},
   "source": [
    "Массив с вызовами функций состоит из словарей следующего формата"
   ]
  },
  {
   "cell_type": "code",
   "execution_count": 11,
   "metadata": {},
   "outputs": [
    {
     "data": {
      "text/plain": [
       "[{'type': 'CallExpression',\n",
       "  'argumentsNames': ['millis'],\n",
       "  'functionName': 'sleep',\n",
       "  'filePath': 'scripts/replit/jsrepl/tools/closure-compiler/trunk/lib/rhino/src/mozilla/js/rhino/toolsrc/org/mozilla/javascript/tools/debugger/test.js'},\n",
       " {'type': 'CallExpression',\n",
       "  'argumentsNames': [1000],\n",
       "  'functionName': 'sleep',\n",
       "  'filePath': 'scripts/replit/jsrepl/tools/closure-compiler/trunk/lib/rhino/src/mozilla/js/rhino/toolsrc/org/mozilla/javascript/tools/debugger/test.js'}]"
      ]
     },
     "execution_count": 11,
     "metadata": {},
     "output_type": "execute_result"
    }
   ],
   "source": [
    "list(filter(lambda func_exec: func_exec[FUNCTIONS_JSON_PROPERTIES_NAMES.FUNC_NAME] == 'sleep', func_exec_storage))"
   ]
  },
  {
   "cell_type": "markdown",
   "metadata": {},
   "source": [
    "# Класс для вызовов функций"
   ]
  },
  {
   "cell_type": "code",
   "execution_count": 12,
   "metadata": {},
   "outputs": [],
   "source": [
    "from shared.classes import FunctionExecution"
   ]
  },
  {
   "cell_type": "markdown",
   "metadata": {},
   "source": [
    "Импортированный класс определяет схожесть названий аргументов (в их векторной форме) в вызванной функции:\n",
    "\n",
    "- c названиями аргументов (на тех же позициях) в момент объявления функции (массив с циферкам)\n",
    "- векторную близость названий аргументов с названием функции (массив с циферкам)\n",
    "- общую векторную близость с названиями аргументами в момент объявления функции (одна циферка)"
   ]
  },
  {
   "cell_type": "markdown",
   "metadata": {},
   "source": [
    "Посмотрим, как это работает на примере"
   ]
  },
  {
   "cell_type": "code",
   "execution_count": 13,
   "metadata": {},
   "outputs": [],
   "source": [
    "def find_func_exec_and_compare_with_func_creation(funcName):\n",
    "    example_func_execs = list(\n",
    "        filter(lambda func: func[FUNCTIONS_JSON_PROPERTIES_NAMES.FUNC_NAME].endswith(funcName), func_exec_storage)\n",
    "    )\n",
    "    for example_func_exec in example_func_execs:\n",
    "        exec_func = FunctionExecution(example_func_exec, func_creation_dic, word2VecModel)\n",
    "\n",
    "        print('Вызов функции:', exec_func.func_name, 'c аргументами', exec_func.args_names)\n",
    "        print('Функция же была объявлена с словаре с аргументами:', exec_func.args_in_creation_dic)\n",
    "        print(exec_func.args_similarity_with_creation_args)\n",
    "        print('_________________________________________________')"
   ]
  },
  {
   "cell_type": "code",
   "execution_count": 14,
   "metadata": {},
   "outputs": [
    {
     "name": "stdout",
     "output_type": "stream",
     "text": [
      "Вызов функции: updateLine c аргументами ['lastLine', '', 'lastSpans', 'estimateHeight']\n",
      "Функция же была объявлена с словаре с аргументами: ['line', 'text', 'markedSpans', 'estimateHeight']\n",
      "[0.40866297, None, -0.024005493, 1.0]\n",
      "_________________________________________________\n",
      "Вызов функции: windowSearch c аргументами ['strSelectorName', None, 900, 'strTop', 'strLeft', 'strWindowName', 'parameters', None]\n",
      "Функция же была объявлена с словаре с аргументами: ['strPage', 'strHeight', 'strWidth', 'strTop', 'strLeft', 'strWindow', 'parameters', 'strValueID']\n",
      "[0.4237818, None, None, 1.0, 1.0, None, 1.0, None]\n",
      "_________________________________________________\n",
      "Вызов функции: windowSearch c аргументами ['strSelectorName', 450, 650, 'strTop', 'strLeft', 'strWindowName', 'parameters', 'strValueID']\n",
      "Функция же была объявлена с словаре с аргументами: ['strPage', 'strHeight', 'strWidth', 'strTop', 'strLeft', 'strWindow', 'parameters', 'strValueID']\n",
      "[0.4237818, None, None, 1.0, 1.0, None, 1.0, 0.99999994]\n",
      "_________________________________________________\n"
     ]
    }
   ],
   "source": [
    "find_func_exec_and_compare_with_func_creation('updateLine')\n",
    "find_func_exec_and_compare_with_func_creation('windowSearch')"
   ]
  },
  {
   "cell_type": "markdown",
   "metadata": {},
   "source": [
    "# Реализация алгоритма по поиску сомнительных мест"
   ]
  },
  {
   "cell_type": "markdown",
   "metadata": {},
   "source": [
    "Идея максимально проста. Проходим по массиву вызовов функции.\n",
    "\n",
    "- По названию функции определяем в словаре с объявлениями функций, с какими названиями аргументов была объявлена эта функция\n",
    "- Для каждой пары аргументов (название аргумента в момент вызовы функции и название аргумента в момент объявление функции) считаем близость их названий в векторной форме с помощью уже построенной модели word2Vec (это будет значение 0 до 1)\n",
    "- Аналогично считаем близость каждого аргумента с названием функции\n",
    "- Считаем общую близость аргументов (в момент вызовы функции и в момент объявление функции)\n",
    "- Если все схожести меньше заданного порога (threshold), то выбрасываем предупреждение пользователю"
   ]
  },
  {
   "cell_type": "markdown",
   "metadata": {},
   "source": [
    "### Threshold"
   ]
  },
  {
   "cell_type": "code",
   "execution_count": 15,
   "metadata": {},
   "outputs": [],
   "source": [
    "MIN_SIMILARITY_THRESHOLD = 0.1"
   ]
  },
  {
   "cell_type": "code",
   "execution_count": 16,
   "metadata": {},
   "outputs": [],
   "source": [
    "def if_any_arg_below_threshold(list_with_sims, min_sim_threshold = MIN_SIMILARITY_THRESHOLD):\n",
    "    if not list_with_sims:\n",
    "        return False\n",
    "    \n",
    "    is_below_threshold_args_similarities = list(\n",
    "        map(lambda x: x and x < min_sim_threshold, list_with_sims))\n",
    "\n",
    "    return any(is_below_threshold_args_similarities)"
   ]
  },
  {
   "cell_type": "markdown",
   "metadata": {},
   "source": [
    "Порог не должен быть большой, потому что модели важно достичь высокого precision, а не recall.\n",
    "\n",
    "Если наш алгоритм будет часто беспокоить пользователя по пустякам, предупреждая об ошибках там, где их нет (false positive), то нашим алгоритмом просто никто не будет пользоваться. Нужно беспокоить программиста только прям в самых вероятных случаях наличия ошибки. Ведь программисты люди ленивые и занятые... "
   ]
  },
  {
   "cell_type": "markdown",
   "metadata": {},
   "source": [
    "### Поиск сомнительных мест"
   ]
  },
  {
   "cell_type": "code",
   "execution_count": 17,
   "metadata": {
    "scrolled": true
   },
   "outputs": [],
   "source": [
    "warnings_exec_functions_storage = []\n",
    "for func_exec_item in func_exec_storage:\n",
    "    func_exec = FunctionExecution(func_exec_item, func_creation_dic, word2VecModel)\n",
    "    \n",
    "    if len(func_exec.args_names) != len(func_exec.args_in_creation_dic):\n",
    "        continue\n",
    "    \n",
    "    if_any_dissims_with_creation_arg = if_any_arg_below_threshold(func_exec.args_similarity_with_creation_args)\n",
    "    if_any_dissims_with_func_name = if_any_arg_below_threshold(func_exec.args_similarity_with_func_name)\n",
    "    if_total_args_sim_with_creation_args_low = func_exec.total_args_sim_with_creation_args < MIN_SIMILARITY_THRESHOLD\n",
    "    \n",
    "    if if_any_dissims_with_creation_arg and if_any_dissims_with_func_name and if_total_args_sim_with_creation_args_low:\n",
    "        warnings_exec_functions_storage.append(func_exec)"
   ]
  },
  {
   "cell_type": "code",
   "execution_count": 18,
   "metadata": {},
   "outputs": [
    {
     "name": "stdout",
     "output_type": "stream",
     "text": [
      "Было зафиксировано 1374 предупреждений\n"
     ]
    }
   ],
   "source": [
    "print('Было зафиксировано', len(warnings_exec_functions_storage), 'предупреждений')"
   ]
  },
  {
   "cell_type": "code",
   "execution_count": 19,
   "metadata": {},
   "outputs": [
    {
     "name": "stdout",
     "output_type": "stream",
     "text": [
      "В файле scripts/01org/web-simulator/lib/ripple/ui/plugins/settings-dialog.js проверь функцию fill\n",
      "Она вызвана с аргументами ['build', 'projectPath']\n",
      "Но вот объявлена функция со следующими аргументами:\n",
      "['action', 'prop']\n",
      "Попарная схожесть аргументов (c названиями в объявленной функции): [0.07789196, -0.021467714]\n",
      "Общая схожесть (c названиями в объявленной функции): 0.08319147\n",
      "Попарная схожесть аргументов c названием функции: [0.038251348, 0.03182174]\n",
      "_____________\n",
      "В файле scripts/01org/web-simulator/lib/ripple/ui/plugins/settings-dialog.js проверь функцию fill\n",
      "Она вызвана с аргументами ['build', 'remoteInspector']\n",
      "Но вот объявлена функция со следующими аргументами:\n",
      "['action', 'prop']\n",
      "Попарная схожесть аргументов (c названиями в объявленной функции): [0.07789196, None]\n",
      "Общая схожесть (c названиями в объявленной функции): 0.08061557\n",
      "Попарная схожесть аргументов c названием функции: [0.038251348, None]\n",
      "_____________\n",
      "В файле scripts/01org/web-simulator/lib/ripple/xhr/jsonp.js проверь функцию _set\n",
      "Она вызвана с аргументами ['response', '']\n",
      "Но вот объявлена функция со следующими аргументами:\n",
      "['prop', 'value']\n",
      "Попарная схожесть аргументов (c названиями в объявленной функции): [-0.02088544, None]\n",
      "Общая схожесть (c названиями в объявленной функции): 0.030911416\n",
      "Попарная схожесть аргументов c названием функции: [0.07820708, None]\n",
      "_____________\n",
      "В файле scripts/01org/web-simulator/lib/ripple/xhr/jsonp.js проверь функцию _set\n",
      "Она вызвана с аргументами ['responseText', '']\n",
      "Но вот объявлена функция со следующими аргументами:\n",
      "['prop', 'value']\n",
      "Попарная схожесть аргументов (c названиями в объявленной функции): [0.0033004389, None]\n",
      "Общая схожесть (c названиями в объявленной функции): 0.055798713\n",
      "Попарная схожесть аргументов c названием функции: [0.031924326, None]\n",
      "_____________\n",
      "В файле scripts/01org/web-simulator/lib/ripple/xhr/jsonp.js проверь функцию _set\n",
      "Она вызвана с аргументами ['responseXML', None]\n",
      "Но вот объявлена функция со следующими аргументами:\n",
      "['prop', 'value']\n",
      "Попарная схожесть аргументов (c названиями в объявленной функции): [-0.003191168, None]\n",
      "Общая схожесть (c названиями в объявленной функции): 0.016432263\n",
      "Попарная схожесть аргументов c названием функции: [0.067385785, None]\n",
      "_____________\n"
     ]
    }
   ],
   "source": [
    "for func_exec in warnings_exec_functions_storage[:5]:\n",
    "    print('В файле', func_exec.func_path, 'проверь функцию', func_exec.func_name)\n",
    "    print('Она вызвана с аргументами', func_exec.args_names)\n",
    "    print('Но вот объявлена функция со следующими аргументами:')\n",
    "    print(func_exec.args_in_creation_dic)\n",
    "    print('Попарная схожесть аргументов (c названиями в объявленной функции):',func_exec.args_similarity_with_creation_args)\n",
    "    print('Общая схожесть (c названиями в объявленной функции):', func_exec.total_args_sim_with_creation_args)\n",
    "    print('Попарная схожесть аргументов c названием функции:', func_exec.args_similarity_with_func_name)\n",
    "    print('_____________')"
   ]
  },
  {
   "cell_type": "markdown",
   "metadata": {},
   "source": [
    "### Разные названия аргументов,  но модель поняла, что они похожи"
   ]
  },
  {
   "cell_type": "markdown",
   "metadata": {},
   "source": [
    "Для контраста посмотрим кейсы, которые модель смогла определить как корректные (хотя имели РАЗНЫЕ названия аргументов)"
   ]
  },
  {
   "cell_type": "code",
   "execution_count": 20,
   "metadata": {},
   "outputs": [],
   "source": [
    "class RANGE_THRESHOLDS:\n",
    "    MIN = 0.3\n",
    "    MAX = 0.9\n",
    "\n",
    "def if_all_args_in_range_thresholds(\n",
    "    list_with_sims,\n",
    "    min_threshold = RANGE_THRESHOLDS.MIN,\n",
    "    max_threshold = RANGE_THRESHOLDS.MAX\n",
    "):\n",
    "    if not list_with_sims:\n",
    "        return False\n",
    "    \n",
    "    is_above_threshold_args_similarities = list(\n",
    "        map(lambda x: x and (x > min_threshold and x < max_threshold), list_with_sims)\n",
    "    )\n",
    "\n",
    "    return all(is_above_threshold_args_similarities)"
   ]
  },
  {
   "cell_type": "code",
   "execution_count": 21,
   "metadata": {},
   "outputs": [],
   "source": [
    "success_exec_func_storage = []\n",
    "\n",
    "for func_exec_item in func_exec_storage:\n",
    "    func_exec = FunctionExecution(func_exec_item, func_creation_dic, word2VecModel)\n",
    "    \n",
    "    if len(func_exec.args_names) != len(func_exec.args_in_creation_dic):\n",
    "        continue\n",
    "    \n",
    "    if_all_similar_with_creation = if_all_args_in_range_thresholds(func_exec.args_similarity_with_creation_args)\n",
    "    if_all_similar_with_func_name = if_all_args_in_range_thresholds(func_exec.args_similarity_with_func_name)\n",
    "    \n",
    "    if if_all_similar_with_creation and if_all_similar_with_func_name:\n",
    "        success_exec_func_storage.append(func_exec)"
   ]
  },
  {
   "cell_type": "code",
   "execution_count": 22,
   "metadata": {},
   "outputs": [
    {
     "name": "stdout",
     "output_type": "stream",
     "text": [
      "В файле scripts/QBurst/PenQ/PenQ/omni/chrome/toolkit/content/global/customizeToolbar.js функция toolboxChanged\n",
      "Была вызвана с аргументами ['aProp']\n",
      "А объявлена функция со следующими аргументами:\n",
      "['aType']\n",
      "Попарная схожесть аргументов (c названиями в объявленной функции): [0.36262286]\n",
      "Общая схожесть (c названиями в объявленной функции): 0.36262286\n",
      "Попарная схожесть аргументов c названием функции: [0.37223992]\n",
      "_____________\n",
      "В файле scripts/ReDEnergy/Browsercast/public/libs/js-beautify/beautify.js функция set_mode\n",
      "Была вызвана с аргументами ['next_mode']\n",
      "А объявлена функция со следующими аргументами:\n",
      "['mode']\n",
      "Попарная схожесть аргументов (c названиями в объявленной функции): [0.30677778]\n",
      "Общая схожесть (c названиями в объявленной функции): 0.30677778\n",
      "Попарная схожесть аргументов c названием функции: [0.64253885]\n",
      "_____________\n",
      "В файле scripts/YuqinShao/Tile_Based_WebGL_DeferredShader/DeferredShaderNonMRT/deferred.js функция setupQuad\n",
      "Была вызвана с аргументами ['edge_prog']\n",
      "А объявлена функция со следующими аргументами:\n",
      "['program']\n",
      "Попарная схожесть аргументов (c названиями в объявленной функции): [0.3063426]\n",
      "Общая схожесть (c названиями в объявленной функции): 0.3063426\n",
      "Попарная схожесть аргументов c названием функции: [0.57363975]\n",
      "_____________\n",
      "В файле scripts/alexwolfe/Buttons/showcase/js/zeroclipboard/src/js/core/private.js функция _detectFlashSupport\n",
      "Была вызвана с аргументами ['_ActiveXObject']\n",
      "А объявлена функция со следующими аргументами:\n",
      "['ActiveXObject']\n",
      "Попарная схожесть аргументов (c названиями в объявленной функции): [0.37754902]\n",
      "Общая схожесть (c названиями в объявленной функции): 0.37754902\n",
      "Попарная схожесть аргументов c названием функции: [0.614038]\n",
      "_____________\n",
      "В файле scripts/balderdashy/angularSails/example/assets/js/angular-sails/ngsails.io.js функция execHeaders\n",
      "Была вызвана с аргументами ['defHeaders']\n",
      "А объявлена функция со следующими аргументами:\n",
      "['headers']\n",
      "Попарная схожесть аргументов (c названиями в объявленной функции): [0.37917164]\n",
      "Общая схожесть (c названиями в объявленной функции): 0.37917164\n",
      "Попарная схожесть аргументов c названием функции: [0.8597203]\n",
      "_____________\n",
      "В файле scripts/dovadi/rails_funda/public/overlib/overlib.js функция runHook\n",
      "Была вызвана с аргументами ['createPopup', 'FBEFORE']\n",
      "А объявлена функция со следующими аргументами:\n",
      "['fnHookTo', 'hookType']\n",
      "Попарная схожесть аргументов (c названиями в объявленной функции): [0.368542, 0.68344474]\n",
      "Общая схожесть (c названиями в объявленной функции): 0.5771792\n",
      "Попарная схожесть аргументов c названием функции: [0.3894833, 0.826265]\n",
      "_____________\n",
      "В файле scripts/glinscott/Garbochess-JS/archived/garbochess-062310-01.js функция MakeMove\n",
      "Была вызвана с аргументами ['bestMove']\n",
      "А объявлена функция со следующими аргументами:\n",
      "['move']\n",
      "Попарная схожесть аргументов (c названиями в объявленной функции): [0.31451303]\n",
      "Общая схожесть (c названиями в объявленной функции): 0.31451303\n",
      "Попарная схожесть аргументов c названием функции: [0.60463184]\n",
      "_____________\n",
      "В файле scripts/glinscott/Garbochess-JS/archived/garbochess-071210-01.js функция GenerateAllMoves\n",
      "Была вызвана с аргументами ['moves']\n",
      "А объявлена функция со следующими аргументами:\n",
      "['moveStack']\n",
      "Попарная схожесть аргументов (c названиями в объявленной функции): [0.33072498]\n",
      "Общая схожесть (c названиями в объявленной функции): 0.33072498\n",
      "Попарная схожесть аргументов c названием функции: [0.36987612]\n",
      "_____________\n",
      "В файле scripts/huxiaoqi567/xscroll/demo/menu-x.js функция switchTo\n",
      "Была вызвана с аргументами ['curIndex']\n",
      "А объявлена функция со следующими аргументами:\n",
      "['index']\n",
      "Попарная схожесть аргументов (c названиями в объявленной функции): [0.34450006]\n",
      "Общая схожесть (c названиями в объявленной функции): 0.34450006\n",
      "Попарная схожесть аргументов c названием функции: [0.32352036]\n",
      "_____________\n",
      "В файле scripts/inclusive-design/wordpress-fss-theme/infusion/MyInfusion.js функция reifyIndex\n",
      "Была вызвана с аргументами ['selectionContext']\n",
      "А объявлена функция со следующими аргументами:\n",
      "['sc_that']\n",
      "Попарная схожесть аргументов (c названиями в объявленной функции): [0.504127]\n",
      "Общая схожесть (c названиями в объявленной функции): 0.504127\n",
      "Попарная схожесть аргументов c названием функции: [0.6233669]\n",
      "_____________\n",
      "В файле scripts/jxcore/jxcore/deps/mozjs/src/tests/ecma_3/Date/15.9.5.7.js функция addDateTestCase\n",
      "Была вызвана с аргументами ['TZ_ADJUST']\n",
      "А объявлена функция со следующими аргументами:\n",
      "['date_given_in_milliseconds']\n",
      "Попарная схожесть аргументов (c названиями в объявленной функции): [0.34163198]\n",
      "Общая схожесть (c названиями в объявленной функции): 0.34163198\n",
      "Попарная схожесть аргументов c названием функции: [0.8043625]\n",
      "_____________\n",
      "В файле scripts/mpetroff/pannellum/src/js/pannellum.js функция mergeConfig\n",
      "Была вызвана с аргументами ['firstScene']\n",
      "А объявлена функция со следующими аргументами:\n",
      "['sceneId']\n",
      "Попарная схожесть аргументов (c названиями в объявленной функции): [0.5038436]\n",
      "Общая схожесть (c названиями в объявленной функции): 0.5038436\n",
      "Попарная схожесть аргументов c названием функции: [0.5490938]\n",
      "_____________\n",
      "В файле scripts/mrmop/Booty5/tutorials/Leapo/leapo.js функция startLevel\n",
      "Была вызвана с аргументами ['current_round']\n",
      "А объявлена функция со следующими аргументами:\n",
      "['level']\n",
      "Попарная схожесть аргументов (c названиями в объявленной функции): [0.45673078]\n",
      "Общая схожесть (c названиями в объявленной функции): 0.45673078\n",
      "Попарная схожесть аргументов c названием функции: [0.4062441]\n",
      "_____________\n",
      "В файле scripts/pa7/nude.js/worker.nude.js функция clearRegions\n",
      "Была вызвана с аргументами ['detRegions']\n",
      "А объявлена функция со следующими аргументами:\n",
      "['detectedRegions']\n",
      "Попарная схожесть аргументов (c названиями в объявленной функции): [0.7937768]\n",
      "Общая схожесть (c названиями в объявленной функции): 0.7937768\n",
      "Попарная схожесть аргументов c названием функции: [0.60826063]\n",
      "_____________\n",
      "В файле scripts/saw/touch-interfaces/chapter09/listing9.18.js функция goTo\n",
      "Была вызвана с аргументами ['currentSlide']\n",
      "А объявлена функция со следующими аргументами:\n",
      "['direction']\n",
      "Попарная схожесть аргументов (c названиями в объявленной функции): [0.3042937]\n",
      "Общая схожесть (c названиями в объявленной функции): 0.3042937\n",
      "Попарная схожесть аргументов c названием функции: [0.55738693]\n",
      "_____________\n",
      "В файле scripts/therealglazou/bluegriffon/base/content/bluegriffon/dialogs/editStylesheet.js функция CheckURL\n",
      "Была вызвана с аргументами ['urlTextbox', 'relativeURLCheckbox']\n",
      "А объявлена функция со следующими аргументами:\n",
      "['aTextboxId', 'aCheckboxId']\n",
      "Попарная схожесть аргументов (c названиями в объявленной функции): [0.67850864, 0.5201346]\n",
      "Общая схожесть (c названиями в объявленной функции): 0.66101396\n",
      "Попарная схожесть аргументов c названием функции: [0.7353291, 0.3647813]\n",
      "_____________\n",
      "В файле scripts/tinyspeck/glitch-GameServerJS/players/inc_games.js функция games_scoreboard_end\n",
      "Была вызвана с аргументами ['color_game']\n",
      "А объявлена функция со следующими аргументами:\n",
      "['game_id']\n",
      "Попарная схожесть аргументов (c названиями в объявленной функции): [0.3456296]\n",
      "Общая схожесть (c названиями в объявленной функции): 0.3456296\n",
      "Попарная схожесть аргументов c названием функции: [0.49183547]\n",
      "_____________\n",
      "В файле scripts/versatica/JsSIP/lib/RTCSession.js функция userMediaSucceeded\n",
      "Была вызвана с аргументами ['mediaStream']\n",
      "А объявлена функция со следующими аргументами:\n",
      "['stream']\n",
      "Попарная схожесть аргументов (c названиями в объявленной функции): [0.3463601]\n",
      "Общая схожесть (c названиями в объявленной функции): 0.3463601\n",
      "Попарная схожесть аргументов c названием функции: [0.3869138]\n",
      "_____________\n",
      "В файле scripts/webrtcHacks/ChadWallaceHart.com/easyrtc/js/demo_data_channel_messaging.js функция updateButtonState\n",
      "Была вызвана с аргументами ['otherParty']\n",
      "А объявлена функция со следующими аргументами:\n",
      "['otherEasyrtcid']\n",
      "Попарная схожесть аргументов (c названиями в объявленной функции): [0.30627826]\n",
      "Общая схожесть (c названиями в объявленной функции): 0.30627826\n",
      "Попарная схожесть аргументов c названием функции: [0.5282117]\n",
      "_____________\n"
     ]
    }
   ],
   "source": [
    "already_shown = []\n",
    "\n",
    "for func_exec in success_exec_func_storage:\n",
    "    if func_exec.func_name in already_shown:\n",
    "        continue\n",
    "    already_shown.append(func_exec.func_name)\n",
    "    \n",
    "    print('В файле', func_exec.func_path, 'функция', func_exec.func_name)\n",
    "    print('Была вызвана с аргументами', func_exec.args_names)\n",
    "    print('А объявлена функция со следующими аргументами:')\n",
    "    print(func_exec.args_in_creation_dic)\n",
    "    print('Попарная схожесть аргументов (c названиями в объявленной функции):',func_exec.args_similarity_with_creation_args)\n",
    "    print('Общая схожесть (c названиями в объявленной функции):', func_exec.total_args_sim_with_creation_args)\n",
    "    print('Попарная схожесть аргументов c названием функции:', func_exec.args_similarity_with_func_name)\n",
    "    print('_____________')"
   ]
  },
  {
   "cell_type": "markdown",
   "metadata": {},
   "source": [
    "### Диапозон значений топ-10 похожих слов для каждого слова в словаре"
   ]
  },
  {
   "cell_type": "markdown",
   "metadata": {},
   "source": [
    "Определим, в каких диапозонах в среднем находится топ-10 слов"
   ]
  },
  {
   "cell_type": "code",
   "execution_count": 23,
   "metadata": {},
   "outputs": [
    {
     "data": {
      "application/vnd.jupyter.widget-view+json": {
       "model_id": "be3481fc368e46d988257c82691a2f65",
       "version_major": 2,
       "version_minor": 0
      },
      "text/plain": [
       "HBox(children=(FloatProgress(value=0.0, max=1534.0), HTML(value='')))"
      ]
     },
     "metadata": {},
     "output_type": "display_data"
    },
    {
     "name": "stdout",
     "output_type": "stream",
     "text": [
      "\n"
     ]
    }
   ],
   "source": [
    "first_simalar_words_sims = []\n",
    "tenth_simalar_words_sims = []\n",
    "fiftieth_simalar_words_sims = []\n",
    "hundredth_simalar_words_sims = []\n",
    "\n",
    "sample_words_from_model_dic = word2VecModel.wv.index2entity[::300]\n",
    "\n",
    "for wordIndex in tqdm(range(len(sample_words_from_model_dic))):\n",
    "    word = sample_words_from_model_dic[wordIndex]\n",
    "    most_similar_words = word2VecModel.wv.most_similar(word, topn=100)\n",
    "    \n",
    "    first_simalar_words_sims.append(most_similar_words[0][1])\n",
    "    tenth_simalar_words_sims.append(most_similar_words[9][1])\n",
    "    fiftieth_simalar_words_sims.append(most_similar_words[49][1])\n",
    "    hundredth_simalar_words_sims.append(most_similar_words[99][1])"
   ]
  },
  {
   "cell_type": "code",
   "execution_count": 24,
   "metadata": {},
   "outputs": [],
   "source": [
    "import numpy as np\n",
    "\n",
    "top_1 = np.asarray(first_simalar_words_sims)\n",
    "top_10 = np.asarray(tenth_simalar_words_sims)\n",
    "top_50 = np.asarray(fiftieth_simalar_words_sims)\n",
    "top_100 = np.asarray(hundredth_simalar_words_sims)"
   ]
  },
  {
   "cell_type": "code",
   "execution_count": 25,
   "metadata": {},
   "outputs": [
    {
     "data": {
      "image/png": "[encoded data removed]",
      "text/plain": [
       "<Figure size 1080x540 with 1 Axes>"
      ]
     },
     "metadata": {
      "needs_background": "light"
     },
     "output_type": "display_data"
    }
   ],
   "source": [
    "import seaborn as sns\n",
    "import matplotlib.pyplot as plt\n",
    "plt.figure(figsize=(15,7.5))\n",
    "tops_sims_df = pd.DataFrame({\n",
    "    'Топ-1': top_1,\n",
    "    'Топ-10': top_10,\n",
    "    'Топ-50': top_50,\n",
    "    # 'Топ-100': top_100\n",
    "})\n",
    "\n",
    "tops_boxplot = sns.boxplot(data=tops_sims_df, orient='h', palette=\"Blues\")\n",
    "tops_boxplot.tick_params(labelsize=14, labelrotation = 90)"
   ]
  },
  {
   "cell_type": "code",
   "execution_count": 26,
   "metadata": {},
   "outputs": [],
   "source": [
    "xticks = [\n",
    "    0,\n",
    "    round(np.median(top_50), 2),\n",
    "    round(np.median(top_10), 2),\n",
    "    round(np.median(top_1), 2),\n",
    "    \n",
    "    round(np.percentile(top_10, 25), 2),\n",
    "    round(np.percentile(top_50, 25), 2),\n",
    "    round(np.median(top_1), 2),\n",
    "    \n",
    "    round(np.percentile(top_1, 75), 2),\n",
    "    1\n",
    "]\n",
    "\n",
    "tops_boxplot.set_xticks(xticks)\n",
    "tops_boxplot.get_figure().savefig(\"top_sims.png\", dpi=300)"
   ]
  }
 ],
 "metadata": {
  "kernelspec": {
   "display_name": "Python 3",
   "language": "python",
   "name": "python3"
  },
  "language_info": {
   "codemirror_mode": {
    "name": "ipython",
    "version": 3
   },
   "file_extension": ".py",
   "mimetype": "text/x-python",
   "name": "python",
   "nbconvert_exporter": "python",
   "pygments_lexer": "ipython3",
   "version": "3.8.2"
  }
 },
 "nbformat": 4,
 "nbformat_minor": 4
}
