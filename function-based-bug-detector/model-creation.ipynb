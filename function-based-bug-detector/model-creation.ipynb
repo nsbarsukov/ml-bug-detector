{
 "cells": [
  {
   "cell_type": "markdown",
   "metadata": {},
   "source": [
    "# Подгрузка пакетов и данных"
   ]
  },
  {
   "cell_type": "code",
   "execution_count": 1,
   "metadata": {},
   "outputs": [
    {
     "name": "stdout",
     "output_type": "stream",
     "text": [
      "/Users/n.barsukov/WebstormProjects/ml-bug-detector\n"
     ]
    }
   ],
   "source": [
    "cd .."
   ]
  },
  {
   "cell_type": "code",
   "execution_count": 58,
   "metadata": {},
   "outputs": [],
   "source": [
    "import pandas as pd\n",
    "import json\n",
    "\n",
    "from gensim.models.word2vec import Word2Vec\n",
    "\n",
    "from shared.consts import FUNCTIONS_JSON_PROPERTIES_NAMES, PATH_TO_FUNCTIONS_STORAGE_JSON, PATH_TO_WORD2VEC_MODEL"
   ]
  },
  {
   "cell_type": "markdown",
   "metadata": {},
   "source": [
    "Загрузим уже построенную модель Word2Vec"
   ]
  },
  {
   "cell_type": "code",
   "execution_count": 3,
   "metadata": {},
   "outputs": [],
   "source": [
    "word2VecModel = Word2Vec.load(PATH_TO_WORD2VEC_MODEL)"
   ]
  },
  {
   "cell_type": "markdown",
   "metadata": {},
   "source": [
    "Загрузим JSON, в котором мы сложили названия функций (и названия их арггументов)"
   ]
  },
  {
   "cell_type": "code",
   "execution_count": 4,
   "metadata": {},
   "outputs": [],
   "source": [
    "functions_storage_dictionary = json.load(open(PATH_TO_FUNCTIONS_STORAGE_JSON))"
   ]
  },
  {
   "cell_type": "markdown",
   "metadata": {},
   "source": [
    "# Отделение объявления функций от их использования"
   ]
  },
  {
   "cell_type": "markdown",
   "metadata": {},
   "source": [
    "Функции с одним и тем же названием могут быть объявлены по-разному, поэтому задания функций будут склдываться в словарь по принципу:\n",
    "\n",
    "Имя репозитория + имя функции"
   ]
  },
  {
   "cell_type": "code",
   "execution_count": 76,
   "metadata": {},
   "outputs": [],
   "source": [
    "SEPARATOR_REPO_FUNCNAME = '___'\n",
    "\n",
    "def get_key_in_func_creation_dict(func_name, file_path):\n",
    "    paths_segments = file_path.split('/')\n",
    "    \n",
    "    if (len(paths_segments) > 2):\n",
    "        return paths_segments[1] + SEPARATOR_REPO_FUNCNAME + func_name\n",
    "    else:\n",
    "        return func_name\n",
    "    \n",
    "def get_func_name_from_key(key_in_func_creation_dict):\n",
    "    return key_in_func_creation_dict.split(SEPARATOR_REPO_FUNCNAME)[-1]"
   ]
  },
  {
   "cell_type": "code",
   "execution_count": 26,
   "metadata": {},
   "outputs": [],
   "source": [
    "def find_all_functions_creations(func_storage_dic):\n",
    "    func_creation_dic = {}\n",
    "    \n",
    "    for filePath in func_storage_dic.keys():\n",
    "        for function in func_storage_dic[filePath]:\n",
    "            if (\n",
    "                function[FUNCTIONS_JSON_PROPERTIES_NAMES.FUNC_TYPE] == 'FunctionDeclaration' or\n",
    "                function[FUNCTIONS_JSON_PROPERTIES_NAMES.FUNC_TYPE] == 'FunctionExpression'\n",
    "               ):\n",
    "                func_name = function[FUNCTIONS_JSON_PROPERTIES_NAMES.FUNC_NAME]\n",
    "                func_creation_dict_key = get_key_in_func_creation_dict(func_name, filePath)\n",
    "                if func_creation_dict_key in func_creation_dic:\n",
    "                    pass\n",
    "                    #print(func_creation_dict_key, 'уже есть в словаре')\n",
    "                func_creation_dic[func_creation_dict_key] = {\n",
    "                    f\"{FUNCTIONS_JSON_PROPERTIES_NAMES.ARGS_NAMES}\" : function[FUNCTIONS_JSON_PROPERTIES_NAMES.ARGS_NAMES],\n",
    "                    f\"{FUNCTIONS_JSON_PROPERTIES_NAMES.FILE_PATH}\": filePath\n",
    "                }\n",
    "    \n",
    "    return func_creation_dic"
   ]
  },
  {
   "cell_type": "code",
   "execution_count": 27,
   "metadata": {},
   "outputs": [],
   "source": [
    "func_creation_dic = find_all_functions_creations(functions_storage_dictionary)"
   ]
  },
  {
   "cell_type": "markdown",
   "metadata": {},
   "source": [
    "А теперь находим все ВЫЗОВЫ функций и смотрим, насколько их аргументы отличны объявления функции"
   ]
  },
  {
   "cell_type": "code",
   "execution_count": 29,
   "metadata": {},
   "outputs": [],
   "source": [
    "def find_all_func_executions(func_storage_dic, func_creation_dic):\n",
    "    func_exec_storage = []\n",
    "    \n",
    "    for filePath in func_storage_dic.keys():\n",
    "        for function in func_storage_dic[filePath]:\n",
    "            func_name = function[FUNCTIONS_JSON_PROPERTIES_NAMES.FUNC_NAME]\n",
    "            func_creation_dict_key = get_key_in_func_creation_dict(func_name, filePath)\n",
    "            \n",
    "            if (\n",
    "                function[FUNCTIONS_JSON_PROPERTIES_NAMES.FUNC_TYPE] == 'CallExpression' and # должна быть вызовом функции\n",
    "                len(function[FUNCTIONS_JSON_PROPERTIES_NAMES.ARGS_NAMES]) > 0 and # должна иметь хоть один аргумент\n",
    "                func_creation_dict_key in func_creation_dic # должна быть в нашем словаре\n",
    "            ):\n",
    "                function[FUNCTIONS_JSON_PROPERTIES_NAMES.FILE_PATH] = filePath\n",
    "                func_exec_storage.append(function)\n",
    "    \n",
    "    return func_exec_storage"
   ]
  },
  {
   "cell_type": "code",
   "execution_count": 30,
   "metadata": {},
   "outputs": [],
   "source": [
    "func_exec_storage = find_all_func_executions(functions_storage_dictionary, func_creation_dic)"
   ]
  },
  {
   "cell_type": "code",
   "execution_count": 31,
   "metadata": {},
   "outputs": [
    {
     "name": "stdout",
     "output_type": "stream",
     "text": [
      "Размер словаря с объявлениями функций:  18626\n",
      "Размер массива с вызовами функций:  2730\n"
     ]
    }
   ],
   "source": [
    "print('Размер словаря с объявлениями функций: ', len(func_creation_dic))\n",
    "print('Размер массива с вызовами функций: ', len(func_exec_storage))"
   ]
  },
  {
   "cell_type": "markdown",
   "metadata": {},
   "source": [
    "Словарь с объявлениями функций - словарь, в котором ключ - название функции, а значение – массив с названиями переданных аргументов.\n",
    "\n",
    "Пример: функция с названием **confirmDelete**"
   ]
  },
  {
   "cell_type": "code",
   "execution_count": 32,
   "metadata": {},
   "outputs": [
    {
     "data": {
      "text/plain": [
       "{'argumentsNames': ['url', 'subject', 'reloadAfter'],\n",
       " 'filePath': 'scripts/Block8/PHPCI/public/assets/js/phpci.js'}"
      ]
     },
     "execution_count": 32,
     "metadata": {},
     "output_type": "execute_result"
    }
   ],
   "source": [
    "func_creation_dic[get_key_in_func_creation_dict('confirmDelete', 'scripts/Block8/PHPCI/public/assets/js/phpci.js')]"
   ]
  },
  {
   "cell_type": "markdown",
   "metadata": {},
   "source": [
    "Массив с вызовами функций состоит из словарей следующего формата"
   ]
  },
  {
   "cell_type": "code",
   "execution_count": 33,
   "metadata": {},
   "outputs": [
    {
     "data": {
      "text/plain": [
       "[]"
      ]
     },
     "execution_count": 33,
     "metadata": {},
     "output_type": "execute_result"
    }
   ],
   "source": [
    "list(filter(lambda func_exec: func_exec[FUNCTIONS_JSON_PROPERTIES_NAMES.FUNC_NAME] == 'confirmDelete',func_exec_storage))"
   ]
  },
  {
   "cell_type": "markdown",
   "metadata": {},
   "source": [
    "# Алгоритм проверки схожести аргументов"
   ]
  },
  {
   "cell_type": "code",
   "execution_count": 35,
   "metadata": {},
   "outputs": [],
   "source": [
    "def checkIfWordInWord2VecDict(word, word2VecVocabulary = word2VecModel.wv):\n",
    "    return word in word2VecVocabulary\n",
    "\n",
    "def get_args_similarity(exec_func_name, exec_func_args_names, func_path, func_dict, word2VecModel):\n",
    "    \"\"\"Определяет схожесть названий аргументов в вызове функции с названиями аргументов в объявлении функции\"\"\"\n",
    "    args_similarity = []\n",
    "    \n",
    "    func_in_func_creation_dic_key = get_key_in_func_creation_dict(exec_func_name, func_path)\n",
    "    \n",
    "    for argIndex in range(len(exec_func_args_names)):\n",
    "        \n",
    "        if argIndex > len(func_dict[func_in_func_creation_dic_key][FUNCTIONS_JSON_PROPERTIES_NAMES.ARGS_NAMES]) - 1:\n",
    "            args_similarity.append(None)\n",
    "            continue\n",
    "        \n",
    "        exec_arg = exec_func_args_names[argIndex]\n",
    "        create_arg = func_dict[get_key_in_func_creation_dict(exec_func_name, func_path)][FUNCTIONS_JSON_PROPERTIES_NAMES.ARGS_NAMES][argIndex]\n",
    "        \n",
    "        if (checkIfWordInWord2VecDict(exec_arg) and checkIfWordInWord2VecDict(create_arg)):\n",
    "            args_similarity.append(word2VecModel.wv.similarity(exec_arg, create_arg))\n",
    "        else:\n",
    "            args_similarity.append(None)\n",
    "        \n",
    "    return args_similarity"
   ]
  },
  {
   "cell_type": "markdown",
   "metadata": {},
   "source": [
    "Посмотрим, как это работает на примере"
   ]
  },
  {
   "cell_type": "code",
   "execution_count": 38,
   "metadata": {},
   "outputs": [
    {
     "name": "stdout",
     "output_type": "stream",
     "text": [
      "Вызов функции: updateLine c аргументами ['lastLine', 'lastSpans', 'estimateHeight']\n",
      "Функция же была объявлена с словаре с аргументами: ['line', 'text', 'markedSpans', 'estimateHeight']\n"
     ]
    },
    {
     "data": {
      "text/plain": [
       "[0.44814897, -0.022563308, 0.33035174]"
      ]
     },
     "execution_count": 38,
     "metadata": {},
     "output_type": "execute_result"
    }
   ],
   "source": [
    "example_func_exec = list(filter(lambda func: func[FUNCTIONS_JSON_PROPERTIES_NAMES.FUNC_NAME].endswith('updateLine'), func_exec_storage))\n",
    "example_func_exec = example_func_exec[0]\n",
    "\n",
    "func_name = example_func_exec[FUNCTIONS_JSON_PROPERTIES_NAMES.FUNC_NAME]\n",
    "func_path = example_func_exec[FUNCTIONS_JSON_PROPERTIES_NAMES.FILE_PATH]\n",
    "args_names = example_func_exec[FUNCTIONS_JSON_PROPERTIES_NAMES.ARGS_NAMES]\n",
    "\n",
    "print('Вызов функции:', func_name, 'c аргументами', args_names)\n",
    "func_in_func_creation_dic_key = get_key_in_func_creation_dict(func_name, example_func_exec[FUNCTIONS_JSON_PROPERTIES_NAMES.FILE_PATH])\n",
    "print('Функция же была объявлена с словаре с аргументами:', func_creation_dic[func_in_func_creation_dic_key][FUNCTIONS_JSON_PROPERTIES_NAMES.ARGS_NAMES])\n",
    "\n",
    "get_args_similarity(func_name, args_names, func_path, func_creation_dic, word2VecModel)"
   ]
  },
  {
   "cell_type": "markdown",
   "metadata": {},
   "source": [
    "# Реализация на всем массиве вызовов функции"
   ]
  },
  {
   "cell_type": "markdown",
   "metadata": {},
   "source": [
    "Идея максимально проста. Проходим по массиву вызовов функции.\n",
    "\n",
    "- По названию функции определяем в словаре с объявлениями функций, с какими названиями аргументов была объявлена эта функция\n",
    "- Для каждой пары аргументов (название аргумента в момент вызовы функции и название аргумента в момент объявление функции) считаем близость их названий в векторной форме с помощью уже построенной модели word2Vec (это будет значение 0 до 1)\n",
    "- Если эта схожесть меньше заданного порога (threshold), то выбрасываем предупреждение пользователю"
   ]
  },
  {
   "cell_type": "markdown",
   "metadata": {},
   "source": [
    "### Threshold"
   ]
  },
  {
   "cell_type": "code",
   "execution_count": 56,
   "metadata": {},
   "outputs": [],
   "source": [
    "MIN_SIMILARITY_THRESHOLD = 0.8"
   ]
  },
  {
   "cell_type": "markdown",
   "metadata": {},
   "source": [
    "Порог не должен быть большой, потому что модели важно достичь высокого precision, а не recall.\n",
    "\n",
    "Если наш алгоритм будет часто беспокоить пользователя по пустякам, предупреждая об ошибках там, где их нет (false positive), то нашим алгоритмом просто никто не будет пользоваться. Нужно беспокоить программиста только прям в самых вероятных случаях наличия ошибки. Ведь программисты люди ленивые и занятые... "
   ]
  },
  {
   "cell_type": "code",
   "execution_count": 69,
   "metadata": {},
   "outputs": [],
   "source": [
    "for func_exec in func_exec_storage:\n",
    "    func_name = func_exec[FUNCTIONS_JSON_PROPERTIES_NAMES.FUNC_NAME]\n",
    "    args_names = func_exec[FUNCTIONS_JSON_PROPERTIES_NAMES.ARGS_NAMES]\n",
    "    func_path = func_exec[FUNCTIONS_JSON_PROPERTIES_NAMES.FILE_PATH]\n",
    "    \n",
    "    args_similarities = get_args_similarity(func_name, args_names, func_path, func_creation_dic, word2VecModel)\n",
    "    is_below_threshold_args_similarities = list(map(lambda x: x and x < MIN_SIMILARITY_THRESHOLD, args_similarities))\n",
    "    \n",
    "    if (any(is_below_threshold_args_similarities)):\n",
    "        print('В файле', func_path, 'проверь:')\n",
    "        print('Была вызвана функция', func_name, 'с аргументами', args_names)\n",
    "        print('Но вот объявлена функция была со следующими аргументами:')\n",
    "        print(func_creation_dic[get_key_in_func_creation_dict(func_name, func_path)][FUNCTIONS_JSON_PROPERTIES_NAMES.ARGS_NAMES])\n",
    "        print('_____________')"
   ]
  },
  {
   "cell_type": "markdown",
   "metadata": {},
   "source": [
    "## Эксперименты с моделями"
   ]
  },
  {
   "cell_type": "markdown",
   "metadata": {},
   "source": [
    "### Трансформируем данные"
   ]
  },
  {
   "cell_type": "markdown",
   "metadata": {},
   "source": [
    "Оставим только функции, у которых 2 аргумента"
   ]
  },
  {
   "cell_type": "code",
   "execution_count": 67,
   "metadata": {},
   "outputs": [],
   "source": [
    "func_creation_dic_2_args = dict(\n",
    "    filter(lambda elem: len(elem[1][FUNCTIONS_JSON_PROPERTIES_NAMES.ARGS_NAMES]) == 2, func_creation_dic.items())\n",
    ")"
   ]
  },
  {
   "cell_type": "code",
   "execution_count": 85,
   "metadata": {},
   "outputs": [
    {
     "data": {
      "text/html": [
       "<div>\n",
       "<style scoped>\n",
       "    .dataframe tbody tr th:only-of-type {\n",
       "        vertical-align: middle;\n",
       "    }\n",
       "\n",
       "    .dataframe tbody tr th {\n",
       "        vertical-align: top;\n",
       "    }\n",
       "\n",
       "    .dataframe thead th {\n",
       "        text-align: right;\n",
       "    }\n",
       "</style>\n",
       "<table border=\"1\" class=\"dataframe\">\n",
       "  <thead>\n",
       "    <tr style=\"text-align: right;\">\n",
       "      <th></th>\n",
       "      <th>arg1</th>\n",
       "      <th>arg2</th>\n",
       "      <th>funcName</th>\n",
       "      <th>isBuggy</th>\n",
       "    </tr>\n",
       "  </thead>\n",
       "  <tbody>\n",
       "    <tr>\n",
       "      <th>BBC-News-Labs___onAlert</th>\n",
       "      <td>stringerName</td>\n",
       "      <td>alertData</td>\n",
       "      <td>onAlert</td>\n",
       "      <td>0</td>\n",
       "    </tr>\n",
       "    <tr>\n",
       "      <th>Baidu-Music-FE___extend</th>\n",
       "      <td>child</td>\n",
       "      <td>parent</td>\n",
       "      <td>extend</td>\n",
       "      <td>0</td>\n",
       "    </tr>\n",
       "    <tr>\n",
       "      <th>BaiduFE___doHighlight</th>\n",
       "      <td>el</td>\n",
       "      <td>highlighter</td>\n",
       "      <td>doHighlight</td>\n",
       "      <td>0</td>\n",
       "    </tr>\n",
       "  </tbody>\n",
       "</table>\n",
       "</div>"
      ],
      "text/plain": [
       "                                 arg1         arg2     funcName  isBuggy\n",
       "BBC-News-Labs___onAlert  stringerName    alertData      onAlert        0\n",
       "Baidu-Music-FE___extend         child       parent       extend        0\n",
       "BaiduFE___doHighlight              el  highlighter  doHighlight        0"
      ]
     },
     "execution_count": 85,
     "metadata": {},
     "output_type": "execute_result"
    }
   ],
   "source": [
    "two_args_funcs = pd.DataFrame.from_dict(func_creation_dic_2_args, orient='index')\n",
    "two_args_funcs[['arg1','arg2']] = pd.DataFrame(two_args_funcs.argumentsNames.tolist(), index=two_args_funcs.index)\n",
    "two_args_funcs['funcName'] = list(map(lambda rowName: get_func_name_from_key(rowName), two_args_funcs.index))\n",
    "two_args_funcs.drop(['argumentsNames', 'filePath'], axis='columns', inplace=True)\n",
    "two_args_funcs['isBuggy'] = 0\n",
    "\n",
    "two_args_funcs.head(3)"
   ]
  },
  {
   "cell_type": "markdown",
   "metadata": {},
   "source": [
    "Меняем местами аргументами и добавляем эти строчки как isBuggy = 1\n",
    "\n",
    "(то есть получим 50% одного класса и 50% другого класса)"
   ]
  },
  {
   "cell_type": "code",
   "execution_count": null,
   "metadata": {},
   "outputs": [],
   "source": []
  },
  {
   "cell_type": "markdown",
   "metadata": {},
   "source": [
    "Теперь заменяем слова на их векторное представление из word2Vec.\n",
    "\n",
    "Если например, каждое слово представлено в модели word2Vec как вектор из 300 значений, то название функции + 2 аргумента + 1 целевая перееменная (isBuggy) = 901 переменная в датасете"
   ]
  },
  {
   "cell_type": "code",
   "execution_count": null,
   "metadata": {},
   "outputs": [],
   "source": []
  },
  {
   "cell_type": "markdown",
   "metadata": {},
   "source": [
    "### Обучаем"
   ]
  },
  {
   "cell_type": "markdown",
   "metadata": {},
   "source": [
    "Кормим это дело модели"
   ]
  },
  {
   "cell_type": "code",
   "execution_count": null,
   "metadata": {},
   "outputs": [],
   "source": []
  },
  {
   "cell_type": "markdown",
   "metadata": {},
   "source": [
    "### Проверяем на тестовой выборке"
   ]
  },
  {
   "cell_type": "markdown",
   "metadata": {},
   "source": [
    "Формируем тестовую выборку из массива с вызовами функциями"
   ]
  },
  {
   "cell_type": "code",
   "execution_count": null,
   "metadata": {},
   "outputs": [],
   "source": []
  }
 ],
 "metadata": {
  "kernelspec": {
   "display_name": "Python 3",
   "language": "python",
   "name": "python3"
  },
  "language_info": {
   "codemirror_mode": {
    "name": "ipython",
    "version": 3
   },
   "file_extension": ".py",
   "mimetype": "text/x-python",
   "name": "python",
   "nbconvert_exporter": "python",
   "pygments_lexer": "ipython3",
   "version": "3.8.2"
  }
 },
 "nbformat": 4,
 "nbformat_minor": 4
}
