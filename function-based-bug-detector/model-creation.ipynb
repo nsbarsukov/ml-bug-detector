{
 "cells": [
  {
   "cell_type": "markdown",
   "metadata": {},
   "source": [
    "# Подгрузка пакетов и данных"
   ]
  },
  {
   "cell_type": "code",
   "execution_count": 1,
   "metadata": {},
   "outputs": [
    {
     "name": "stdout",
     "output_type": "stream",
     "text": [
      "/Users/polina/WebstormProjects/ml-bug-detector\n"
     ]
    }
   ],
   "source": [
    "cd .."
   ]
  },
  {
   "cell_type": "code",
   "execution_count": 2,
   "metadata": {},
   "outputs": [],
   "source": [
    "import pandas as pd\n",
    "import numpy as np\n",
    "import json\n",
    "from tqdm.notebook import tqdm\n",
    "\n",
    "from gensim.models.word2vec import Word2Vec\n",
    "\n",
    "from shared.consts import FUNCTIONS_JSON_PROPERTIES_NAMES, PATH_TO_FUNCTIONS_STORAGE_JSON, PATH_TO_WORD2VEC_MODEL"
   ]
  },
  {
   "cell_type": "markdown",
   "metadata": {},
   "source": [
    "Загрузим уже построенную модель Word2Vec"
   ]
  },
  {
   "cell_type": "code",
   "execution_count": 3,
   "metadata": {},
   "outputs": [],
   "source": [
    "word2VecModel = Word2Vec.load(PATH_TO_WORD2VEC_MODEL)"
   ]
  },
  {
   "cell_type": "markdown",
   "metadata": {},
   "source": [
    "Загрузим JSON, в котором мы сложили названия функций (и названия их арггументов)"
   ]
  },
  {
   "cell_type": "code",
   "execution_count": 4,
   "metadata": {},
   "outputs": [],
   "source": [
    "functions_storage_dictionary = json.load(open(PATH_TO_FUNCTIONS_STORAGE_JSON))"
   ]
  },
  {
   "cell_type": "markdown",
   "metadata": {},
   "source": [
    "# Отделение объявления функций от их использования"
   ]
  },
  {
   "cell_type": "markdown",
   "metadata": {},
   "source": [
    "Функции с одним и тем же названием могут быть объявлены по-разному, поэтому объявления функций будут склдываться в словарь по принципу:\n",
    "\n",
    "<div style=\"text-align: center; font-weight: bold;\">Имя репозитория + имя функции</div>"
   ]
  },
  {
   "cell_type": "code",
   "execution_count": 5,
   "metadata": {},
   "outputs": [],
   "source": [
    "SEPARATOR_REPO_FUNCNAME = '___'\n",
    "\n",
    "def get_key_in_func_creation_dict(func_name, file_path):\n",
    "    paths_segments = file_path.split('/')\n",
    "    \n",
    "    if (len(paths_segments) > 2):\n",
    "        return paths_segments[1] + SEPARATOR_REPO_FUNCNAME + func_name\n",
    "    else:\n",
    "        return func_name\n",
    "    \n",
    "def get_func_name_from_key(key_in_func_creation_dict):\n",
    "    return key_in_func_creation_dict.split(SEPARATOR_REPO_FUNCNAME)[-1]"
   ]
  },
  {
   "cell_type": "code",
   "execution_count": 6,
   "metadata": {},
   "outputs": [],
   "source": [
    "def find_all_functions_creations(func_storage_dic):\n",
    "    func_creation_dic = {}\n",
    "    \n",
    "    for filePath in func_storage_dic.keys():\n",
    "        for function in func_storage_dic[filePath]:\n",
    "            if (\n",
    "                function[FUNCTIONS_JSON_PROPERTIES_NAMES.FUNC_TYPE] == 'FunctionDeclaration' or\n",
    "                function[FUNCTIONS_JSON_PROPERTIES_NAMES.FUNC_TYPE] == 'FunctionExpression'\n",
    "               ):\n",
    "                func_name = function[FUNCTIONS_JSON_PROPERTIES_NAMES.FUNC_NAME]\n",
    "                func_creation_dict_key = get_key_in_func_creation_dict(func_name, filePath)\n",
    "                if func_creation_dict_key in func_creation_dic:\n",
    "                    pass\n",
    "                    #print(func_creation_dict_key, 'уже есть в словаре')\n",
    "                func_creation_dic[func_creation_dict_key] = {\n",
    "                    f\"{FUNCTIONS_JSON_PROPERTIES_NAMES.ARGS_NAMES}\" : function[FUNCTIONS_JSON_PROPERTIES_NAMES.ARGS_NAMES],\n",
    "                    f\"{FUNCTIONS_JSON_PROPERTIES_NAMES.FILE_PATH}\": filePath\n",
    "                }\n",
    "    \n",
    "    return func_creation_dic"
   ]
  },
  {
   "cell_type": "code",
   "execution_count": 7,
   "metadata": {},
   "outputs": [],
   "source": [
    "func_creation_dic = find_all_functions_creations(functions_storage_dictionary)"
   ]
  },
  {
   "cell_type": "markdown",
   "metadata": {},
   "source": [
    "А теперь находим все ВЫЗОВЫ функций и смотрим, насколько их аргументы отличны объявления функции"
   ]
  },
  {
   "cell_type": "code",
   "execution_count": 8,
   "metadata": {},
   "outputs": [],
   "source": [
    "def find_all_func_executions(func_storage_dic, func_creation_dic, onlyInDictionary = True):\n",
    "    func_exec_storage = []\n",
    "    \n",
    "    for filePath in func_storage_dic.keys():\n",
    "        for function in func_storage_dic[filePath]:\n",
    "            func_name = function[FUNCTIONS_JSON_PROPERTIES_NAMES.FUNC_NAME]\n",
    "            func_creation_dict_key = get_key_in_func_creation_dict(func_name, filePath)\n",
    "            \n",
    "            if (\n",
    "                function[FUNCTIONS_JSON_PROPERTIES_NAMES.FUNC_TYPE] == 'CallExpression' and # должна быть вызовом функции\n",
    "                len(function[FUNCTIONS_JSON_PROPERTIES_NAMES.ARGS_NAMES]) > 0 and # должна иметь хоть один аргумент\n",
    "                (func_creation_dict_key in func_creation_dic or not onlyInDictionary)# должна быть в нашем словаре\n",
    "            ):\n",
    "                function[FUNCTIONS_JSON_PROPERTIES_NAMES.FILE_PATH] = filePath\n",
    "                func_exec_storage.append(function)\n",
    "    \n",
    "    return func_exec_storage"
   ]
  },
  {
   "cell_type": "code",
   "execution_count": 9,
   "metadata": {},
   "outputs": [],
   "source": [
    "func_exec_storage = find_all_func_executions(functions_storage_dictionary, func_creation_dic)"
   ]
  },
  {
   "cell_type": "code",
   "execution_count": 10,
   "metadata": {},
   "outputs": [
    {
     "name": "stdout",
     "output_type": "stream",
     "text": [
      "Размер словаря с объявлениями функций:  17948\n",
      "Размер массива с вызовами функций:  2399\n"
     ]
    }
   ],
   "source": [
    "print('Размер словаря с объявлениями функций: ', len(func_creation_dic))\n",
    "print('Размер массива с вызовами функций: ', len(func_exec_storage))"
   ]
  },
  {
   "cell_type": "markdown",
   "metadata": {},
   "source": [
    "Словарь с объявлениями функций - словарь, в котором ключ - название функции, а значение – массив с названиями переданных аргументов.\n",
    "\n",
    "Пример: функция с названием **confirmDelete**"
   ]
  },
  {
   "cell_type": "code",
   "execution_count": 11,
   "metadata": {},
   "outputs": [
    {
     "data": {
      "text/plain": [
       "{'argumentsNames': ['url', 'subject', 'reloadAfter'],\n",
       " 'filePath': 'scripts/Block8/PHPCI/public/assets/js/phpci.js'}"
      ]
     },
     "execution_count": 11,
     "metadata": {},
     "output_type": "execute_result"
    }
   ],
   "source": [
    "func_creation_dic[get_key_in_func_creation_dict('confirmDelete', 'scripts/Block8/PHPCI/public/assets/js/phpci.js')]"
   ]
  },
  {
   "cell_type": "markdown",
   "metadata": {},
   "source": [
    "Массив с вызовами функций состоит из словарей следующего формата"
   ]
  },
  {
   "cell_type": "code",
   "execution_count": 12,
   "metadata": {},
   "outputs": [
    {
     "data": {
      "text/plain": [
       "[]"
      ]
     },
     "execution_count": 12,
     "metadata": {},
     "output_type": "execute_result"
    }
   ],
   "source": [
    "list(filter(lambda func_exec: func_exec[FUNCTIONS_JSON_PROPERTIES_NAMES.FUNC_NAME] == 'confirmDelete',func_exec_storage))"
   ]
  },
  {
   "cell_type": "markdown",
   "metadata": {},
   "source": [
    "# Алгоритм проверки схожести аргументов"
   ]
  },
  {
   "cell_type": "code",
   "execution_count": 13,
   "metadata": {},
   "outputs": [],
   "source": [
    "def checkIfWordInWord2VecDict(word, word2VecVocabulary = word2VecModel.wv):\n",
    "    return word in word2VecVocabulary\n",
    "\n",
    "def get_args_similarity(exec_func_name, exec_func_args_names, func_path, func_dict, word2VecModel):\n",
    "    \"\"\"Определяет схожесть названий аргументов в вызове функции с названиями аргументов в объявлении функции\"\"\"\n",
    "    args_similarity = []\n",
    "    \n",
    "    func_in_func_creation_dic_key = get_key_in_func_creation_dict(exec_func_name, func_path)\n",
    "    \n",
    "    for argIndex in range(len(exec_func_args_names)):\n",
    "        \n",
    "        if argIndex > len(func_dict[func_in_func_creation_dic_key][FUNCTIONS_JSON_PROPERTIES_NAMES.ARGS_NAMES]) - 1:\n",
    "            args_similarity.append(None)\n",
    "            continue\n",
    "        \n",
    "        exec_arg = exec_func_args_names[argIndex]\n",
    "        create_arg = func_dict[get_key_in_func_creation_dict(exec_func_name, func_path)][FUNCTIONS_JSON_PROPERTIES_NAMES.ARGS_NAMES][argIndex]\n",
    "        \n",
    "        if len(exec_arg) <= 3 or len(create_arg) <= 3 or '$' in exec_arg or '$' in create_arg:\n",
    "            args_similarity.append(None)\n",
    "            continue\n",
    "        \n",
    "        if (checkIfWordInWord2VecDict(exec_arg) and checkIfWordInWord2VecDict(create_arg)):\n",
    "            args_similarity.append(word2VecModel.wv.similarity(exec_arg, create_arg))\n",
    "        else:\n",
    "            args_similarity.append(None)\n",
    "        \n",
    "    return args_similarity"
   ]
  },
  {
   "cell_type": "markdown",
   "metadata": {},
   "source": [
    "Посмотрим, как это работает на примере"
   ]
  },
  {
   "cell_type": "code",
   "execution_count": 14,
   "metadata": {},
   "outputs": [],
   "source": [
    "def find_func_exec_and_compare_with_func_creation(funcName):\n",
    "    example_func_execs = list(\n",
    "        filter(lambda func: func[FUNCTIONS_JSON_PROPERTIES_NAMES.FUNC_NAME].endswith(funcName), func_exec_storage)\n",
    "    )\n",
    "    for example_func_exec in example_func_execs:\n",
    "        func_name = example_func_exec[FUNCTIONS_JSON_PROPERTIES_NAMES.FUNC_NAME]\n",
    "        func_path = example_func_exec[FUNCTIONS_JSON_PROPERTIES_NAMES.FILE_PATH]\n",
    "        args_names = example_func_exec[FUNCTIONS_JSON_PROPERTIES_NAMES.ARGS_NAMES]\n",
    "\n",
    "        print('Вызов функции:', func_name, 'c аргументами', args_names)\n",
    "        func_in_func_creation_dic_key = get_key_in_func_creation_dict(func_name, example_func_exec[FUNCTIONS_JSON_PROPERTIES_NAMES.FILE_PATH])\n",
    "        print('Функция же была объявлена с словаре с аргументами:', func_creation_dic[func_in_func_creation_dic_key][FUNCTIONS_JSON_PROPERTIES_NAMES.ARGS_NAMES])\n",
    "\n",
    "        print(get_args_similarity(func_name, args_names, func_path, func_creation_dic, word2VecModel))\n",
    "        print('_________________________________________________')"
   ]
  },
  {
   "cell_type": "code",
   "execution_count": 15,
   "metadata": {},
   "outputs": [
    {
     "name": "stdout",
     "output_type": "stream",
     "text": [
      "Вызов функции: updateLine c аргументами ['lastLine', 'lastSpans', 'estimateHeight']\n",
      "Функция же была объявлена с словаре с аргументами: ['line', 'text', 'markedSpans', 'estimateHeight']\n",
      "[0.5346502, 0.07745093, 0.2053828]\n",
      "_________________________________________________\n"
     ]
    }
   ],
   "source": [
    "find_func_exec_and_compare_with_func_creation('updateLine')"
   ]
  },
  {
   "cell_type": "markdown",
   "metadata": {},
   "source": [
    "Хорошо видно, что был пропущен второй аргумент **text**"
   ]
  },
  {
   "cell_type": "code",
   "execution_count": 16,
   "metadata": {},
   "outputs": [
    {
     "data": {
      "text/plain": [
       "0.54370826"
      ]
     },
     "execution_count": 16,
     "metadata": {},
     "output_type": "execute_result"
    }
   ],
   "source": [
    "word2VecModel.wv.n_similarity(\n",
    "    ['lastLine', 'lastSpans', 'estimateHeight'],\n",
    "    ['line', 'text', 'markedSpans', 'estimateHeight']\n",
    ")"
   ]
  },
  {
   "cell_type": "markdown",
   "metadata": {},
   "source": [
    "другой пример"
   ]
  },
  {
   "cell_type": "code",
   "execution_count": 17,
   "metadata": {},
   "outputs": [
    {
     "name": "stdout",
     "output_type": "stream",
     "text": [
      "Вызов функции: windowSearch c аргументами ['strSelectorName', 'strTop', 'strLeft', 'strWindowName', 'parameters']\n",
      "Функция же была объявлена с словаре с аргументами: ['strPage', 'strHeight', 'strWidth', 'strTop', 'strLeft', 'strWindow', 'parameters', 'strValueID']\n",
      "[None, None, None, None, None]\n",
      "_________________________________________________\n",
      "Вызов функции: windowSearch c аргументами ['strSelectorName', 'strTop', 'strLeft', 'strWindowName', 'parameters', 'strValueID']\n",
      "Функция же была объявлена с словаре с аргументами: ['strPage', 'strHeight', 'strWidth', 'strTop', 'strLeft', 'strWindow', 'parameters', 'strValueID']\n",
      "[None, None, None, None, None, None]\n",
      "_________________________________________________\n"
     ]
    }
   ],
   "source": [
    "find_func_exec_and_compare_with_func_creation('windowSearch')"
   ]
  },
  {
   "cell_type": "markdown",
   "metadata": {},
   "source": [
    "# Реализация на всем массиве вызовов функции"
   ]
  },
  {
   "cell_type": "markdown",
   "metadata": {},
   "source": [
    "Идея максимально проста. Проходим по массиву вызовов функции.\n",
    "\n",
    "- По названию функции определяем в словаре с объявлениями функций, с какими названиями аргументов была объявлена эта функция\n",
    "- Для каждой пары аргументов (название аргумента в момент вызовы функции и название аргумента в момент объявление функции) считаем близость их названий в векторной форме с помощью уже построенной модели word2Vec (это будет значение 0 до 1)\n",
    "- Если эта схожесть меньше заданного порога (threshold), то выбрасываем предупреждение пользователю"
   ]
  },
  {
   "cell_type": "markdown",
   "metadata": {},
   "source": [
    "### Threshold"
   ]
  },
  {
   "cell_type": "code",
   "execution_count": 18,
   "metadata": {},
   "outputs": [],
   "source": [
    "MIN_SIMILARITY_THRESHOLD = 0.1"
   ]
  },
  {
   "cell_type": "markdown",
   "metadata": {},
   "source": [
    "Порог не должен быть большой, потому что модели важно достичь высокого precision, а не recall.\n",
    "\n",
    "Если наш алгоритм будет часто беспокоить пользователя по пустякам, предупреждая об ошибках там, где их нет (false positive), то нашим алгоритмом просто никто не будет пользоваться. Нужно беспокоить программиста только прям в самых вероятных случаях наличия ошибки. Ведь программисты люди ленивые и занятые... "
   ]
  },
  {
   "cell_type": "code",
   "execution_count": 20,
   "metadata": {},
   "outputs": [
    {
     "name": "stdout",
     "output_type": "stream",
     "text": [
      "В файле scripts/CrabDude/trycatch/lib/trycatch.js проверь:\n",
      "Была вызвана функция runInDomain с аргументами ['d', 'callback', 'trycatchit', 'arguments']\n",
      "Но вот объявлена функция была со следующими аргументами:\n",
      "['d', 'tryFn', 'trycatchitFn', 'that', 'args']\n",
      "[None, 0.02923808, None, 0.100881875]\n",
      "_____________\n",
      "В файле scripts/benatkin/codemirror/codemirror.js проверь:\n",
      "Была вызвана функция on с аргументами ['window', 'onResize']\n",
      "Но вот объявлена функция была со следующими аргументами:\n",
      "['emitter', 'type', 'f']\n",
      "[0.009067868, 0.13181098]\n",
      "_____________\n",
      "В файле scripts/benatkin/codemirror/codemirror.js проверь:\n",
      "Была вызвана функция shiftDoc с аргументами ['doc', 'shift']\n",
      "Но вот объявлена функция была со следующими аргументами:\n",
      "['doc', 'distance']\n",
      "[None, 0.09928816]\n",
      "_____________\n",
      "В файле scripts/benatkin/codemirror/codemirror.js проверь:\n",
      "Была вызвана функция updateLine с аргументами ['lastLine', 'lastSpans', 'estimateHeight']\n",
      "Но вот объявлена функция была со следующими аргументами:\n",
      "['line', 'text', 'markedSpans', 'estimateHeight']\n",
      "[0.5346502, 0.07745093, 0.2053828]\n",
      "_____________\n",
      "В файле scripts/benatkin/codemirror/codemirror.js проверь:\n",
      "Была вызвана функция attachLocalSpans с аргументами ['doc', 'histChange']\n",
      "Но вот объявлена функция была со следующими аргументами:\n",
      "['doc', 'change', 'from', 'to']\n",
      "[None, 0.030081231]\n",
      "_____________\n",
      "В файле scripts/blackberry/bbUI.js/samples/bb10/platforms/blackberry10/native/device/chrome/lib/policy/webkitOriginAccess.js проверь:\n",
      "Была вызвана функция addOriginAccessWhitelistEntry с аргументами ['source', 'destination']\n",
      "Но вот объявлена функция была со следующими аргументами:\n",
      "['webview', 'source', 'destination', 'allowSubDomains']\n",
      "[0.05416946, 0.5495482]\n",
      "_____________\n",
      "В файле scripts/bolinfest/plovr/closure/closure-library/closure/goog/dom/range_test.js проверь:\n",
      "Была вызвана функция assertForward с аргументами ['root', 'root']\n",
      "Но вот объявлена функция была со следующими аргументами:\n",
      "['string', 'startNode', 'startOffset', 'endNode', 'endOffset']\n",
      "[0.013639421, 0.3619853]\n",
      "_____________\n",
      "В файле scripts/bolinfest/plovr/closure/closure-library/closure/goog/dom/range_test.js проверь:\n",
      "Была вызвана функция assertForward с аргументами ['text1', 'text2']\n",
      "Но вот объявлена функция была со следующими аргументами:\n",
      "['string', 'startNode', 'startOffset', 'endNode', 'endOffset']\n",
      "[-0.017546998, 0.26411384]\n",
      "_____________\n",
      "В файле scripts/bolinfest/plovr/closure/closure-library/closure/goog/dom/range_test.js проверь:\n",
      "Была вызвана функция assertForward с аргументами ['text1', 'text2']\n",
      "Но вот объявлена функция была со следующими аргументами:\n",
      "['string', 'startNode', 'startOffset', 'endNode', 'endOffset']\n",
      "[-0.017546998, 0.26411384]\n",
      "_____________\n",
      "В файле scripts/bolinfest/plovr/closure/closure-library/closure/goog/dom/range_test.js проверь:\n",
      "Была вызвана функция assertForward с аргументами ['text1', 'br']\n",
      "Но вот объявлена функция была со следующими аргументами:\n",
      "['string', 'startNode', 'startOffset', 'endNode', 'endOffset']\n",
      "[-0.017546998, None]\n",
      "_____________\n",
      "В файле scripts/bolinfest/plovr/closure/closure-library/closure/goog/dom/range_test.js проверь:\n",
      "Была вызвана функция assertForward с аргументами ['root', 'br']\n",
      "Но вот объявлена функция была со следующими аргументами:\n",
      "['string', 'startNode', 'startOffset', 'endNode', 'endOffset']\n",
      "[0.013639421, None]\n",
      "_____________\n",
      "В файле scripts/bolinfest/plovr/closure/closure-library/closure/goog/dom/range_test.js проверь:\n",
      "Была вызвана функция assertForward с аргументами ['root', 'text1']\n",
      "Но вот объявлена функция была со следующими аргументами:\n",
      "['string', 'startNode', 'startOffset', 'endNode', 'endOffset']\n",
      "[0.013639421, 0.24548416]\n",
      "_____________\n",
      "В файле scripts/bolinfest/plovr/closure/closure-library/closure/goog/dom/range_test.js проверь:\n",
      "Была вызвана функция assertForward с аргументами ['text1', 'root']\n",
      "Но вот объявлена функция была со следующими аргументами:\n",
      "['string', 'startNode', 'startOffset', 'endNode', 'endOffset']\n",
      "[-0.017546998, 0.3619853]\n",
      "_____________\n",
      "В файле scripts/bolinfest/plovr/closure/closure-library/closure/goog/ui/keyboardshortcuthandler_test.js проверь:\n",
      "Была вызвана функция fire с аргументами ['undefined', 'target']\n",
      "Но вот объявлена функция была со следующими аргументами:\n",
      "['keycode', 'opt_extraProperties', 'opt_element']\n",
      "[0.044916313, None]\n",
      "_____________\n",
      "В файле scripts/bolinfest/plovr/closure/closure-library/closure/goog/ui/keyboardshortcuthandler_test.js проверь:\n",
      "Была вызвана функция fire с аргументами ['undefined', 'target']\n",
      "Но вот объявлена функция была со следующими аргументами:\n",
      "['keycode', 'opt_extraProperties', 'opt_element']\n",
      "[0.044916313, None]\n",
      "_____________\n",
      "В файле scripts/bolinfest/plovr/closure/closure-library/closure/goog/ui/keyboardshortcuthandler_test.js проверь:\n",
      "Была вызвана функция fire с аргументами ['undefined', 'target']\n",
      "Но вот объявлена функция была со следующими аргументами:\n",
      "['keycode', 'opt_extraProperties', 'opt_element']\n",
      "[0.044916313, None]\n",
      "_____________\n",
      "В файле scripts/bolinfest/plovr/closure/closure-library/closure/goog/ui/keyboardshortcuthandler_test.js проверь:\n",
      "Была вызвана функция fire с аргументами ['undefined', 'target']\n",
      "Но вот объявлена функция была со следующими аргументами:\n",
      "['keycode', 'opt_extraProperties', 'opt_element']\n",
      "[0.044916313, None]\n",
      "_____________\n",
      "В файле scripts/bpartridge/graphviz.js/graphviz.js проверь:\n",
      "Была вызвана функция _memcpy с аргументами ['temp', 'base']\n",
      "Но вот объявлена функция была со следующими аргументами:\n",
      "['dest', 'src', 'num', 'align']\n",
      "[0.08683241, None]\n",
      "_____________\n",
      "В файле scripts/ether/etherpad-lite/src/static/js/ace2_inner.js проверь:\n",
      "Была вызвана функция setClassPresence с аргументами ['root', 'doesWrap']\n",
      "Но вот объявлена функция была со следующими аргументами:\n",
      "['elem', 'className', 'present']\n",
      "[0.21000713, 0.09573882]\n",
      "_____________\n",
      "В файле scripts/exploringdata/exploringdata.github.com/js/worldbank.js проверь:\n",
      "Была вызвана функция renderMap с аргументами ['geo_data', 'year']\n",
      "Но вот объявлена функция была со следующими аргументами:\n",
      "['selector', 'geo_data', 'wb_data', 'year']\n",
      "[0.05943566, -0.038409445]\n",
      "_____________\n"
     ]
    }
   ],
   "source": [
    "for func_exec in func_exec_storage:\n",
    "    func_name = func_exec[FUNCTIONS_JSON_PROPERTIES_NAMES.FUNC_NAME]\n",
    "    args_names = func_exec[FUNCTIONS_JSON_PROPERTIES_NAMES.ARGS_NAMES]\n",
    "    func_path = func_exec[FUNCTIONS_JSON_PROPERTIES_NAMES.FILE_PATH]\n",
    "    \n",
    "    if len(args_names) < 2:\n",
    "        continue\n",
    "    \n",
    "    args_similarities = get_args_similarity(func_name, args_names, func_path, func_creation_dic, word2VecModel)\n",
    "    is_below_threshold_args_similarities = list(map(lambda x: x and x < MIN_SIMILARITY_THRESHOLD, args_similarities))\n",
    "    \n",
    "    if (any(is_below_threshold_args_similarities)):\n",
    "        print('В файле', func_path, 'проверь:')\n",
    "        print('Была вызвана функция', func_name, 'с аргументами', args_names)\n",
    "        print('Но вот объявлена функция была со следующими аргументами:')\n",
    "        print(func_creation_dic[get_key_in_func_creation_dict(func_name, func_path)][FUNCTIONS_JSON_PROPERTIES_NAMES.ARGS_NAMES])\n",
    "        print(args_similarities)\n",
    "        print('_____________')"
   ]
  },
  {
   "cell_type": "markdown",
   "metadata": {},
   "source": [
    "## Эксперименты с моделями"
   ]
  },
  {
   "cell_type": "markdown",
   "metadata": {},
   "source": [
    "### Трансформируем данные"
   ]
  },
  {
   "cell_type": "markdown",
   "metadata": {},
   "source": [
    "Оставим только функции, у которых 2 аргумента"
   ]
  },
  {
   "cell_type": "code",
   "execution_count": 24,
   "metadata": {},
   "outputs": [],
   "source": [
    "func_creation_dic_2_args = dict(\n",
    "    filter(lambda elem: len(elem[1][FUNCTIONS_JSON_PROPERTIES_NAMES.ARGS_NAMES]) == 2, func_creation_dic.items())\n",
    ")"
   ]
  },
  {
   "cell_type": "code",
   "execution_count": 25,
   "metadata": {},
   "outputs": [],
   "source": [
    "class TWO_ARGS_FUNC_COLUMNS:\n",
    "    FIRST_ARG = 'arg1'\n",
    "    SECOND_ARG = 'arg2'\n",
    "    FUNC_NAME = 'funcName'\n",
    "    TARGET = 'isBuggy'  # В верном ли порядке расставлены аргументы в функции"
   ]
  },
  {
   "cell_type": "code",
   "execution_count": 26,
   "metadata": {},
   "outputs": [
    {
     "name": "stdout",
     "output_type": "stream",
     "text": [
      "Количество строк: 3542\n"
     ]
    },
    {
     "data": {
      "text/html": [
       "<div>\n",
       "<style scoped>\n",
       "    .dataframe tbody tr th:only-of-type {\n",
       "        vertical-align: middle;\n",
       "    }\n",
       "\n",
       "    .dataframe tbody tr th {\n",
       "        vertical-align: top;\n",
       "    }\n",
       "\n",
       "    .dataframe thead th {\n",
       "        text-align: right;\n",
       "    }\n",
       "</style>\n",
       "<table border=\"1\" class=\"dataframe\">\n",
       "  <thead>\n",
       "    <tr style=\"text-align: right;\">\n",
       "      <th></th>\n",
       "      <th>arg1</th>\n",
       "      <th>arg2</th>\n",
       "      <th>funcName</th>\n",
       "      <th>isBuggy</th>\n",
       "    </tr>\n",
       "  </thead>\n",
       "  <tbody>\n",
       "    <tr>\n",
       "      <th>0</th>\n",
       "      <td>stringerName</td>\n",
       "      <td>alertData</td>\n",
       "      <td>onAlert</td>\n",
       "      <td>0</td>\n",
       "    </tr>\n",
       "    <tr>\n",
       "      <th>1</th>\n",
       "      <td>child</td>\n",
       "      <td>parent</td>\n",
       "      <td>extend</td>\n",
       "      <td>0</td>\n",
       "    </tr>\n",
       "    <tr>\n",
       "      <th>2</th>\n",
       "      <td>el</td>\n",
       "      <td>highlighter</td>\n",
       "      <td>doHighlight</td>\n",
       "      <td>0</td>\n",
       "    </tr>\n",
       "  </tbody>\n",
       "</table>\n",
       "</div>"
      ],
      "text/plain": [
       "           arg1         arg2     funcName  isBuggy\n",
       "0  stringerName    alertData      onAlert        0\n",
       "1         child       parent       extend        0\n",
       "2            el  highlighter  doHighlight        0"
      ]
     },
     "execution_count": 26,
     "metadata": {},
     "output_type": "execute_result"
    }
   ],
   "source": [
    "two_args_funcs = pd.DataFrame.from_dict(func_creation_dic_2_args, orient='index')\n",
    "two_args_funcs[[TWO_ARGS_FUNC_COLUMNS.FIRST_ARG, TWO_ARGS_FUNC_COLUMNS.SECOND_ARG]] = pd.DataFrame(\n",
    "    two_args_funcs.argumentsNames.tolist(), index=two_args_funcs.index\n",
    ")\n",
    "\n",
    "two_args_funcs[TWO_ARGS_FUNC_COLUMNS.FUNC_NAME] = list(\n",
    "    map(lambda rowName: get_func_name_from_key(rowName), two_args_funcs.index)\n",
    ")\n",
    "two_args_funcs.drop(['argumentsNames', 'filePath'], axis='columns', inplace=True)\n",
    "two_args_funcs[TWO_ARGS_FUNC_COLUMNS.TARGET] = 0\n",
    "\n",
    "two_args_funcs.reset_index(inplace=True, drop=True)\n",
    "\n",
    "print('Количество строк:', len(two_args_funcs))\n",
    "two_args_funcs.head(3)"
   ]
  },
  {
   "cell_type": "markdown",
   "metadata": {},
   "source": [
    "Меняем местами аргументами и добавляем эти строчки как isBuggy = 1\n",
    "\n",
    "(то есть получим 50% одного класса и 50% другого класса)"
   ]
  },
  {
   "cell_type": "code",
   "execution_count": 27,
   "metadata": {},
   "outputs": [
    {
     "data": {
      "application/vnd.jupyter.widget-view+json": {
       "model_id": "30e311da15bb4b999df7d07afcc1d7eb",
       "version_major": 2,
       "version_minor": 0
      },
      "text/plain": [
       "HBox(children=(FloatProgress(value=0.0, max=3542.0), HTML(value='')))"
      ]
     },
     "metadata": {},
     "output_type": "display_data"
    },
    {
     "name": "stdout",
     "output_type": "stream",
     "text": [
      "\n"
     ]
    }
   ],
   "source": [
    "buggy_code_rows = []\n",
    "\n",
    "for rowIndex in tqdm(range(len(two_args_funcs))):\n",
    "    new_row = {\n",
    "        TWO_ARGS_FUNC_COLUMNS.FUNC_NAME: two_args_funcs.loc[rowIndex, TWO_ARGS_FUNC_COLUMNS.FUNC_NAME],\n",
    "        TWO_ARGS_FUNC_COLUMNS.FIRST_ARG: two_args_funcs.loc[rowIndex, TWO_ARGS_FUNC_COLUMNS.SECOND_ARG],\n",
    "        TWO_ARGS_FUNC_COLUMNS.SECOND_ARG: two_args_funcs.loc[rowIndex, TWO_ARGS_FUNC_COLUMNS.FIRST_ARG],\n",
    "        TWO_ARGS_FUNC_COLUMNS.TARGET: 1\n",
    "    }\n",
    "    buggy_code_rows.append(new_row)\n",
    "\n",
    "two_args_funcs = two_args_funcs.append(pd.DataFrame(buggy_code_rows)).reset_index(drop=True)"
   ]
  },
  {
   "cell_type": "code",
   "execution_count": 28,
   "metadata": {},
   "outputs": [
    {
     "name": "stdout",
     "output_type": "stream",
     "text": [
      "Количество строк: 7084\n"
     ]
    },
    {
     "data": {
      "text/html": [
       "<div>\n",
       "<style scoped>\n",
       "    .dataframe tbody tr th:only-of-type {\n",
       "        vertical-align: middle;\n",
       "    }\n",
       "\n",
       "    .dataframe tbody tr th {\n",
       "        vertical-align: top;\n",
       "    }\n",
       "\n",
       "    .dataframe thead th {\n",
       "        text-align: right;\n",
       "    }\n",
       "</style>\n",
       "<table border=\"1\" class=\"dataframe\">\n",
       "  <thead>\n",
       "    <tr style=\"text-align: right;\">\n",
       "      <th></th>\n",
       "      <th>arg1</th>\n",
       "      <th>arg2</th>\n",
       "      <th>funcName</th>\n",
       "      <th>isBuggy</th>\n",
       "    </tr>\n",
       "  </thead>\n",
       "  <tbody>\n",
       "    <tr>\n",
       "      <th>7081</th>\n",
       "      <td>metric</td>\n",
       "      <td>paramGroup</td>\n",
       "      <td>getParamValueFromPath</td>\n",
       "      <td>1</td>\n",
       "    </tr>\n",
       "    <tr>\n",
       "      <th>7082</th>\n",
       "      <td>metric</td>\n",
       "      <td>paramGroup</td>\n",
       "      <td>applyRegexToName</td>\n",
       "      <td>1</td>\n",
       "    </tr>\n",
       "    <tr>\n",
       "      <th>7083</th>\n",
       "      <td>data</td>\n",
       "      <td>target</td>\n",
       "      <td>renderExtendedGraph</td>\n",
       "      <td>1</td>\n",
       "    </tr>\n",
       "  </tbody>\n",
       "</table>\n",
       "</div>"
      ],
      "text/plain": [
       "        arg1        arg2               funcName  isBuggy\n",
       "7081  metric  paramGroup  getParamValueFromPath        1\n",
       "7082  metric  paramGroup       applyRegexToName        1\n",
       "7083    data      target    renderExtendedGraph        1"
      ]
     },
     "execution_count": 28,
     "metadata": {},
     "output_type": "execute_result"
    }
   ],
   "source": [
    "print('Количество строк:', len(two_args_funcs))\n",
    "two_args_funcs.tail(3)"
   ]
  },
  {
   "cell_type": "markdown",
   "metadata": {},
   "source": [
    "Теперь заменяем слова на их векторное представление из word2Vec.\n",
    "\n",
    "Если например, каждое слово представлено в модели word2Vec как вектор из 300 значений, то название функции + 2 аргумента + 1 целевая перееменная (isBuggy) = 901 переменная в датасете"
   ]
  },
  {
   "cell_type": "code",
   "execution_count": 29,
   "metadata": {},
   "outputs": [],
   "source": [
    "def replace_string_column_with_vectors(pd_df, columnName, word2VecVocabulary = word2VecModel.wv):\n",
    "    DEFAULT_VALUE_IF_NOT_EXITS_IN_WORD2VEC = '0'\n",
    "    \n",
    "    vector_size = len(word2VecVocabulary[DEFAULT_VALUE_IF_NOT_EXITS_IN_WORD2VEC])\n",
    "    \n",
    "    future_columns_names = []\n",
    "    \n",
    "    vectorized_df = pd.DataFrame()\n",
    "    \n",
    "    for i in range(vector_size):\n",
    "        future_columns_names.append(columnName + str(i))\n",
    "    \n",
    "    for rowIndex in tqdm(range(len(pd_df))):\n",
    "        word = pd_df.loc[rowIndex, columnName]\n",
    "        \n",
    "        if not checkIfWordInWord2VecDict(word, word2VecVocabulary):\n",
    "            #word = DEFAULT_VALUE_IF_NOT_EXITS_IN_WORD2VEC\n",
    "            newColumnsDf = pd.DataFrame(np.array([None] * vector_size).reshape(-1, vector_size), columns = future_columns_names)\n",
    "        else:\n",
    "            newColumnsDf = pd.DataFrame(\n",
    "                word2VecVocabulary[word].reshape(-1, len(word2VecVocabulary[word])), columns = future_columns_names\n",
    "            )\n",
    "   \n",
    "        vectorized_df = vectorized_df.append(newColumnsDf)\n",
    "    \n",
    "    return pd.concat([pd_df, vectorized_df.reset_index(drop=True)], axis=1)"
   ]
  },
  {
   "cell_type": "code",
   "execution_count": 30,
   "metadata": {},
   "outputs": [
    {
     "data": {
      "application/vnd.jupyter.widget-view+json": {
       "model_id": "75057f2abe4744ee96377a9689134a4c",
       "version_major": 2,
       "version_minor": 0
      },
      "text/plain": [
       "HBox(children=(FloatProgress(value=0.0, max=7084.0), HTML(value='')))"
      ]
     },
     "metadata": {},
     "output_type": "display_data"
    },
    {
     "name": "stdout",
     "output_type": "stream",
     "text": [
      "\n"
     ]
    },
    {
     "data": {
      "application/vnd.jupyter.widget-view+json": {
       "model_id": "f95e4258774d4d2985e9be10d26ecbdc",
       "version_major": 2,
       "version_minor": 0
      },
      "text/plain": [
       "HBox(children=(FloatProgress(value=0.0, max=7084.0), HTML(value='')))"
      ]
     },
     "metadata": {},
     "output_type": "display_data"
    },
    {
     "name": "stdout",
     "output_type": "stream",
     "text": [
      "\n"
     ]
    },
    {
     "data": {
      "application/vnd.jupyter.widget-view+json": {
       "model_id": "63c39c84345a43d580b62dbab475d819",
       "version_major": 2,
       "version_minor": 0
      },
      "text/plain": [
       "HBox(children=(FloatProgress(value=0.0, max=7084.0), HTML(value='')))"
      ]
     },
     "metadata": {},
     "output_type": "display_data"
    },
    {
     "name": "stdout",
     "output_type": "stream",
     "text": [
      "\n"
     ]
    }
   ],
   "source": [
    "two_args_funcs = replace_string_column_with_vectors(two_args_funcs, TWO_ARGS_FUNC_COLUMNS.FIRST_ARG, word2VecModel.wv)\n",
    "two_args_funcs = replace_string_column_with_vectors(two_args_funcs, TWO_ARGS_FUNC_COLUMNS.SECOND_ARG, word2VecModel.wv)\n",
    "two_args_funcs = replace_string_column_with_vectors(two_args_funcs, TWO_ARGS_FUNC_COLUMNS.FUNC_NAME, word2VecModel.wv)\n",
    "\n",
    "two_args_funcs = two_args_funcs.drop(\n",
    "    [TWO_ARGS_FUNC_COLUMNS.FIRST_ARG, TWO_ARGS_FUNC_COLUMNS.SECOND_ARG, TWO_ARGS_FUNC_COLUMNS.FUNC_NAME],\n",
    "    axis=1\n",
    ")"
   ]
  },
  {
   "cell_type": "code",
   "execution_count": 31,
   "metadata": {},
   "outputs": [],
   "source": [
    "two_args_funcs = two_args_funcs.dropna().reset_index(drop=True)"
   ]
  },
  {
   "cell_type": "code",
   "execution_count": 32,
   "metadata": {},
   "outputs": [
    {
     "data": {
      "text/plain": [
       "2106"
      ]
     },
     "execution_count": 32,
     "metadata": {},
     "output_type": "execute_result"
    }
   ],
   "source": [
    "len(two_args_funcs)"
   ]
  },
  {
   "cell_type": "markdown",
   "metadata": {},
   "source": [
    "### Обучаем"
   ]
  },
  {
   "cell_type": "markdown",
   "metadata": {},
   "source": [
    "Кормим это дело модели"
   ]
  },
  {
   "cell_type": "code",
   "execution_count": 33,
   "metadata": {},
   "outputs": [],
   "source": [
    "y = np.array(two_args_funcs[TWO_ARGS_FUNC_COLUMNS.TARGET])\n",
    "\n",
    "X = two_args_funcs.drop(TWO_ARGS_FUNC_COLUMNS.TARGET, axis = 1)"
   ]
  },
  {
   "cell_type": "code",
   "execution_count": 38,
   "metadata": {},
   "outputs": [],
   "source": [
    "from sklearn.ensemble import RandomForestClassifier\n",
    "\n",
    "rf = RandomForestClassifier(n_estimators = 1000, random_state = 27)\n",
    "\n",
    "rf.fit(X, y);"
   ]
  },
  {
   "cell_type": "markdown",
   "metadata": {},
   "source": [
    "### Проверяем на обучающей"
   ]
  },
  {
   "cell_type": "code",
   "execution_count": 39,
   "metadata": {},
   "outputs": [
    {
     "name": "stdout",
     "output_type": "stream",
     "text": [
      "accuracy: 1.0\n",
      "recall: 1.0\n",
      "precision: 1.0\n"
     ]
    }
   ],
   "source": [
    "from sklearn import metrics\n",
    "\n",
    "y_train_pred = rf.predict(X)\n",
    "print('accuracy:', metrics.accuracy_score(y, y_train_pred))\n",
    "print('recall:', metrics.recall_score(y, y_train_pred))\n",
    "print('precision:', metrics.precision_score(y, y_train_pred))"
   ]
  },
  {
   "cell_type": "markdown",
   "metadata": {},
   "source": [
    "### Проверяем на тестовой выборке"
   ]
  },
  {
   "cell_type": "markdown",
   "metadata": {},
   "source": [
    "Формируем тестовую выборку из массива с вызовами функциями"
   ]
  },
  {
   "cell_type": "markdown",
   "metadata": {},
   "source": [
    "Вновь фильтруем только функции с 2 аргументами"
   ]
  },
  {
   "cell_type": "code",
   "execution_count": 40,
   "metadata": {},
   "outputs": [],
   "source": [
    "func_exec_storage_all = find_all_func_executions(functions_storage_dictionary, func_creation_dic, False)\n",
    "\n",
    "func_exec_storage_2_args = list(filter(lambda func: len(func[FUNCTIONS_JSON_PROPERTIES_NAMES.ARGS_NAMES]) == 2, func_exec_storage_all))"
   ]
  },
  {
   "cell_type": "markdown",
   "metadata": {},
   "source": [
    "превращаем в датафрейм"
   ]
  },
  {
   "cell_type": "code",
   "execution_count": 41,
   "metadata": {},
   "outputs": [],
   "source": [
    "func_exec_2_args_df = pd.DataFrame(func_exec_storage_2_args)\n",
    "\n",
    "func_exec_2_args_df = func_exec_2_args_df.rename(\n",
    "    columns={FUNCTIONS_JSON_PROPERTIES_NAMES.FUNC_NAME: TWO_ARGS_FUNC_COLUMNS.FUNC_NAME}\n",
    ")\n",
    "\n",
    "func_exec_2_args_df[[TWO_ARGS_FUNC_COLUMNS.FIRST_ARG, TWO_ARGS_FUNC_COLUMNS.SECOND_ARG]] = pd.DataFrame(\n",
    "    func_exec_2_args_df[FUNCTIONS_JSON_PROPERTIES_NAMES.ARGS_NAMES].tolist(), index=func_exec_2_args_df.index\n",
    ")\n",
    "\n",
    "func_exec_2_args_df = func_exec_2_args_df.drop([\n",
    "    FUNCTIONS_JSON_PROPERTIES_NAMES.FUNC_TYPE,\n",
    "    FUNCTIONS_JSON_PROPERTIES_NAMES.ARGS_NAMES\n",
    "], axis='columns')"
   ]
  },
  {
   "cell_type": "code",
   "execution_count": 42,
   "metadata": {},
   "outputs": [
    {
     "data": {
      "text/html": [
       "<div>\n",
       "<style scoped>\n",
       "    .dataframe tbody tr th:only-of-type {\n",
       "        vertical-align: middle;\n",
       "    }\n",
       "\n",
       "    .dataframe tbody tr th {\n",
       "        vertical-align: top;\n",
       "    }\n",
       "\n",
       "    .dataframe thead th {\n",
       "        text-align: right;\n",
       "    }\n",
       "</style>\n",
       "<table border=\"1\" class=\"dataframe\">\n",
       "  <thead>\n",
       "    <tr style=\"text-align: right;\">\n",
       "      <th></th>\n",
       "      <th>funcName</th>\n",
       "      <th>filePath</th>\n",
       "      <th>arg1</th>\n",
       "      <th>arg2</th>\n",
       "    </tr>\n",
       "  </thead>\n",
       "  <tbody>\n",
       "    <tr>\n",
       "      <th>0</th>\n",
       "      <td>sendAlert</td>\n",
       "      <td>scripts/BBC-News-Labs/datastringer/datastringe...</td>\n",
       "      <td>stringerName</td>\n",
       "      <td>alertData</td>\n",
       "    </tr>\n",
       "    <tr>\n",
       "      <th>1</th>\n",
       "      <td>insertBefore</td>\n",
       "      <td>scripts/BaiduFE/Tangram-tools/codesearch/stati...</td>\n",
       "      <td>div</td>\n",
       "      <td>el</td>\n",
       "    </tr>\n",
       "    <tr>\n",
       "      <th>2</th>\n",
       "      <td></td>\n",
       "      <td>scripts/BeamNG/ui/js/spectrum.js</td>\n",
       "      <td>window</td>\n",
       "      <td>jQuery</td>\n",
       "    </tr>\n",
       "  </tbody>\n",
       "</table>\n",
       "</div>"
      ],
      "text/plain": [
       "       funcName                                           filePath  \\\n",
       "0     sendAlert  scripts/BBC-News-Labs/datastringer/datastringe...   \n",
       "1  insertBefore  scripts/BaiduFE/Tangram-tools/codesearch/stati...   \n",
       "2                                 scripts/BeamNG/ui/js/spectrum.js   \n",
       "\n",
       "           arg1       arg2  \n",
       "0  stringerName  alertData  \n",
       "1           div         el  \n",
       "2        window     jQuery  "
      ]
     },
     "execution_count": 42,
     "metadata": {},
     "output_type": "execute_result"
    }
   ],
   "source": [
    "func_exec_2_args_df.head(3)"
   ]
  },
  {
   "cell_type": "markdown",
   "metadata": {},
   "source": [
    "векторизуем перемененные "
   ]
  },
  {
   "cell_type": "code",
   "execution_count": 43,
   "metadata": {},
   "outputs": [
    {
     "data": {
      "application/vnd.jupyter.widget-view+json": {
       "model_id": "51ec516eaee04e04a3c51461e05e9a02",
       "version_major": 2,
       "version_minor": 0
      },
      "text/plain": [
       "HBox(children=(FloatProgress(value=0.0, max=1708.0), HTML(value='')))"
      ]
     },
     "metadata": {},
     "output_type": "display_data"
    },
    {
     "name": "stdout",
     "output_type": "stream",
     "text": [
      "\n"
     ]
    },
    {
     "data": {
      "application/vnd.jupyter.widget-view+json": {
       "model_id": "a5724e87b317469caee9164b7892751d",
       "version_major": 2,
       "version_minor": 0
      },
      "text/plain": [
       "HBox(children=(FloatProgress(value=0.0, max=1708.0), HTML(value='')))"
      ]
     },
     "metadata": {},
     "output_type": "display_data"
    },
    {
     "name": "stdout",
     "output_type": "stream",
     "text": [
      "\n"
     ]
    },
    {
     "data": {
      "application/vnd.jupyter.widget-view+json": {
       "model_id": "8ff6033de6fa4df68d8db3c002e9e94f",
       "version_major": 2,
       "version_minor": 0
      },
      "text/plain": [
       "HBox(children=(FloatProgress(value=0.0, max=1708.0), HTML(value='')))"
      ]
     },
     "metadata": {},
     "output_type": "display_data"
    },
    {
     "name": "stdout",
     "output_type": "stream",
     "text": [
      "\n"
     ]
    }
   ],
   "source": [
    "func_exec_2_args_df = replace_string_column_with_vectors(func_exec_2_args_df, TWO_ARGS_FUNC_COLUMNS.FIRST_ARG, word2VecModel.wv)\n",
    "func_exec_2_args_df = replace_string_column_with_vectors(func_exec_2_args_df, TWO_ARGS_FUNC_COLUMNS.SECOND_ARG, word2VecModel.wv)\n",
    "func_exec_2_args_df = replace_string_column_with_vectors(func_exec_2_args_df, TWO_ARGS_FUNC_COLUMNS.FUNC_NAME, word2VecModel.wv)\n",
    "\n",
    "func_exec_2_args_df = func_exec_2_args_df.dropna()\n",
    "\n",
    "INFO_COLUMNS = [FUNCTIONS_JSON_PROPERTIES_NAMES.FILE_PATH, TWO_ARGS_FUNC_COLUMNS.FIRST_ARG, TWO_ARGS_FUNC_COLUMNS.SECOND_ARG, TWO_ARGS_FUNC_COLUMNS.FUNC_NAME]\n",
    "\n",
    "test_2_args_exec_df = func_exec_2_args_df.drop(\n",
    "    INFO_COLUMNS,\n",
    "    axis='columns'\n",
    ")\n",
    "\n",
    "func_exec_2_args_df = func_exec_2_args_df[INFO_COLUMNS]"
   ]
  },
  {
   "cell_type": "code",
   "execution_count": 44,
   "metadata": {},
   "outputs": [
    {
     "data": {
      "text/html": [
       "<div>\n",
       "<style scoped>\n",
       "    .dataframe tbody tr th:only-of-type {\n",
       "        vertical-align: middle;\n",
       "    }\n",
       "\n",
       "    .dataframe tbody tr th {\n",
       "        vertical-align: top;\n",
       "    }\n",
       "\n",
       "    .dataframe thead th {\n",
       "        text-align: right;\n",
       "    }\n",
       "</style>\n",
       "<table border=\"1\" class=\"dataframe\">\n",
       "  <thead>\n",
       "    <tr style=\"text-align: right;\">\n",
       "      <th></th>\n",
       "      <th>filePath</th>\n",
       "      <th>arg1</th>\n",
       "      <th>arg2</th>\n",
       "      <th>funcName</th>\n",
       "    </tr>\n",
       "  </thead>\n",
       "  <tbody>\n",
       "    <tr>\n",
       "      <th>1</th>\n",
       "      <td>scripts/BaiduFE/Tangram-tools/codesearch/stati...</td>\n",
       "      <td>div</td>\n",
       "      <td>el</td>\n",
       "      <td>insertBefore</td>\n",
       "    </tr>\n",
       "    <tr>\n",
       "      <th>3</th>\n",
       "      <td>scripts/Benvie/continuum/engine/builtins/@json.js</td>\n",
       "      <td>stack</td>\n",
       "      <td>value</td>\n",
       "      <td>add</td>\n",
       "    </tr>\n",
       "    <tr>\n",
       "      <th>4</th>\n",
       "      <td>scripts/Benvie/continuum/experimental/op-codeg...</td>\n",
       "      <td>NumericType</td>\n",
       "      <td>Type</td>\n",
       "      <td>inherit</td>\n",
       "    </tr>\n",
       "  </tbody>\n",
       "</table>\n",
       "</div>"
      ],
      "text/plain": [
       "                                            filePath         arg1   arg2  \\\n",
       "1  scripts/BaiduFE/Tangram-tools/codesearch/stati...          div     el   \n",
       "3  scripts/Benvie/continuum/engine/builtins/@json.js        stack  value   \n",
       "4  scripts/Benvie/continuum/experimental/op-codeg...  NumericType   Type   \n",
       "\n",
       "       funcName  \n",
       "1  insertBefore  \n",
       "3           add  \n",
       "4       inherit  "
      ]
     },
     "execution_count": 44,
     "metadata": {},
     "output_type": "execute_result"
    }
   ],
   "source": [
    "func_exec_2_args_df.head(3)"
   ]
  },
  {
   "cell_type": "code",
   "execution_count": 45,
   "metadata": {},
   "outputs": [
    {
     "data": {
      "text/html": [
       "<div>\n",
       "<style scoped>\n",
       "    .dataframe tbody tr th:only-of-type {\n",
       "        vertical-align: middle;\n",
       "    }\n",
       "\n",
       "    .dataframe tbody tr th {\n",
       "        vertical-align: top;\n",
       "    }\n",
       "\n",
       "    .dataframe thead th {\n",
       "        text-align: right;\n",
       "    }\n",
       "</style>\n",
       "<table border=\"1\" class=\"dataframe\">\n",
       "  <thead>\n",
       "    <tr style=\"text-align: right;\">\n",
       "      <th></th>\n",
       "      <th>arg10</th>\n",
       "      <th>arg11</th>\n",
       "      <th>arg12</th>\n",
       "      <th>arg13</th>\n",
       "      <th>arg14</th>\n",
       "      <th>arg15</th>\n",
       "      <th>arg16</th>\n",
       "      <th>arg17</th>\n",
       "      <th>arg18</th>\n",
       "      <th>arg19</th>\n",
       "      <th>...</th>\n",
       "      <th>funcName290</th>\n",
       "      <th>funcName291</th>\n",
       "      <th>funcName292</th>\n",
       "      <th>funcName293</th>\n",
       "      <th>funcName294</th>\n",
       "      <th>funcName295</th>\n",
       "      <th>funcName296</th>\n",
       "      <th>funcName297</th>\n",
       "      <th>funcName298</th>\n",
       "      <th>funcName299</th>\n",
       "    </tr>\n",
       "  </thead>\n",
       "  <tbody>\n",
       "    <tr>\n",
       "      <th>1</th>\n",
       "      <td>0.418527</td>\n",
       "      <td>-0.782134</td>\n",
       "      <td>-0.172610</td>\n",
       "      <td>-0.188749</td>\n",
       "      <td>0.529968</td>\n",
       "      <td>-0.248085</td>\n",
       "      <td>0.155587</td>\n",
       "      <td>-0.309018</td>\n",
       "      <td>-0.161667</td>\n",
       "      <td>-2.033171</td>\n",
       "      <td>...</td>\n",
       "      <td>0.329977</td>\n",
       "      <td>-0.127505</td>\n",
       "      <td>-0.455054</td>\n",
       "      <td>0.775872</td>\n",
       "      <td>0.874619</td>\n",
       "      <td>0.964876</td>\n",
       "      <td>1.776141</td>\n",
       "      <td>-0.925322</td>\n",
       "      <td>0.205673</td>\n",
       "      <td>0.772280</td>\n",
       "    </tr>\n",
       "    <tr>\n",
       "      <th>3</th>\n",
       "      <td>1.466295</td>\n",
       "      <td>-0.184140</td>\n",
       "      <td>0.046355</td>\n",
       "      <td>0.007575</td>\n",
       "      <td>-1.404574</td>\n",
       "      <td>-0.440640</td>\n",
       "      <td>-0.149812</td>\n",
       "      <td>-0.461360</td>\n",
       "      <td>-0.410702</td>\n",
       "      <td>1.011593</td>\n",
       "      <td>...</td>\n",
       "      <td>1.865672</td>\n",
       "      <td>-0.920375</td>\n",
       "      <td>0.599666</td>\n",
       "      <td>-0.561325</td>\n",
       "      <td>0.783871</td>\n",
       "      <td>0.793218</td>\n",
       "      <td>-1.006242</td>\n",
       "      <td>-2.242114</td>\n",
       "      <td>2.251523</td>\n",
       "      <td>-0.479689</td>\n",
       "    </tr>\n",
       "    <tr>\n",
       "      <th>4</th>\n",
       "      <td>-0.122099</td>\n",
       "      <td>0.148587</td>\n",
       "      <td>0.250851</td>\n",
       "      <td>0.058385</td>\n",
       "      <td>0.254891</td>\n",
       "      <td>-0.150741</td>\n",
       "      <td>0.144042</td>\n",
       "      <td>-0.132614</td>\n",
       "      <td>-0.179175</td>\n",
       "      <td>0.080721</td>\n",
       "      <td>...</td>\n",
       "      <td>0.606200</td>\n",
       "      <td>0.075074</td>\n",
       "      <td>-0.197589</td>\n",
       "      <td>0.645697</td>\n",
       "      <td>-0.195098</td>\n",
       "      <td>-1.722320</td>\n",
       "      <td>-1.270117</td>\n",
       "      <td>-0.466858</td>\n",
       "      <td>0.650322</td>\n",
       "      <td>-0.732243</td>\n",
       "    </tr>\n",
       "  </tbody>\n",
       "</table>\n",
       "<p>3 rows × 900 columns</p>\n",
       "</div>"
      ],
      "text/plain": [
       "      arg10     arg11     arg12     arg13     arg14     arg15     arg16  \\\n",
       "1  0.418527 -0.782134 -0.172610 -0.188749  0.529968 -0.248085  0.155587   \n",
       "3  1.466295 -0.184140  0.046355  0.007575 -1.404574 -0.440640 -0.149812   \n",
       "4 -0.122099  0.148587  0.250851  0.058385  0.254891 -0.150741  0.144042   \n",
       "\n",
       "      arg17     arg18     arg19  ...  funcName290  funcName291  funcName292  \\\n",
       "1 -0.309018 -0.161667 -2.033171  ...     0.329977    -0.127505    -0.455054   \n",
       "3 -0.461360 -0.410702  1.011593  ...     1.865672    -0.920375     0.599666   \n",
       "4 -0.132614 -0.179175  0.080721  ...     0.606200     0.075074    -0.197589   \n",
       "\n",
       "   funcName293  funcName294  funcName295  funcName296  funcName297  \\\n",
       "1     0.775872     0.874619     0.964876     1.776141    -0.925322   \n",
       "3    -0.561325     0.783871     0.793218    -1.006242    -2.242114   \n",
       "4     0.645697    -0.195098    -1.722320    -1.270117    -0.466858   \n",
       "\n",
       "   funcName298  funcName299  \n",
       "1     0.205673     0.772280  \n",
       "3     2.251523    -0.479689  \n",
       "4     0.650322    -0.732243  \n",
       "\n",
       "[3 rows x 900 columns]"
      ]
     },
     "execution_count": 45,
     "metadata": {},
     "output_type": "execute_result"
    }
   ],
   "source": [
    "test_2_args_exec_df.head(3)"
   ]
  },
  {
   "cell_type": "code",
   "execution_count": 46,
   "metadata": {},
   "outputs": [],
   "source": [
    "PRED_PROB_COLUMN = TWO_ARGS_FUNC_COLUMNS.TARGET + '_pred'\n",
    "\n",
    "func_exec_2_args_df[PRED_PROB_COLUMN] = list(map(lambda x: x[1], rf.predict_proba(test_2_args_exec_df) ))"
   ]
  },
  {
   "cell_type": "markdown",
   "metadata": {},
   "source": [
    "Посмотрим, как распределены вероятности уверенности модели, что конкретный вызов функции - баг."
   ]
  },
  {
   "cell_type": "code",
   "execution_count": 47,
   "metadata": {
    "scrolled": false
   },
   "outputs": [
    {
     "data": {
      "image/png": "[encoded data removed]",
      "text/plain": [
       "<Figure size 842.4x595.44 with 1 Axes>"
      ]
     },
     "metadata": {},
     "output_type": "display_data"
    }
   ],
   "source": [
    "import seaborn as sns\n",
    "sns.set(color_codes=True, rc={'figure.figsize':(11.7,8.27)})\n",
    "\n",
    "sns.distplot(func_exec_2_args_df[PRED_PROB_COLUMN]);"
   ]
  },
  {
   "cell_type": "markdown",
   "metadata": {},
   "source": [
    "Нам важно, что было была высокая precision (пусть даже и при низком recall). То есть мы не хотим докучать разработчика лишними false positives (нашей моделью тогда просто никто не будет пользоваться)"
   ]
  },
  {
   "cell_type": "code",
   "execution_count": 50,
   "metadata": {},
   "outputs": [
    {
     "data": {
      "text/html": [
       "<div>\n",
       "<style scoped>\n",
       "    .dataframe tbody tr th:only-of-type {\n",
       "        vertical-align: middle;\n",
       "    }\n",
       "\n",
       "    .dataframe tbody tr th {\n",
       "        vertical-align: top;\n",
       "    }\n",
       "\n",
       "    .dataframe thead th {\n",
       "        text-align: right;\n",
       "    }\n",
       "</style>\n",
       "<table border=\"1\" class=\"dataframe\">\n",
       "  <thead>\n",
       "    <tr style=\"text-align: right;\">\n",
       "      <th></th>\n",
       "      <th>filePath</th>\n",
       "      <th>arg1</th>\n",
       "      <th>arg2</th>\n",
       "      <th>funcName</th>\n",
       "      <th>isBuggy_pred</th>\n",
       "    </tr>\n",
       "  </thead>\n",
       "  <tbody>\n",
       "    <tr>\n",
       "      <th>117</th>\n",
       "      <td>scripts/DemandCube/NeverwinterDP/src/app/jscri...</td>\n",
       "      <td>jsFile</td>\n",
       "      <td>desc</td>\n",
       "      <td>submitRingBearerJob</td>\n",
       "      <td>0.750</td>\n",
       "    </tr>\n",
       "    <tr>\n",
       "      <th>125</th>\n",
       "      <td>scripts/Donkil/Dualx/scripts/bot.js</td>\n",
       "      <td>method</td>\n",
       "      <td>url</td>\n",
       "      <td>open</td>\n",
       "      <td>0.720</td>\n",
       "    </tr>\n",
       "    <tr>\n",
       "      <th>546</th>\n",
       "      <td>scripts/bolinfest/plovr/closure/closure-librar...</td>\n",
       "      <td>parent</td>\n",
       "      <td>child</td>\n",
       "      <td>assertNotEquals</td>\n",
       "      <td>0.911</td>\n",
       "    </tr>\n",
       "    <tr>\n",
       "      <th>886</th>\n",
       "      <td>scripts/cainus/node-coveralls/test/getOptions.js</td>\n",
       "      <td>gitHead</td>\n",
       "      <td>id</td>\n",
       "      <td>writeFileSync</td>\n",
       "      <td>0.722</td>\n",
       "    </tr>\n",
       "    <tr>\n",
       "      <th>903</th>\n",
       "      <td>scripts/carsonmcdonald/direct-browser-s3-uploa...</td>\n",
       "      <td>method</td>\n",
       "      <td>url</td>\n",
       "      <td>open</td>\n",
       "      <td>0.720</td>\n",
       "    </tr>\n",
       "    <tr>\n",
       "      <th>930</th>\n",
       "      <td>scripts/chenzhiwei/chrome-markdown-editor/js/e...</td>\n",
       "      <td>blob</td>\n",
       "      <td>name</td>\n",
       "      <td>saveAs</td>\n",
       "      <td>0.755</td>\n",
       "    </tr>\n",
       "    <tr>\n",
       "      <th>1563</th>\n",
       "      <td>scripts/driverdan/node-XMLHttpRequest/tests/te...</td>\n",
       "      <td>method</td>\n",
       "      <td>url</td>\n",
       "      <td>open</td>\n",
       "      <td>0.720</td>\n",
       "    </tr>\n",
       "  </tbody>\n",
       "</table>\n",
       "</div>"
      ],
      "text/plain": [
       "                                               filePath     arg1   arg2  \\\n",
       "117   scripts/DemandCube/NeverwinterDP/src/app/jscri...   jsFile   desc   \n",
       "125                 scripts/Donkil/Dualx/scripts/bot.js   method    url   \n",
       "546   scripts/bolinfest/plovr/closure/closure-librar...   parent  child   \n",
       "886    scripts/cainus/node-coveralls/test/getOptions.js  gitHead     id   \n",
       "903   scripts/carsonmcdonald/direct-browser-s3-uploa...   method    url   \n",
       "930   scripts/chenzhiwei/chrome-markdown-editor/js/e...     blob   name   \n",
       "1563  scripts/driverdan/node-XMLHttpRequest/tests/te...   method    url   \n",
       "\n",
       "                 funcName  isBuggy_pred  \n",
       "117   submitRingBearerJob         0.750  \n",
       "125                  open         0.720  \n",
       "546       assertNotEquals         0.911  \n",
       "886         writeFileSync         0.722  \n",
       "903                  open         0.720  \n",
       "930                saveAs         0.755  \n",
       "1563                 open         0.720  "
      ]
     },
     "execution_count": 50,
     "metadata": {},
     "output_type": "execute_result"
    }
   ],
   "source": [
    "pd.set_option('display.max_rows', 500)\n",
    "\n",
    "func_exec_2_args_df[func_exec_2_args_df[PRED_PROB_COLUMN] >= 0.7]"
   ]
  },
  {
   "cell_type": "markdown",
   "metadata": {},
   "source": [
    "Теперь нам осталось пройти по предсказанным моделью как ошибочным вызовам функций и понять, а действительно ли они ошибочные"
   ]
  }
 ],
 "metadata": {
  "kernelspec": {
   "display_name": "Python 3",
   "language": "python",
   "name": "python3"
  },
  "language_info": {
   "codemirror_mode": {
    "name": "ipython",
    "version": 3
   },
   "file_extension": ".py",
   "mimetype": "text/x-python",
   "name": "python",
   "nbconvert_exporter": "python",
   "pygments_lexer": "ipython3",
   "version": "3.8.2"
  }
 },
 "nbformat": 4,
 "nbformat_minor": 4
}
